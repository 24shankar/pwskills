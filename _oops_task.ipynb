{
 "cells": [
  {
   "cell_type": "markdown",
   "id": "a04cfa10-734d-4600-b6fb-862f3e2ba623",
   "metadata": {},
   "source": [
    "# Question.1"
   ]
  },
  {
   "cell_type": "markdown",
   "id": "a1057831-0a39-4060-bf13-faf128bcf0fc",
   "metadata": {},
   "source": [
    "## Create a vehicle class with an init method having instance variables as name_of_vehicle, max_speed and average_of_vehicle."
   ]
  },
  {
   "cell_type": "code",
   "execution_count": 4,
   "id": "7a34843d-3822-4482-923a-39db1827f848",
   "metadata": {},
   "outputs": [
    {
     "name": "stdout",
     "output_type": "stream",
     "text": [
      "Car\n",
      "200\n",
      "35\n"
     ]
    }
   ],
   "source": [
    "#Answer\n",
    "class Vehicle:\n",
    "    def __init__(self, name_of_vehicle, max_speed, average_of_vehicle):\n",
    "        self.name_of_vehicle = name_of_vehicle\n",
    "        self.max_speed = max_speed\n",
    "        self.average_of_vehicle = average_of_vehicle\n",
    "car = Vehicle(\"Car\", 200, 35)\n",
    "print(car.name_of_vehicle)  \n",
    "print(car.max_speed)        \n",
    "print(car.average_of_vehicle)  "
   ]
  },
  {
   "cell_type": "markdown",
   "id": "eea49fb3-7c0a-4d1f-a386-19b68b5a8dae",
   "metadata": {},
   "source": [
    "# Question.2"
   ]
  },
  {
   "cell_type": "markdown",
   "id": "58c1bf76-49d3-41f1-af48-7cd96ce4c74a",
   "metadata": {},
   "source": [
    "## Create a child class car from the vehicle class created in Que 1, which will inherit the vehicle class. Create a method named seating_capacity which takes capacity as an argument and returns the name of the vehicle and its seating capacity."
   ]
  },
  {
   "cell_type": "code",
   "execution_count": 5,
   "id": "16049058-fd54-4ab5-8972-afa7ba960d16",
   "metadata": {},
   "outputs": [
    {
     "name": "stdout",
     "output_type": "stream",
     "text": [
      "The Car has a seating capacity of 5 people.\n"
     ]
    }
   ],
   "source": [
    "#Answer:\n",
    "class Car(Vehicle):\n",
    "    def seating_capacity(self, capacity):\n",
    "        return f\"The {self.name_of_vehicle} has a seating capacity of {capacity} people.\"\n",
    "car = Car(\"Car\", 200, 35)\n",
    "print(car.seating_capacity(5))\n"
   ]
  },
  {
   "cell_type": "markdown",
   "id": "327c7d0f-3378-46ab-b046-a68f17b8819e",
   "metadata": {},
   "source": [
    "### the 'Car' class is defined as a child class of the 'Vehicle' class. It inherits all the attributes and methods from the parent class. The 'seating_capacity' method takes a parameter 'capacity' and returns a string that includes the name of the vehicle and its seating capacity. To create an instance of the 'Car' class and call the 'seating_capacity' method, "
   ]
  },
  {
   "cell_type": "markdown",
   "id": "07d20f3a-eb0b-42bd-9f54-f1ff838ffbd5",
   "metadata": {},
   "source": [
    "### we create a car object using the Car class, with the name \"Car\", a maximum speed of 200, and an average speed of 35. Then we call the 'seating_capacity' method on the 'car' object with a capacity of 5."
   ]
  },
  {
   "cell_type": "markdown",
   "id": "b500b9df-4d27-4abc-bebf-2727b8841b81",
   "metadata": {},
   "source": [
    "# Question.3"
   ]
  },
  {
   "cell_type": "markdown",
   "id": "f0235a02-bdea-40b6-8910-9fec5c5b1ab8",
   "metadata": {},
   "source": [
    "## What is multiple inheritance? Write a python code to demonstrate multiple inheritance."
   ]
  },
  {
   "cell_type": "markdown",
   "id": "d98c5de2-4500-474b-9ca1-18bd23069163",
   "metadata": {},
   "source": [
    "### Answer: Multiple inheritance is a feature in object-oriented programming languages that allows a class to inherit attributes and methods from more than one parent class. It enables a child class to inherit from multiple base classes, combining their features and functionalities. Here's an example code demonstrating multiple inheritance in Python:"
   ]
  },
  {
   "cell_type": "code",
   "execution_count": 6,
   "id": "fa12d937-faad-4ff4-8284-af07c70ec235",
   "metadata": {},
   "outputs": [
    {
     "name": "stdout",
     "output_type": "stream",
     "text": [
      "Sports Car is driving.\n",
      "Sports Car is flying.\n"
     ]
    }
   ],
   "source": [
    "class Vehicle:\n",
    "    def __init__(self, name):\n",
    "        self.name = name\n",
    "    \n",
    "    def drive(self):\n",
    "        print(f\"{self.name} is driving.\")\n",
    "\n",
    "class Flyable:\n",
    "    def fly(self):\n",
    "        print(f\"{self.name} is flying.\")\n",
    "\n",
    "class Car(Vehicle, Flyable):\n",
    "    def __init__(self, name):\n",
    "        super().__init__(name)\n",
    "\n",
    "car = Car(\"Sports Car\")\n",
    "car.drive()  \n",
    "car.fly()    \n"
   ]
  },
  {
   "cell_type": "markdown",
   "id": "a3e3b823-7db1-4e59-862e-ee8b2c653511",
   "metadata": {},
   "source": [
    "# Question.4"
   ]
  },
  {
   "cell_type": "markdown",
   "id": "27240f6e-8b13-4c28-bb23-b91ade5a1b75",
   "metadata": {},
   "source": [
    "## What are getter and setter in python? Create a class and create a getter and a setter method in this class."
   ]
  },
  {
   "cell_type": "markdown",
   "id": "9c7f9d71-751c-4424-b84f-de879f2e6400",
   "metadata": {},
   "source": [
    "### Ans: In Python, getters and setters are methods used to access and modify the values of class attributes. They provide a controlled way to retrieve and update the values of private attributes and allow encapsulation of data within the class. By using getters and setters, you can enforce data validation, apply logic, or perform additional operations whenever the attribute is accessed or modified."
   ]
  },
  {
   "cell_type": "code",
   "execution_count": 8,
   "id": "586d4cd6-f25e-4e86-a0d7-e15bacbc0bc8",
   "metadata": {},
   "outputs": [
    {
     "name": "stdout",
     "output_type": "stream",
     "text": [
      "Alice\n",
      "Bob\n"
     ]
    }
   ],
   "source": [
    "class Person:\n",
    "    def __init__(self, name):\n",
    "        self._name = name\n",
    "\n",
    "    def get_name(self):\n",
    "        return self._name\n",
    "\n",
    "    def set_name(self, new_name):\n",
    "        self._name = new_name\n",
    "person = Person(\"Alice\")\n",
    "print(person.get_name())  \n",
    "person.set_name(\"Bob\")\n",
    "print(person.get_name())  \n"
   ]
  },
  {
   "cell_type": "markdown",
   "id": "38295821-a88e-4376-adc2-ab57563fdab5",
   "metadata": {},
   "source": [
    "# Question.5"
   ]
  },
  {
   "cell_type": "markdown",
   "id": "9bac85d0-05ed-4b16-bb3c-5895641918f3",
   "metadata": {},
   "source": [
    "## What is method overriding in python? Write a python code to demonstrate method overriding."
   ]
  },
  {
   "cell_type": "markdown",
   "id": "0fc880fd-2720-46b1-9550-c7e7803e5849",
   "metadata": {},
   "source": [
    "### Ans: Method overriding is a feature in object-oriented programming that allows a subclass to provide a different implementation of a method that is already defined in its superclass. It provides a way to customize the behavior of a method inherited from the parent class."
   ]
  },
  {
   "cell_type": "code",
   "execution_count": 9,
   "id": "54a6ebc7-64b2-4f67-a494-83842484677a",
   "metadata": {},
   "outputs": [
    {
     "name": "stdout",
     "output_type": "stream",
     "text": [
      "The animal makes a sound.\n",
      "The cat meows.\n",
      "The dog barks.\n"
     ]
    }
   ],
   "source": [
    "class Animal:\n",
    "    def make_sound(self):\n",
    "        print(\"The animal makes a sound.\")\n",
    "\n",
    "class Cat(Animal):\n",
    "    def make_sound(self):\n",
    "        print(\"The cat meows.\")\n",
    "\n",
    "class Dog(Animal):\n",
    "    def make_sound(self):\n",
    "        print(\"The dog barks.\")\n",
    "\n",
    "animal = Animal()\n",
    "animal.make_sound()  \n",
    "\n",
    "cat = Cat()\n",
    "cat.make_sound()    \n",
    "\n",
    "dog = Dog()\n",
    "dog.make_sound()    \n"
   ]
  }
 ],
 "metadata": {
  "kernelspec": {
   "display_name": "Python 3 (ipykernel)",
   "language": "python",
   "name": "python3"
  },
  "language_info": {
   "codemirror_mode": {
    "name": "ipython",
    "version": 3
   },
   "file_extension": ".py",
   "mimetype": "text/x-python",
   "name": "python",
   "nbconvert_exporter": "python",
   "pygments_lexer": "ipython3",
   "version": "3.10.8"
  }
 },
 "nbformat": 4,
 "nbformat_minor": 5
}
