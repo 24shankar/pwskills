{
 "cells": [
  {
   "cell_type": "markdown",
   "id": "a1cda668-d843-4a5b-91c5-d35f509f452f",
   "metadata": {},
   "source": [
    "# Question.1"
   ]
  },
  {
   "cell_type": "markdown",
   "id": "90ba6569-c85c-40ae-9b93-5bc57dce654c",
   "metadata": {},
   "source": [
    "## write a program to accet percentage from the user and display the grade according to the following crirteria:                    \n",
    "                           marks                                                                                               grade\n",
    "                                >90                                                                                                   A\n",
    "                                 >80 and <=90                                                                           B\n",
    "                             >=60 and <=80                                                                             C\n",
    "                            below 60                                                                                           D"
   ]
  },
  {
   "cell_type": "code",
   "execution_count": 4,
   "id": "a13558d1-1072-43a8-9ea7-9e27dc8b4aaa",
   "metadata": {},
   "outputs": [
    {
     "name": "stdin",
     "output_type": "stream",
     "text": [
      "Enter the percentage:  90\n"
     ]
    },
    {
     "name": "stdout",
     "output_type": "stream",
     "text": [
      "Grade: B\n"
     ]
    }
   ],
   "source": [
    "percentage = float(input(\"Enter the percentage: \"))\n",
    "\n",
    "if percentage > 90:\n",
    "    grade = \"A\"\n",
    "elif percentage > 80:\n",
    "    grade = \"B\"\n",
    "elif percentage >= 60:\n",
    "    grade = \"C\"\n",
    "else:\n",
    "    grade = \"D\"\n",
    "\n",
    "print(f\"Grade: {grade}\")\n"
   ]
  },
  {
   "cell_type": "markdown",
   "id": "c1ac1d69-87bb-4539-a7ee-3fbdaab4bbf8",
   "metadata": {},
   "source": [
    "# Question.2"
   ]
  },
  {
   "cell_type": "markdown",
   "id": "ee0d4ee5-88b5-4b0d-b257-805e6833de0a",
   "metadata": {},
   "source": [
    "## write a program to accept the cost price of a bike and display the road tax to be paid according to the following criteria:\n",
    "                     tax                                                                                        costprice(in rs)\n",
    "                    15%                                                                                              >100000\n",
    "                      10%                                                                                    >50000 and <=100000\n",
    "                         5%                                                                                                  <=500000"
   ]
  },
  {
   "cell_type": "code",
   "execution_count": 5,
   "id": "35d6ae53-72d7-4497-b9da-6a564a13c199",
   "metadata": {},
   "outputs": [
    {
     "name": "stdin",
     "output_type": "stream",
     "text": [
      "Enter the cost price of the bike (in Rs):  100000\n"
     ]
    },
    {
     "name": "stdout",
     "output_type": "stream",
     "text": [
      "Road Tax to be paid: Rs 10000.00\n"
     ]
    }
   ],
   "source": [
    "cost_price = float(input(\"Enter the cost price of the bike (in Rs): \"))\n",
    "\n",
    "if cost_price > 100000:\n",
    "    road_tax = cost_price * 0.15\n",
    "elif cost_price > 50000:\n",
    "    road_tax = cost_price * 0.10\n",
    "else:\n",
    "    road_tax = cost_price * 0.05\n",
    "\n",
    "print(f\"Road Tax to be paid: Rs {road_tax:.2f}\")\n"
   ]
  },
  {
   "cell_type": "markdown",
   "id": "2d6f4422-9ede-4fcc-8584-4717cfeafe23",
   "metadata": {},
   "source": [
    "# Question.3"
   ]
  },
  {
   "cell_type": "markdown",
   "id": "9041d4b4-cde2-4ae1-be0e-cc04bb7ee038",
   "metadata": {},
   "source": [
    "## accept any from the user and display monuments of that city:\n",
    "                            city                                                       monument\n",
    "                            delhi                                                             red fort\n",
    "                               agra                                                               taj mahal\n",
    "                                  jaipur                                                               jai mahal"
   ]
  },
  {
   "cell_type": "code",
   "execution_count": 6,
   "id": "900d85b5-27a7-43e4-bcbf-effe6dcd505c",
   "metadata": {},
   "outputs": [
    {
     "name": "stdin",
     "output_type": "stream",
     "text": [
      "Enter the city name:  delhi\n"
     ]
    },
    {
     "name": "stdout",
     "output_type": "stream",
     "text": [
      "The monument of Delhi is Red Fort.\n"
     ]
    }
   ],
   "source": [
    "city = input(\"Enter the city name: \").lower()  \n",
    "\n",
    "monument = \"\"\n",
    "\n",
    "if city == \"delhi\":\n",
    "    monument = \"Red Fort\"\n",
    "elif city == \"agra\":\n",
    "    monument = \"Taj Mahal\"\n",
    "elif city == \"jaipur\":\n",
    "    monument = \"Jai Mahal\"\n",
    "\n",
    "if monument:\n",
    "    print(f\"The monument of {city.capitalize()} is {monument}.\")\n",
    "else:\n",
    "    print(\"Monument information not available for the entered city.\")\n"
   ]
  },
  {
   "cell_type": "markdown",
   "id": "2c814618-288d-4f97-9de0-003f18c0ae94",
   "metadata": {},
   "source": [
    "# Question.4"
   ]
  },
  {
   "cell_type": "markdown",
   "id": "b887d34b-9bb8-42d6-945b-9bd8cd610fd0",
   "metadata": {},
   "source": [
    "## check how many time a give number can be divide by 3 before it is less than or equal to10.\n",
    "\n"
   ]
  },
  {
   "cell_type": "code",
   "execution_count": 7,
   "id": "b651892c-b97d-480b-b74e-d14578d5a55d",
   "metadata": {},
   "outputs": [
    {
     "name": "stdin",
     "output_type": "stream",
     "text": [
      "Enter a number:  6\n"
     ]
    },
    {
     "name": "stdout",
     "output_type": "stream",
     "text": [
      "The number can be divided by 3 0 times before it becomes less than or equal to 10.\n"
     ]
    }
   ],
   "source": [
    "number = int(input(\"Enter a number: \"))\n",
    "count = 0\n",
    "\n",
    "while number > 10:\n",
    "    number /= 3\n",
    "    count += 1\n",
    "\n",
    "print(f\"The number can be divided by 3 {count} times before it becomes less than or equal to 10.\")\n"
   ]
  },
  {
   "cell_type": "markdown",
   "id": "c76b9b19-2061-49b8-b715-6c2e234ef2da",
   "metadata": {},
   "source": [
    "# Quesstion.5"
   ]
  },
  {
   "cell_type": "markdown",
   "id": "130ef490-1af8-4169-9ab2-50e0f1e6f7dc",
   "metadata": {},
   "source": [
    "## why and when to use while loop in python give a detailed description with example in python."
   ]
  },
  {
   "cell_type": "markdown",
   "id": "3099f765-2504-4362-9224-fa77ec9797c6",
   "metadata": {},
   "source": [
    "A `while` loop in Python is used to repeatedly execute a block of code as long as a certain condition is true. The loop continues iterating as long as the condition remains true. The moment the condition becomes false, the loop exits, and the program continues executing the code after the loop.\n",
    "\n",
    "Here's the general syntax of a `while` loop:\n",
    "\n",
    "```python\n",
    "while condition:\n",
    "   \n",
    "```\n",
    "\n",
    "When to Use a `while` Loop:\n",
    "- **When the Number of Iterations is Unknown:** Use a `while` loop when you don't know beforehand how many times the loop needs to run, and you want to keep iterating until a specific condition is met.\n",
    "\n",
    "- **When Iteration Depends on a Dynamic Condition:** If the number of iterations depends on a condition that can change dynamically during execution, a `while` loop is suitable.\n",
    "\n",
    "- **Waiting for User Input:** If you want to repeatedly ask the user for input and perform some action until a specific input is given or a certain condition is satisfied, a `while` loop is handy.\n",
    "\n",
    "- **Handling Events:** In situations where you want to continuously check for an event or condition and take action when that condition is met, a `while` loop can be used.\n",
    "\n",
    "Here's an example of using a `while` loop to keep asking the user for a number until a positive number is provided:\n",
    "\n",
    "```python\n",
    "while True:\n",
    "    number = int(input(\"Enter a positive number: \"))\n",
    "    if number > 0:\n",
    "        break  # Exit the loop if a positive number is provided\n",
    "    else:\n",
    "        print(\"Invalid input. Please enter a positive number.\")\n",
    "```\n",
    "\n",
    "In this example, the loop continues running indefinitely until the user provides a positive number. When a positive number is provided, the `break` statement is used to exit the loop.\n",
    "\n",
    "Remember that using a `while` loop requires careful consideration of the loop's termination condition. Without a proper exit condition, the loop can run infinitely, leading to a program that never completes. Always ensure that the condition you're checking will eventually become false to avoid unintended infinite loops."
   ]
  },
  {
   "cell_type": "markdown",
   "id": "3742e0d3-945d-448e-8885-47fd4e0f1f22",
   "metadata": {},
   "source": [
    "# Question.6"
   ]
  },
  {
   "cell_type": "markdown",
   "id": "6a6e0a32-2f26-4b45-b2a2-322fcb5e0ada",
   "metadata": {},
   "source": [
    "## use nested while loop to print 3 different pattern"
   ]
  },
  {
   "cell_type": "markdown",
   "id": "fb8f06aa-3f15-4f84-ae1a-62ca197e860b",
   "metadata": {},
   "source": [
    "Pattern 1: Right Triangle\n",
    "```\n",
    "*\n",
    "* *\n",
    "* * *\n",
    "* * * *\n",
    "* * * * *\n",
    "```\n",
    "\n",
    "```python\n",
    "row = 1\n",
    "while row <= 5:\n",
    "    col = 1\n",
    "    while col <= row:\n",
    "        print(\"*\", end=\" \")\n",
    "        col += 1\n",
    "    print()\n",
    "    row += 1\n",
    "```\n",
    "\n",
    "Pattern 2: Inverted Right Triangle\n",
    "```\n",
    "* * * * *\n",
    "* * * *\n",
    "* * *\n",
    "* *\n",
    "*\n",
    "```\n",
    "\n",
    "```python\n",
    "row = 5\n",
    "while row >= 1:\n",
    "    col = 1\n",
    "    while col <= row:\n",
    "        print(\"*\", end=\" \")\n",
    "        col += 1\n",
    "    print()\n",
    "    row -= 1\n",
    "```\n",
    "\n",
    "Pattern 3: Pyramid\n",
    "```\n",
    "    *\n",
    "   * *\n",
    "  * * *\n",
    " * * * *\n",
    "* * * * *\n",
    "```\n",
    "\n",
    "```python\n",
    "row = 1\n",
    "while row <= 5:\n",
    "    spaces = 5 - row\n",
    "    while spaces > 0:\n",
    "        print(\" \", end=\" \")\n",
    "        spaces -= 1\n",
    "    \n",
    "    col = 1\n",
    "    while col <= row:\n",
    "        print(\"*\", end=\" \")\n",
    "        col += 1\n",
    "    print()\n",
    "    row += 1\n",
    "```\n",
    "\n",
    "Copy and paste each block of code into a Python interpreter or a script file and run it. Each code block will print the corresponding pattern using nested `while` loops."
   ]
  },
  {
   "cell_type": "markdown",
   "id": "392abad1-da02-40cb-b0d6-8a50fad5265c",
   "metadata": {},
   "source": [
    "# Question.7"
   ]
  },
  {
   "cell_type": "markdown",
   "id": "ab8a0aea-3d70-47e8-b5c4-353016c8f9ca",
   "metadata": {},
   "source": [
    "## reverse while loop to display number from 10 to 1"
   ]
  },
  {
   "cell_type": "code",
   "execution_count": 11,
   "id": "82cd62b5-f8fc-4392-90a2-171df4d7dbd4",
   "metadata": {},
   "outputs": [
    {
     "name": "stdout",
     "output_type": "stream",
     "text": [
      "10\n",
      "9\n",
      "8\n",
      "7\n",
      "6\n",
      "5\n",
      "4\n",
      "3\n",
      "2\n",
      "1\n"
     ]
    }
   ],
   "source": [
    "num = 10\n",
    "while num >= 1:\n",
    "    print(num)\n",
    "    num -= 1\n"
   ]
  },
  {
   "cell_type": "markdown",
   "id": "8f16b444-2637-4566-b048-7bdb9d4777e8",
   "metadata": {},
   "source": [
    "# Question.8"
   ]
  },
  {
   "cell_type": "markdown",
   "id": "e25eb997-73dc-439e-a37a-e7022805c84e",
   "metadata": {},
   "source": [
    "## reverse a while loop o display number from 10 to 1."
   ]
  },
  {
   "cell_type": "code",
   "execution_count": 12,
   "id": "73b4144a-9303-434c-8e0c-45bde6730396",
   "metadata": {},
   "outputs": [
    {
     "name": "stdout",
     "output_type": "stream",
     "text": [
      "10 9 8 7 6 5 4 3 2 1 "
     ]
    }
   ],
   "source": [
    "num = 10\n",
    "while num >= 1:\n",
    "    print(num, end=\" \")\n",
    "    num -= 1\n"
   ]
  },
  {
   "cell_type": "code",
   "execution_count": null,
   "id": "8fc1d518-528e-4c60-8bb6-4da71a869428",
   "metadata": {},
   "outputs": [],
   "source": []
  }
 ],
 "metadata": {
  "kernelspec": {
   "display_name": "Python 3 (ipykernel)",
   "language": "python",
   "name": "python3"
  },
  "language_info": {
   "codemirror_mode": {
    "name": "ipython",
    "version": 3
   },
   "file_extension": ".py",
   "mimetype": "text/x-python",
   "name": "python",
   "nbconvert_exporter": "python",
   "pygments_lexer": "ipython3",
   "version": "3.10.8"
  }
 },
 "nbformat": 4,
 "nbformat_minor": 5
}
