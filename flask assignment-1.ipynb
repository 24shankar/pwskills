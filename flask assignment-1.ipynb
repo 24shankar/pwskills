{
 "cells": [
  {
   "cell_type": "markdown",
   "id": "4f898372-25c5-4445-94b4-e4650c9092d1",
   "metadata": {},
   "source": [
    "# Question.1"
   ]
  },
  {
   "cell_type": "markdown",
   "id": "b7b8c317-af74-4f16-894f-4e3ec09fcd85",
   "metadata": {},
   "source": [
    "## What is Flask Framework? What are the advantages of Flask Framework?"
   ]
  },
  {
   "cell_type": "markdown",
   "id": "ab2b72c5-3725-4bab-8fef-26556450cbfe",
   "metadata": {},
   "source": [
    "### Ans: Flask is a micro web framework for Python. It is designed to be lightweight and simple, providing developers with the essentials for building web applications quickly and efficiently. Flask is known for its minimalistic approach, giving developers flexibility and freedom to choose the components and libraries they need to create their applications.\n",
    "Advantages of Flask Framework:\n",
    "1. Simplicity: Flask follows a minimalist design philosophy, making it easy to understand, learn, and use. Its simple and intuitive API allows developers to quickly build web applications without unnecessary complexity or overhead.\n",
    "2. Flexibility: Flask is highly flexible and allows developers to choose and integrate the components they need. It does not enforce a specific directory structure or impose rigid patterns, giving developers the freedom to structure their application as they see fit.\n",
    "3. Lightweight: Flask has a small footprint and minimal dependencies, making it lightweight and efficient. It does not come bundled with unnecessary features, reducing the overhead and enabling faster startup times and better performance.\n",
    "4. Extensibility: Flask provides a modular design that allows developers to add additional functionality through extensions. There is a wide range of Flask extensions available for various features like authentication, database integration, form handling, and more, enabling developers to easily extend the capabilities of their applications.\n",
    "5. Python Integration: Flask is built on Python, leveraging the power and versatility of the Python programming language. This integration allows developers to take advantage of Python's extensive ecosystem, libraries, and tools, making it easier to build web applications with Flask.\n",
    "6. Testing Support: Flask provides excellent support for testing, making it easier to write test cases and perform unit testing and integration testing of web applications. It provides tools and utilities for simulating requests, handling test contexts, and validating responses.\n",
    "7. Active Community: Flask has a large and active community of developers, which means there are abundant resources, tutorials, and community-driven plugins available. The community support and contributions ensure that Flask stays up-to-date, well-documented, and continuously evolving.\n",
    "8. Scalability: While Flask is suitable for small and medium-sized projects, it is also scalable for larger applications. Developers can structure their Flask applications using modular practices and apply design patterns to ensure scalability as their projects grow."
   ]
  },
  {
   "cell_type": "markdown",
   "id": "b61a7e1c-418f-48a1-88b2-39976b522626",
   "metadata": {},
   "source": [
    "# Question.2"
   ]
  },
  {
   "cell_type": "markdown",
   "id": "26faa05d-4a5e-477f-b4fc-40f1a90333b5",
   "metadata": {},
   "source": [
    "## Create a simple Flask application to display ‘Hello World!!’. Attach the screenshot of the output in Jupyter Notebook."
   ]
  },
  {
   "cell_type": "code",
   "execution_count": null,
   "id": "38d22277-53ab-42b1-a077-a69cb991408c",
   "metadata": {},
   "outputs": [
    {
     "name": "stdout",
     "output_type": "stream",
     "text": [
      " * Serving Flask app '__main__'\n",
      " * Debug mode: off\n"
     ]
    },
    {
     "name": "stderr",
     "output_type": "stream",
     "text": [
      "WARNING: This is a development server. Do not use it in a production deployment. Use a production WSGI server instead.\n",
      " * Running on http://127.0.0.1:5000\n",
      "Press CTRL+C to quit\n"
     ]
    }
   ],
   "source": [
    "### Ans:\n",
    "from flask import Flask\n",
    "\n",
    "app = Flask(__name__)\n",
    "\n",
    "@app.route('/')\n",
    "def hello_world():\n",
    "    return 'Hello World!!'\n",
    "\n",
    "if __name__ == '__main__':\n",
    "    app.run()\n"
   ]
  },
  {
   "cell_type": "code",
   "execution_count": 2,
   "id": "3724096c-4250-4bed-b7d9-d5b402efd234",
   "metadata": {},
   "outputs": [
    {
     "name": "stdout",
     "output_type": "stream",
     "text": [
      "Collecting flask\n",
      "  Downloading Flask-2.3.2-py3-none-any.whl (96 kB)\n",
      "\u001b[2K     \u001b[90m━━━━━━━━━━━━━━━━━━━━━━━━━━━━━━━━━━━━━━━━\u001b[0m \u001b[32m96.9/96.9 kB\u001b[0m \u001b[31m5.0 MB/s\u001b[0m eta \u001b[36m0:00:00\u001b[0m\n",
      "\u001b[?25hRequirement already satisfied: Jinja2>=3.1.2 in /opt/conda/lib/python3.10/site-packages (from flask) (3.1.2)\n",
      "Collecting Werkzeug>=2.3.3\n",
      "  Downloading Werkzeug-2.3.4-py3-none-any.whl (242 kB)\n",
      "\u001b[2K     \u001b[90m━━━━━━━━━━━━━━━━━━━━━━━━━━━━━━━━━━━━━━\u001b[0m \u001b[32m242.5/242.5 kB\u001b[0m \u001b[31m25.2 MB/s\u001b[0m eta \u001b[36m0:00:00\u001b[0m\n",
      "\u001b[?25hCollecting blinker>=1.6.2\n",
      "  Downloading blinker-1.6.2-py3-none-any.whl (13 kB)\n",
      "Requirement already satisfied: click>=8.1.3 in /opt/conda/lib/python3.10/site-packages (from flask) (8.1.3)\n",
      "Collecting itsdangerous>=2.1.2\n",
      "  Downloading itsdangerous-2.1.2-py3-none-any.whl (15 kB)\n",
      "Requirement already satisfied: MarkupSafe>=2.0 in /opt/conda/lib/python3.10/site-packages (from Jinja2>=3.1.2->flask) (2.1.1)\n",
      "Installing collected packages: Werkzeug, itsdangerous, blinker, flask\n",
      "  Attempting uninstall: blinker\n",
      "    Found existing installation: blinker 1.5\n",
      "    Uninstalling blinker-1.5:\n",
      "      Successfully uninstalled blinker-1.5\n",
      "Successfully installed Werkzeug-2.3.4 blinker-1.6.2 flask-2.3.2 itsdangerous-2.1.2\n",
      "Note: you may need to restart the kernel to use updated packages.\n"
     ]
    }
   ],
   "source": [
    "pip install flask\n"
   ]
  },
  {
   "cell_type": "markdown",
   "id": "0046a7a6-5815-47d4-89dd-5d7ba9a616e5",
   "metadata": {},
   "source": [
    "# Question.3"
   ]
  },
  {
   "cell_type": "markdown",
   "id": "5e17e5e9-6568-4af7-ae11-37e03c82452a",
   "metadata": {},
   "source": [
    "## What is App routing in Flask? Why do we use app routes?"
   ]
  },
  {
   "cell_type": "markdown",
   "id": "05b2dcf5-b141-4233-90d0-0552ddc03968",
   "metadata": {},
   "source": [
    "### Ans: In Flask, app routing refers to the process of defining URL routes or endpoints within a Flask application. These routes determine how the application handles incoming requests from clients and what response to send back.\n",
    "In Flask, app routing is achieved using the `@app.route()` decorator, which is applied to a Python function that represents the view or handler for a specific URL route. The decorator associates the function with a URL pattern, allowing Flask to map incoming requests to the appropriate function for processing.\n",
    "For example, consider the following Flask code snippet:\n",
    "```python\n",
    "from flask import Flask\n",
    "\n",
    "app = Flask(__name__)\n",
    "\n",
    "@app.route('/')\n",
    "def home():\n",
    "    return 'This is the home page'\n",
    "\n",
    "@app.route('/about')\n",
    "def about():\n",
    "    return 'This is the about page'\n",
    "\n",
    "if __name__ == '__main__':\n",
    "    app.run()\n",
    "```\n",
    "Using app routes in Flask offers several benefits:\n",
    "1. URL Mapping: App routes allow you to map specific URLs or URL patterns to corresponding functions, providing a structured and organized way to handle different routes within your application.\n",
    "2. Request Handling: App routes define how Flask should handle incoming requests from clients. By associating routes with appropriate view functions, you can perform specific actions or generate dynamic responses based on the requested URL.\n",
    "3. Separation of Concerns: App routes help separate different parts of your application's functionality. Each route can be associated with a specific function, allowing you to organize and maintain code more efficiently.\n",
    "4. Route Flexibility: Flask provides flexibility in defining routes. You can use dynamic route segments, query parameters, or specify HTTP methods to further customize and handle specific types of requests."
   ]
  },
  {
   "cell_type": "markdown",
   "id": "8155d5ef-436b-4ced-bc50-1ff75b041099",
   "metadata": {},
   "source": [
    "# Question.4"
   ]
  },
  {
   "cell_type": "markdown",
   "id": "5edc7395-2d8a-44c8-b9e0-518a8895abbe",
   "metadata": {},
   "source": [
    "## Create a “/welcome” route to display the welcome message “Welcome to ABC Corporation” and a “/” route to show the following details: Company Name: ABC Corporation Location: India Contact Detail: 999-999-9999"
   ]
  },
  {
   "cell_type": "code",
   "execution_count": null,
   "id": "6f447159-47d4-4aee-bdc0-6346ba2441c6",
   "metadata": {},
   "outputs": [],
   "source": [
    "### Ans: from flask import Flask\n",
    "\n",
    "app = Flask(__name__)\n",
    "\n",
    "@app.route('/welcome')\n",
    "def welcome():\n",
    "    return 'Welcome to ABC Corporation'\n",
    "\n",
    "@app.route('/')\n",
    "def company_details():\n",
    "    return '''Company Name: ABC Corporation\n",
    "              Location: India\n",
    "              Contact Detail: 999-999-9999'''\n",
    "\n",
    "if __name__ == '__main__':\n",
    "    app.run()\n"
   ]
  },
  {
   "cell_type": "markdown",
   "id": "ad3d6001-369a-41b6-a430-64f574c1025a",
   "metadata": {},
   "source": [
    "# Question.5"
   ]
  },
  {
   "cell_type": "markdown",
   "id": "d0f60ec5-3a90-4425-97ea-b18bdd305f5a",
   "metadata": {},
   "source": [
    "## What function is used in Flask for URL Building? Write a Python code to demonstrate the working of the url_for() function."
   ]
  },
  {
   "cell_type": "code",
   "execution_count": null,
   "id": "a2e8a171-6264-439a-a2a6-8a6b69beb765",
   "metadata": {},
   "outputs": [],
   "source": [
    "from flask import Flask, url_for\n",
    "\n",
    "app = Flask(__name__)\n",
    "\n",
    "@app.route('/')\n",
    "def home():\n",
    "    return 'This is the home page'\n",
    "\n",
    "@app.route('/about')\n",
    "def about():\n",
    "    return 'This is the about page'\n",
    "\n",
    "@app.route('/user/<username>')\n",
    "def user_profile(username):\n",
    "    return f'This is the profile page of {username}'\n",
    "\n",
    "if __name__ == '__main__':\n",
    "    with app.test_request_context():\n",
    "        # Generate URLs using the url_for() function\n",
    "        home_url = url_for('home')\n",
    "        about_url = url_for('about')\n",
    "        user_url = url_for('user_profile', username='john')\n",
    "\n",
    "        # Print the generated URLs\n",
    "        print('Home URL:', home_url)\n",
    "        print('About URL:', about_url)\n",
    "        print('User Profile URL:', user_url)\n"
   ]
  }
 ],
 "metadata": {
  "kernelspec": {
   "display_name": "Python 3 (ipykernel)",
   "language": "python",
   "name": "python3"
  },
  "language_info": {
   "codemirror_mode": {
    "name": "ipython",
    "version": 3
   },
   "file_extension": ".py",
   "mimetype": "text/x-python",
   "name": "python",
   "nbconvert_exporter": "python",
   "pygments_lexer": "ipython3",
   "version": "3.10.8"
  }
 },
 "nbformat": 4,
 "nbformat_minor": 5
}
