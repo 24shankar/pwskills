{
 "cells": [
  {
   "cell_type": "markdown",
   "id": "af4aa6c0-5001-41f9-92a6-08374953d751",
   "metadata": {},
   "source": [
    "# Question.1"
   ]
  },
  {
   "cell_type": "markdown",
   "id": "2d650e97-3427-47cf-8176-7b2edb625b24",
   "metadata": {},
   "source": [
    "## Create a Pandas Series that contains the following data: 4, 8, 15, 16, 23, and 42. Then, print the series."
   ]
  },
  {
   "cell_type": "code",
   "execution_count": 1,
   "id": "dc7a19d4-32b3-4302-9436-4af27f977ee2",
   "metadata": {},
   "outputs": [
    {
     "name": "stdout",
     "output_type": "stream",
     "text": [
      "0     4\n",
      "1     8\n",
      "2    15\n",
      "3    16\n",
      "4    23\n",
      "5    42\n",
      "dtype: int64\n"
     ]
    }
   ],
   "source": [
    "#Answer\n",
    "import pandas as pd\n",
    "\n",
    "data = [4, 8, 15, 16, 23, 42]\n",
    "series = pd.Series(data)\n",
    "print(series)\n"
   ]
  },
  {
   "cell_type": "markdown",
   "id": "5f7f2946-ae4a-44db-8a08-7bb9fb587840",
   "metadata": {},
   "source": [
    "# Question.2"
   ]
  },
  {
   "cell_type": "markdown",
   "id": "863387ac-8e19-4dee-bf86-7bcbc38dcfe4",
   "metadata": {},
   "source": [
    "## Create a variable of list type containing 10 elements in it, and apply pandas.Series function on the variable print it."
   ]
  },
  {
   "cell_type": "code",
   "execution_count": 2,
   "id": "11665289-903c-422d-8e58-06568bfae23b",
   "metadata": {},
   "outputs": [
    {
     "name": "stdout",
     "output_type": "stream",
     "text": [
      "0     1\n",
      "1     2\n",
      "2     3\n",
      "3     4\n",
      "4     5\n",
      "5     6\n",
      "6     7\n",
      "7     8\n",
      "8     9\n",
      "9    10\n",
      "dtype: int64\n"
     ]
    }
   ],
   "source": [
    "#Answer\n",
    "import pandas as pd\n",
    "\n",
    "my_list = [1, 2, 3, 4, 5, 6, 7, 8, 9, 10]\n",
    "series = pd.Series(my_list)\n",
    "print(series)\n"
   ]
  },
  {
   "cell_type": "markdown",
   "id": "d34d5f7c-c5c3-422a-81bd-8fb3ac1d0f9e",
   "metadata": {},
   "source": [
    "# Question.3"
   ]
  },
  {
   "cell_type": "markdown",
   "id": "066e55a8-5bd2-4e45-8f94-da62f948ba6f",
   "metadata": {},
   "source": [
    "## Create a Pandas DataFrame that contains the following data:\n",
    "Name\n",
    "Alice\n",
    "Bob\n",
    "Claire\n",
    "Age\n",
    "25\n",
    "30\n",
    "27\n",
    "\n",
    "Gender\n",
    "Female\n",
    "Male\n",
    "Female\n",
    "Then, print the DataFrame."
   ]
  },
  {
   "cell_type": "code",
   "execution_count": 3,
   "id": "bacf04f0-1c2d-4c5a-831b-696478e81a3f",
   "metadata": {},
   "outputs": [
    {
     "name": "stdout",
     "output_type": "stream",
     "text": [
      "     Name  Age  Gender\n",
      "0   Alice   25  Female\n",
      "1     Bob   30    Male\n",
      "2  Claire   27  Female\n"
     ]
    }
   ],
   "source": [
    "import pandas as pd\n",
    "\n",
    "data = {\n",
    "    'Name': ['Alice', 'Bob', 'Claire'],\n",
    "    'Age': [25, 30, 27],\n",
    "    'Gender': ['Female', 'Male', 'Female']\n",
    "}\n",
    "\n",
    "df = pd.DataFrame(data)\n",
    "print(df)\n"
   ]
  },
  {
   "cell_type": "markdown",
   "id": "12479b2a-990c-499e-8c2c-ce7948c862d1",
   "metadata": {},
   "source": [
    "# Question.4"
   ]
  },
  {
   "cell_type": "markdown",
   "id": "a2c0a735-f70e-470a-a8be-1fe6240c8403",
   "metadata": {},
   "source": [
    "## What is ‘DataFrame’ in pandas and how is it different from pandas.series? Explain with an example."
   ]
  },
  {
   "cell_type": "markdown",
   "id": "eb6ef3b3-0ff4-4c38-8a62-e9d27a2ec3c3",
   "metadata": {},
   "source": [
    "## In pandas, a DataFrame is a two-dimensional labeled data structure that represents tabular data. It consists of rows and columns, similar to a table in a relational database or a spreadsheet. A DataFrame can store data of different types (e.g., numbers, strings, booleans) and provides powerful functionalities for data manipulation and analysis.\n",
    "On the other hand, a Series is a one-dimensional labeled array in pandas. It is similar to a column in a DataFrame or a single column from a spreadsheet. A Series can hold data of a single data type, such as integers, floats, strings, or booleans. It is indexed, allowing for efficient data access and alignment.\n",
    "Here's an example to illustrate the difference between a DataFrame and a Series:\n",
    "```python\n",
    "import pandas as pd\n",
    "# Creating a DataFrame\n",
    "data = {\n",
    "    'Name': ['Alice', 'Bob', 'Claire'],\n",
    "    'Age': [25, 30, 27],\n",
    "    'Gender': ['Female', 'Male', 'Female']\n",
    "}\n",
    "\n",
    "df = pd.DataFrame(data)\n",
    "print(\"DataFrame:\")\n",
    "print(df)\n",
    "print()\n",
    "\n",
    "# Creating a Series\n",
    "ages = pd.Series([25, 30, 27], name='Age')\n",
    "print(\"Series:\")\n",
    "print(ages)\n",
    "```\n",
    "\n",
    "Output:\n",
    "```\n",
    "DataFrame:\n",
    "    Name  Age  Gender\n",
    "0  Alice   25  Female\n",
    "1    Bob   30    Male\n",
    "2  Claire   27  Female\n",
    "\n",
    "Series:\n",
    "0    25\n",
    "1    30\n",
    "2    27\n",
    "Name: Age, dtype: int64\n",
    "```"
   ]
  },
  {
   "cell_type": "markdown",
   "id": "81ab5700-db99-4835-b217-d1d4dd644655",
   "metadata": {},
   "source": [
    "# Question.5"
   ]
  },
  {
   "cell_type": "markdown",
   "id": "d5a02167-aa3b-422c-a3c8-aa7f4da882be",
   "metadata": {},
   "source": [
    "## What are some common functions you can use to manipulate data in a Pandas DataFrame? Can you give an example of when you might use one of these functions?"
   ]
  },
  {
   "cell_type": "markdown",
   "id": "015fc02d-1226-4ec7-9ad8-c97374d4a608",
   "metadata": {},
   "source": [
    "## Pandas provides a wide range of functions to manipulate and transform data in a DataFrame. Here are some commonly used functions:\n",
    "1. `head()` and `tail()`: These functions allow you to view the first or last few rows of a DataFrame, respectively. They are useful for quickly inspecting the data. For example, you might use `df.head()` to get a glimpse of the first few records in a large dataset.\n",
    "2. `info()`: This function provides a summary of the DataFrame, including the column names, data types, and non-null counts. It is helpful for understanding the structure of the data. For instance, you might use `df.info()` to check if any columns have missing values.\n",
    "3. `describe()`: This function generates descriptive statistics of the numeric columns in the DataFrame, such as count, mean, standard deviation, minimum, maximum, and quartile values. It gives you a statistical summary of the data. For example, you might use `df.describe()` to get an overview of the central tendencies and spread of the numerical data.\n",
    "4. `sort_values()`: This function allows you to sort the DataFrame by one or more columns. You can specify the column(s) by which to sort and the order (ascending or descending). It is useful for arranging the data in a specific order. For instance, you might use `df.sort_values('Age', ascending=False)` to sort the DataFrame by the 'Age' column in descending order.\n",
    "5. `groupby()`: This function is used to group the data based on one or more columns. It enables you to perform aggregate operations on subsets of the data. You can then apply functions like `sum()`, `mean()`, `count()`, etc., to calculate summary statistics within each group. For example, you might use `df.groupby('Gender')['Age'].mean()` to calculate the average age for each gender in the DataFrame.\n",
    "6. `fillna()`: This function allows you to fill missing values in the DataFrame with a specified value or a method such as forward fill (`ffill()`) or backward fill (`bfill()`). It helps in handling missing data. For instance, you might use `df.fillna(0)` to replace all missing values in the DataFrame with zeros."
   ]
  },
  {
   "cell_type": "markdown",
   "id": "e691d3e9-20c4-43ff-a724-d6eb6a89d1b1",
   "metadata": {},
   "source": [
    "# Question.6"
   ]
  },
  {
   "cell_type": "markdown",
   "id": "418a4111-49f7-4bec-9165-c502cea7f04b",
   "metadata": {},
   "source": [
    "## Which of the following is mutable in nature Series, DataFrame, Panel?"
   ]
  },
  {
   "cell_type": "markdown",
   "id": "ef1edd5b-c306-4ae5-9f9e-9a257127adfb",
   "metadata": {},
   "source": [
    "## Among the options provided, both Series and DataFrame are mutable in nature in Pandas. On the other hand, Panel is not mutable.\n",
    "In Pandas, a mutable object can be modified after its creation. This means that you can change or update its values, add or remove elements, and perform various operations that alter its content.\n",
    "Series and DataFrame in Pandas are mutable because you can modify their values, add or remove columns/rows, and apply operations that change the data within them. For example, you can update specific values in a Series or DataFrame, add new columns or rows, and perform operations like merging, grouping, or filtering that modify the structure or content of the data.\n",
    "On the other hand, Panel is not mutable in Pandas. Panel is a three-dimensional data structure that was available in earlier versions of Pandas. However, starting from Pandas version 0.20.0, Panel has been deprecated, and the recommended practice is to use MultiIndex DataFrame or other data structures for similar use cases. Therefore, since Panel is not part of the current Pandas design and is not recommended for use, it is not mutable."
   ]
  },
  {
   "cell_type": "markdown",
   "id": "ff97fd15-3fa7-4e5a-8f4e-e5e9793427d2",
   "metadata": {},
   "source": [
    "# Question.7"
   ]
  },
  {
   "cell_type": "markdown",
   "id": "6d1d162c-439d-41eb-8043-eb75a39777d7",
   "metadata": {},
   "source": [
    "## Create a DataFrame using multiple Series. Explain with an example."
   ]
  },
  {
   "cell_type": "markdown",
   "id": "27908e69-f869-4224-8792-303e29606952",
   "metadata": {},
   "source": [
    "### To create a DataFrame using multiple Series, you can pass a dictionary of Series objects to the `pd.DataFrame()` function. Each Series will be treated as a column in the DataFrame, and the keys of the dictionary will become the column names. Here's an example to illustrate this:\n",
    "```python\n",
    "import pandas as pd\n",
    "name_series = pd.Series(['Alice', 'Bob', 'Claire'])\n",
    "age_series = pd.Series([25, 30, 27])\n",
    "gender_series = pd.Series(['Female', 'Male', 'Female'])\n",
    "data = {\n",
    "    'Name': name_series,\n",
    "    'Age': age_series,\n",
    "    'Gender': gender_series\n",
    "}\n",
    "df = pd.DataFrame(data)\n",
    "print(df)\n",
    "```\n",
    "Output:\n",
    "```\n",
    "    Name  Age  Gender\n",
    "0  Alice   25  Female\n",
    "1    Bob   30    Male\n",
    "2  Claire   27  Female\n",
    "```\n",
    "In this example, we create three separate Series objects: `name_series`, `age_series`, and `gender_series`. Each Series represents a column of data, namely 'Name', 'Age', and 'Gender'."
   ]
  }
 ],
 "metadata": {
  "kernelspec": {
   "display_name": "Python 3 (ipykernel)",
   "language": "python",
   "name": "python3"
  },
  "language_info": {
   "codemirror_mode": {
    "name": "ipython",
    "version": 3
   },
   "file_extension": ".py",
   "mimetype": "text/x-python",
   "name": "python",
   "nbconvert_exporter": "python",
   "pygments_lexer": "ipython3",
   "version": "3.10.8"
  }
 },
 "nbformat": 4,
 "nbformat_minor": 5
}
