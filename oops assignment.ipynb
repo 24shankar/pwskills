{
 "cells": [
  {
   "cell_type": "markdown",
   "id": "ccf76f1c-0972-47aa-96e5-818354c013b9",
   "metadata": {},
   "source": [
    "# Question.1"
   ]
  },
  {
   "cell_type": "markdown",
   "id": "44ab9fb5-041f-43b8-af33-856794eb6ee7",
   "metadata": {},
   "source": [
    "## Explain Class and Object with respect to Object-Oriented Programming. Give a suitable example."
   ]
  },
  {
   "cell_type": "markdown",
   "id": "f897d57d-d404-453e-807d-0bb555cecdf4",
   "metadata": {},
   "source": [
    "## Ans: an object-oriented programming (OOP), a class is a blueprint or template that defines the characteristics and behaviors of a particular type of object. It serves as a blueprint for creating objects, which are instances of the class. An object, on the other hand, is a specific instance of a class that can have its own unique data and behavior.Let's consider a simple example to illustrate the concept of class and object. Suppose we have a class called \"Car\" that represents a generic car. The Car class can have attributes such as brand, color, and fuel type, and behaviors such as starting, stopping, and accelerating."
   ]
  },
  {
   "cell_type": "code",
   "execution_count": 2,
   "id": "a5842f8a-4f12-43b4-92df-38304dccd2a9",
   "metadata": {},
   "outputs": [
    {
     "name": "stdout",
     "output_type": "stream",
     "text": [
      "Brand: Toyota\n",
      "Color: Red\n",
      "Fuel Type: Petrol\n",
      "The car has started.\n",
      "The car is accelerating.\n",
      "The car has stopped.\n"
     ]
    }
   ],
   "source": [
    "# Define the Car class\n",
    "class Car:\n",
    "    def __init__(self, brand, color, fuel_type):\n",
    "        self.brand = brand\n",
    "        self.color = color\n",
    "        self.fuel_type = fuel_type\n",
    "    def start(self):\n",
    "        print(\"The car has started.\")\n",
    "    def stop(self):\n",
    "        print(\"The car has stopped.\")\n",
    "    def accelerate(self):\n",
    "        print(\"The car is accelerating.\")\n",
    "my_car = Car(\"Toyota\", \"Red\", \"Petrol\")\n",
    "print(\"Brand:\", my_car.brand)\n",
    "print(\"Color:\", my_car.color)\n",
    "print(\"Fuel Type:\", my_car.fuel_type)\n",
    "my_car.start()\n",
    "my_car.accelerate()\n",
    "my_car.stop()"
   ]
  },
  {
   "cell_type": "markdown",
   "id": "1f9b8ca7-a9f0-4ebc-85b6-43e7048a3b53",
   "metadata": {},
   "source": [
    "# Question.2"
   ]
  },
  {
   "cell_type": "markdown",
   "id": "d655de82-4e7d-4e9f-ad2d-63d63288db5e",
   "metadata": {},
   "source": [
    "## Name the four pillars of OOPs."
   ]
  },
  {
   "cell_type": "markdown",
   "id": "ee1107b1-da3e-4f3e-b815-cc3954dac8e8",
   "metadata": {},
   "source": [
    "### The four pillars of object-oriented programming (OOP) are:1. Encapsulation: Encapsulation is the process of bundling data and methods together within a class to create an object. It allows the data to be hidden and accessed only through the defined methods, ensuring data integrity and security. Encapsulation also provides a way to organize and structure code, making it more modular and maintainable. 2)Inheritance: Inheritance is a mechanism that enables a class to inherit properties and behaviors from another class. It allows the creation of a hierarchy of classes where the derived or child classes inherit the characteristics of the base or parent class. Inheritance promotes code reusability and helps in creating specialized classes based on a more general class3. Polymorphism: Polymorphism allows objects of different classes to be treated as objects of a common superclass. It provides the ability to use a single interface or method to represent different types of objects. 3)Polymorphism allows code to be written in a more generic and flexible manner, making it easier to extend and maintain. Polymorphism is often achieved through method overriding and method overloading. 4)Abstraction: Abstraction refers to the process of simplifying complex systems by focusing on the essential aspects and ignoring unnecessary details. In OOP, abstraction is achieved through abstract classes and interfaces. Abstract classes define common attributes and behaviors that can be inherited by other classes, while interfaces define a contract for classes to implement certain methods. Abstraction allows programmers to create generalized and reusable code, promoting modularity and flexibility.These four pillars of OOP provide a foundation for designing and building modular, maintainable, and extensible software systems. They promote code reusability, encapsulation, and flexibility, making it easier to manage and scale complex projects."
   ]
  },
  {
   "cell_type": "markdown",
   "id": "8c2a4fb5-705d-40db-81aa-3d501c33de79",
   "metadata": {},
   "source": [
    "# Question.3"
   ]
  },
  {
   "cell_type": "markdown",
   "id": "984f2ae4-d323-4af8-b5ef-e7966a901ee3",
   "metadata": {},
   "source": [
    "## Explain why the __init__() function is used. Give a suitable example."
   ]
  },
  {
   "cell_type": "markdown",
   "id": "543babcd-0a52-4771-abd6-641bcd735286",
   "metadata": {},
   "source": [
    "### Ans: The '__init__()' function is a special method in Python that is used to initialize an object of a class. It is also known as the constructor method. When an object is created from a class, the __init__() method is automatically called, allowing you to perform any necessary setup or initialization for the object. The '__init__()' method is commonly used to assign initial values to the attributes of the object. It takes in the 'self'parameter, which refers to the instance of the object being created, and any other parameters that you want to pass during object creation."
   ]
  },
  {
   "cell_type": "code",
   "execution_count": 3,
   "id": "ac86c85c-c7d1-4ce7-9c52-cce61de93b23",
   "metadata": {},
   "outputs": [
    {
     "name": "stdout",
     "output_type": "stream",
     "text": [
      "Hi, my name is Alice and I am 25 years old.\n",
      "Hi, my name is Bob and I am 30 years old.\n"
     ]
    }
   ],
   "source": [
    "class Person:\n",
    "    def __init__(self, name, age):\n",
    "        self.name = name\n",
    "        self.age = age\n",
    "\n",
    "    def introduce(self):\n",
    "        print(\"Hi, my name is\", self.name, \"and I am\", self.age, \"years old.\")\n",
    "\n",
    "# Create objects of the Person class\n",
    "person1 = Person(\"Alice\", 25)\n",
    "person2 = Person(\"Bob\", 30)\n",
    "\n",
    "# Call the introduce() method for each object\n",
    "person1.introduce()\n",
    "person2.introduce()\n"
   ]
  },
  {
   "cell_type": "markdown",
   "id": "254fd68c-659d-4c15-ba98-2ee90a12d0d5",
   "metadata": {},
   "source": [
    "# Question.4"
   ]
  },
  {
   "cell_type": "markdown",
   "id": "8ec3694f-1f4b-44a0-b3d6-a4aa0a478f21",
   "metadata": {},
   "source": [
    "## Why self is used in OOPs?"
   ]
  },
  {
   "cell_type": "markdown",
   "id": "c8508151-bc98-4913-b47b-9bcec9e84a04",
   "metadata": {},
   "source": [
    "### Ans: In object-oriented programming (OOP), 'self' is a convention used to refer to the current instance of a class. It is a parameter that is passed implicitly to instance methods within a class. By convention, the first parameter of an instance method is named 'self', although you can technically name it anything you like (but it's best to stick with the convention for readability). The purpose of 'self' is to provide a reference to the instance itself, allowing you to access its attributes and invoke its methods. When you create an object from a class, self helps to distinguish between the attributes and methods of different instances of the same class. By using 'self', you can access and modify the attributes specific to a particular object. It allows you to maintain state information within each instance of the class. For example, if you have a class representing a car,'self' would enable you to set and retrieve the specific attributes of each car object, such as its color, brand, or current speed."
   ]
  },
  {
   "cell_type": "code",
   "execution_count": null,
   "id": "8c5e3a07-b30c-4a38-aec7-687e7693068d",
   "metadata": {},
   "outputs": [],
   "source": [
    "Question.5"
   ]
  },
  {
   "cell_type": "markdown",
   "id": "32ce6838-a7b8-40af-877e-f6480f349c1b",
   "metadata": {},
   "source": [
    "## What is inheritance? Give an example for each type of inheritance."
   ]
  },
  {
   "cell_type": "markdown",
   "id": "68d9fa6c-c3f2-473e-9fae-e340fbd3b419",
   "metadata": {},
   "source": [
    "### Ans: Inheritance is a fundamental concept in object-oriented programming (OOP) that allows a class to inherit properties and behaviors from another class. It enables code reuse and promotes the creation of specialized classes based on more general classes.\n",
    "\n",
    "There are different types of inheritance:\n",
    "\n",
    "1. Single Inheritance: In single inheritance, a class inherits properties and behaviors from a single parent class. It forms a simple parent-child relationship. \n",
    "\n",
    "2. Multiple Inheritance: Multiple inheritance allows a class to inherit from more than one parent class. It enables a class to combine features from multiple sources. \n",
    "\n",
    "3. Multilevel Inheritance: Multilevel inheritance involves a chain of inheritance where a class inherits from another derived class. It establishes a hierarchical relationship. \n",
    "\n",
    "\n",
    "\n"
   ]
  },
  {
   "cell_type": "code",
   "execution_count": 7,
   "id": "24578cfe-0a6d-48e4-ba42-34f3dc9b4db4",
   "metadata": {},
   "outputs": [
    {
     "name": "stdout",
     "output_type": "stream",
     "text": [
      "Toyota is being driven.\n",
      "Car is honking.\n"
     ]
    }
   ],
   "source": [
    "#single inheritance:\n",
    "class Vehicle:\n",
    "    def __init__(self, brand):\n",
    "        self.brand = brand\n",
    "\n",
    "    def drive(self):\n",
    "        print(f\"{self.brand} is being driven.\")\n",
    "\n",
    "class Car(Vehicle):\n",
    "    def honk(self):\n",
    "        print(\"Car is honking.\")\n",
    "\n",
    "my_car = Car(\"Toyota\")\n",
    "my_car.drive()  \n",
    "my_car.honk()  \n"
   ]
  },
  {
   "cell_type": "code",
   "execution_count": 8,
   "id": "b1fec071-0740-4010-8181-33af1441d802",
   "metadata": {},
   "outputs": [
    {
     "name": "stdout",
     "output_type": "stream",
     "text": [
      "Flying.\n",
      "Swimming.\n"
     ]
    }
   ],
   "source": [
    "#multiple inheritance:\n",
    "class Flyer:\n",
    "    def fly(self):\n",
    "        print(\"Flying.\")\n",
    "\n",
    "class Swimmer:\n",
    "    def swim(self):\n",
    "        print(\"Swimming.\")\n",
    "\n",
    "class FlyingFish(Flyer, Swimmer):\n",
    "    pass\n",
    "\n",
    "fish = FlyingFish()\n",
    "fish.fly()  \n",
    "fish.swim() \n"
   ]
  },
  {
   "cell_type": "code",
   "execution_count": 9,
   "id": "72dd202f-306d-416b-926c-ac9152e33ea7",
   "metadata": {},
   "outputs": [
    {
     "name": "stdout",
     "output_type": "stream",
     "text": [
      "Breathing.\n",
      "Walking.\n",
      "Swimming.\n"
     ]
    }
   ],
   "source": [
    "#mutlilevel inheritance:\n",
    "class Animal:\n",
    "    def breathe(self):\n",
    "        print(\"Breathing.\")\n",
    "\n",
    "class Mammal(Animal):\n",
    "    def walk(self):\n",
    "        print(\"Walking.\")\n",
    "\n",
    "class Dolphin(Mammal):\n",
    "    def swim(self):\n",
    "        print(\"Swimming.\")\n",
    "\n",
    "dolphin = Dolphin()\n",
    "dolphin.breathe()  \n",
    "dolphin.walk()  \n",
    "dolphin.swim()  \n"
   ]
  },
  {
   "cell_type": "code",
   "execution_count": null,
   "id": "eb915aeb-5f97-4f80-8717-7bf0809508f6",
   "metadata": {},
   "outputs": [],
   "source": []
  }
 ],
 "metadata": {
  "kernelspec": {
   "display_name": "Python 3 (ipykernel)",
   "language": "python",
   "name": "python3"
  },
  "language_info": {
   "codemirror_mode": {
    "name": "ipython",
    "version": 3
   },
   "file_extension": ".py",
   "mimetype": "text/x-python",
   "name": "python",
   "nbconvert_exporter": "python",
   "pygments_lexer": "ipython3",
   "version": "3.10.8"
  }
 },
 "nbformat": 4,
 "nbformat_minor": 5
}
