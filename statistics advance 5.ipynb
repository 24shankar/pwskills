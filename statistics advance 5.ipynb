{
 "cells": [
  {
   "cell_type": "markdown",
   "id": "7d46a549-9a39-4f0a-bb21-1e6870c4c71c",
   "metadata": {},
   "source": [
    "# Question.1"
   ]
  },
  {
   "cell_type": "markdown",
   "id": "df6c1f01-aa54-4bec-a5c6-16020e41b732",
   "metadata": {},
   "source": [
    "## Q1. Calculate the 95% confidence interval for a sample of data with a mean of 50 and a standard deviation of 5 using Python. Interpret the results."
   ]
  },
  {
   "cell_type": "code",
   "execution_count": 2,
   "id": "ddbea08e-003f-451c-88ef-ea75419f842c",
   "metadata": {},
   "outputs": [
    {
     "name": "stdout",
     "output_type": "stream",
     "text": [
      "Confidence Interval: (49.02001800772997, 50.97998199227003)\n"
     ]
    }
   ],
   "source": [
    "import scipy.stats as stats\n",
    "sample_mean = 50\n",
    "sample_std = 5\n",
    "sample_size = 100 \n",
    "confidence_level = 0.95\n",
    "alpha = 1 - confidence_level\n",
    "critical_value = stats.norm.ppf(1 - alpha / 2)\n",
    "margin_of_error = critical_value * (sample_std / (sample_size ** 0.5))\n",
    "lower_bound = sample_mean - margin_of_error\n",
    "upper_bound = sample_mean + margin_of_error\n",
    "print(\"Confidence Interval:\", (lower_bound, upper_bound))"
   ]
  },
  {
   "cell_type": "markdown",
   "id": "37146647-b997-446c-b50d-c14d4148cc3a",
   "metadata": {},
   "source": [
    "# Question.2"
   ]
  },
  {
   "cell_type": "markdown",
   "id": "67d96f23-589d-473e-9207-1d68ded739a0",
   "metadata": {},
   "source": [
    "## Conduct a chi-square goodness of fit test to determine if the distribution of colors of M&Ms in a bag matches the expected distribution of 20% blue, 20% orange, 20% green, 10% yellow, 10% red, and 20% brown. Use Python to perform the test with a significance level of 0.05."
   ]
  },
  {
   "cell_type": "code",
   "execution_count": 4,
   "id": "326f9419-7a27-47d0-82b8-ea12aad753f9",
   "metadata": {},
   "outputs": [
    {
     "name": "stdout",
     "output_type": "stream",
     "text": [
      "Chi-square statistic: 2.763157894736842\n",
      "p-value: 0.7364430598767389\n",
      "Fail to reject the null hypothesis. The observed distribution matches the expected distribution.\n"
     ]
    }
   ],
   "source": [
    "import scipy.stats as stats\n",
    "observed_counts = [45, 40, 35, 20, 15, 35] \n",
    "expected_counts = [0.2, 0.2, 0.2, 0.1, 0.1, 0.2] \n",
    "sample_size = sum(observed_counts)\n",
    "expected_counts = [prop * sample_size for prop in expected_counts]\n",
    "chi2, p_value = stats.chisquare(f_obs=observed_counts, f_exp=expected_counts)\n",
    "print(\"Chi-square statistic:\", chi2)\n",
    "print(\"p-value:\", p_value)\n",
    "alpha = 0.05\n",
    "if p_value < alpha:\n",
    "    print(\"Reject the null hypothesis. The observed distribution is significantly different from the expected distribution.\")\n",
    "else:\n",
    "    print(\"Fail to reject the null hypothesis. The observed distribution matches the expected distribution.\")"
   ]
  },
  {
   "cell_type": "markdown",
   "id": "acf9ad9f-d046-435c-a4b3-6d58a4152f5d",
   "metadata": {},
   "source": [
    "# Question.3"
   ]
  },
  {
   "cell_type": "markdown",
   "id": "7b61d851-d6ea-47ee-992d-c09b20866dd3",
   "metadata": {},
   "source": [
    "## Q3. Use Python to calculate the chi-square statistic and p-value for a contingency table with the following data:\n",
    "Interpret the results of the test."
   ]
  },
  {
   "cell_type": "code",
   "execution_count": 6,
   "id": "79099e0f-6f7a-4a94-9c22-489b62e6ab0b",
   "metadata": {},
   "outputs": [
    {
     "name": "stdout",
     "output_type": "stream",
     "text": [
      "Chi-square statistic: 5.833333333333334\n",
      "p-value: 0.05411376622282158\n",
      "Fail to reject the null hypothesis. There is no significant association between Group A and Group B.\n"
     ]
    }
   ],
   "source": [
    "import numpy as np\n",
    "import scipy.stats as stats\n",
    "# Create the contingency table\n",
    "observed_data = np.array([[20, 15],\n",
    "                          [10, 25],\n",
    "                          [15, 20]])\n",
    "\n",
    "# Perform the chi-square test for independence\n",
    "chi2, p_value, dof, expected = stats.chi2_contingency(observed_data)\n",
    "# Print the test statistics and p-value\n",
    "print(\"Chi-square statistic:\", chi2)\n",
    "print(\"p-value:\", p_value)\n",
    "# Compare the p-value with the significance level\n",
    "alpha = 0.05\n",
    "if p_value < alpha:\n",
    "    print(\"Reject the null hypothesis. There is a significant association between Group A and Group B.\")\n",
    "else:\n",
    "    print(\"Fail to reject the null hypothesis. There is no significant association between Group A and Group B.\")"
   ]
  },
  {
   "cell_type": "markdown",
   "id": "84068fa2-fcc5-4a9d-b694-c03838faee1a",
   "metadata": {},
   "source": [
    "# Question.4"
   ]
  },
  {
   "cell_type": "markdown",
   "id": "a7d82628-9db5-42c0-93ac-58e5b6fcf1f4",
   "metadata": {},
   "source": [
    "## A study of the prevalence of smoking in a population of 500 individuals found that 60 individuals smoked. Use Python to calculate the 95% confidence interval for the true proportion of individuals in the population who smoke."
   ]
  },
  {
   "cell_type": "code",
   "execution_count": 8,
   "id": "eedca051-63e8-44de-89d5-00a94fb9900f",
   "metadata": {},
   "outputs": [
    {
     "name": "stdout",
     "output_type": "stream",
     "text": [
      "Confidence Interval: (0.09437490012636912, 0.1514195986244106)\n"
     ]
    }
   ],
   "source": [
    "import statsmodels.stats.proportion as proportion\n",
    "sample_size = 500\n",
    "smokers = 60\n",
    "conf_interval = proportion.proportion_confint(smokers, sample_size, alpha=0.05, method='wilson')\n",
    "print(\"Confidence Interval:\", conf_interval)"
   ]
  },
  {
   "cell_type": "markdown",
   "id": "ca9f9ce9-3643-4e7f-b624-44e0dbe9d1c5",
   "metadata": {},
   "source": [
    "# Question.5"
   ]
  },
  {
   "cell_type": "markdown",
   "id": "699cdbf4-8636-4780-8463-cef86c00c823",
   "metadata": {},
   "source": [
    "## Calculate the 90% confidence interval for a sample of data with a mean of 75 and a standard deviation of 12 using Python. Interpret the results."
   ]
  },
  {
   "cell_type": "code",
   "execution_count": 9,
   "id": "4b44a894-54fd-4f34-85de-6bf3d5a0b5b2",
   "metadata": {},
   "outputs": [
    {
     "name": "stdout",
     "output_type": "stream",
     "text": [
      "Confidence Interval: (73.02617564765823, 76.97382435234177)\n"
     ]
    }
   ],
   "source": [
    "import scipy.stats as stats\n",
    "sample_mean = 75\n",
    "sample_std = 12\n",
    "sample_size = 100 \n",
    "confidence_level = 0.90\n",
    "alpha = 1 - confidence_level\n",
    "critical_value = stats.norm.ppf(1 - alpha / 2)\n",
    "margin_of_error = critical_value * (sample_std / (sample_size ** 0.5))\n",
    "lower_bound = sample_mean - margin_of_error\n",
    "upper_bound = sample_mean + margin_of_error\n",
    "print(\"Confidence Interval:\", (lower_bound, upper_bound))\n"
   ]
  },
  {
   "cell_type": "markdown",
   "id": "4b7707e4-3c79-4374-b2c1-291582d73d83",
   "metadata": {},
   "source": [
    "# Question.6"
   ]
  },
  {
   "cell_type": "markdown",
   "id": "1efcdd02-71f6-452e-bb92-f82d58b4c4b9",
   "metadata": {},
   "source": [
    "## Use Python to plot the chi-square distribution with 10 degrees of freedom. Label the axes and shade the area corresponding to a chi-square statistic of 15."
   ]
  },
  {
   "cell_type": "code",
   "execution_count": 10,
   "id": "223cbc59-d70c-461c-8c57-cd1f06568880",
   "metadata": {},
   "outputs": [
    {
     "data": {
      "image/png": "[encoded data removed]",
      "text/plain": [
       "<Figure size 640x480 with 1 Axes>"
      ]
     },
     "metadata": {},
     "output_type": "display_data"
    }
   ],
   "source": [
    "import numpy as np\n",
    "import matplotlib.pyplot as plt\n",
    "import scipy.stats as stats\n",
    "df = 10\n",
    "x = np.linspace(0, 30, 1000)\n",
    "pdf = stats.chi2.pdf(x, df)\n",
    "plt.plot(x, pdf, label=f\"df = {df}\")\n",
    "x_shaded = np.linspace(15, 30, 1000)\n",
    "pdf_shaded = stats.chi2.pdf(x_shaded, df)\n",
    "plt.fill_between(x_shaded, pdf_shaded, alpha=0.5)\n",
    "plt.xlabel(\"Chi-square statistic\")\n",
    "plt.ylabel(\"Probability Density Function\")\n",
    "plt.legend()\n",
    "plt.show()\n"
   ]
  },
  {
   "cell_type": "markdown",
   "id": "cc993d15-a3bc-4f87-bdc6-b4ac41733881",
   "metadata": {},
   "source": [
    "# Question.7"
   ]
  },
  {
   "cell_type": "markdown",
   "id": "92715edf-0806-4367-b3ea-559f6542d51e",
   "metadata": {},
   "source": [
    "## A random sample of 1000 people was asked if they preferred Coke or Pepsi. Of the sample, 520 preferred Coke. Calculate a 99% confidence interval for the true proportion of people in the population who prefer Coke."
   ]
  },
  {
   "cell_type": "code",
   "execution_count": 11,
   "id": "65dfd6c3-b856-4336-9dc5-0c4d9c606703",
   "metadata": {},
   "outputs": [
    {
     "name": "stdout",
     "output_type": "stream",
     "text": [
      "Confidence Interval: (0.47930745509503414, 0.5604288983088296)\n"
     ]
    }
   ],
   "source": [
    "import statsmodels.stats.proportion as proportion\n",
    "sample_size = 1000\n",
    "coke_preference = 520\n",
    "conf_interval = proportion.proportion_confint(coke_preference, sample_size, alpha=0.01, method='wilson')\n",
    "print(\"Confidence Interval:\", conf_interval)\n"
   ]
  },
  {
   "cell_type": "markdown",
   "id": "b4262009-d89c-4e5c-9269-5495de2deb45",
   "metadata": {},
   "source": [
    "# Question.8"
   ]
  },
  {
   "cell_type": "markdown",
   "id": "c92d1652-1ecf-40b8-a25e-615102945d05",
   "metadata": {},
   "source": [
    "## A researcher hypothesizes that a coin is biased towards tails. They flip the coin 100 times and observe 45 tails. Conduct a chi-square goodness of fit test to determine if the observed frequencies match the expected frequencies of a fair coin. Use a significance level of 0.05."
   ]
  },
  {
   "cell_type": "code",
   "execution_count": 13,
   "id": "0aea8a34-3413-44af-9db8-a1087e45bc87",
   "metadata": {},
   "outputs": [
    {
     "name": "stdout",
     "output_type": "stream",
     "text": [
      "Chi-square statistic: 1.0\n",
      "p-value: 0.31731050786291115\n",
      "Fail to reject the null hypothesis. The observed frequencies match the expected frequencies.\n"
     ]
    }
   ],
   "source": [
    "import scipy.stats as stats\n",
    "observed_freq = [45, 55]  \n",
    "expected_freq = [50, 50]  \n",
    "chi2, p_value = stats.chisquare(f_obs=observed_freq, f_exp=expected_freq)\n",
    "print(\"Chi-square statistic:\", chi2)\n",
    "print(\"p-value:\", p_value)\n",
    "alpha = 0.05\n",
    "if p_value < alpha:\n",
    "    print(\"Reject the null hypothesis. The observed frequencies do not match the expected frequencies.\")\n",
    "else:\n",
    "    print(\"Fail to reject the null hypothesis. The observed frequencies match the expected frequencies.\")"
   ]
  },
  {
   "cell_type": "markdown",
   "id": "8112c67e-b03b-4f8f-958d-fd6f6b58a8f5",
   "metadata": {},
   "source": [
    "# Question.9"
   ]
  },
  {
   "cell_type": "markdown",
   "id": "aa8e4849-38a0-47de-b96a-a9ee0395f94e",
   "metadata": {},
   "source": [
    "## Q9. A study was conducted to determine if there is an association between smoking status (smoker or\n",
    "non-smoker) and lung cancer diagnosis (yes or no). The results are shown in the contingency table below.\n",
    "Conduct a chi-square test for independence to determine if there is a significant association between\n",
    "smoking status and lung cancer diagnosis.\n",
    "\n",
    "Use a significance level of 0.05.\n",
    "Group A\n",
    "\n",
    "Outcome 1 20 15\n",
    "Outcome 2 10 25\n",
    "Outcome 3 15 20\n",
    "Group B\n",
    "\n",
    "Lung Cancer: Yes\n",
    "\n",
    "Smoker 60 140"
   ]
  },
  {
   "cell_type": "markdown",
   "id": "e25b037e-9bf9-4980-887e-92f1d186db3a",
   "metadata": {},
   "source": []
  },
  {
   "cell_type": "markdown",
   "id": "a2dfbfab-5b9a-4b09-a99b-bbbb65a61d64",
   "metadata": {},
   "source": [
    "### To conduct a chi-square test for independence, we can follow these steps:\n",
    "\n",
    "Step 1: Set up hypotheses.\n",
    "- Null hypothesis (H0): There is no association between smoking status and lung cancer diagnosis.\n",
    "- Alternative hypothesis (HA): There is an association between smoking status and lung cancer diagnosis.\n",
    "\n",
    "Step 2: Define the significance level.\n",
    "The significance level (α) is given as 0.05 in the question.\n",
    "\n",
    "Step 3: Set up the contingency table and calculate the expected frequencies.\n",
    "The contingency table provided is as follows:\n",
    "\n",
    "                          Lung Cancer: Yes    Lung Cancer: No\n",
    "Smoker                          60                             140\n",
    "Non-smoker                  30                             170\n",
    "\n",
    "To perform the chi-square test, we need to calculate the expected frequencies. We can use the formula:\n",
    "\n",
    "Expected frequency = (row total × column total) / grand total\n",
    "\n",
    "First, let's calculate the row and column totals:\n",
    "\n",
    "                        Lung Cancer: Yes    Lung Cancer: No      Row Total\n",
    "Smoker                          60                             140                             200\n",
    "Non-smoker                  30                             170                             200\n",
    "Column Total               90                             310                             400\n",
    "\n",
    "The grand total is 400.\n",
    "\n",
    "Now, let's calculate the expected frequencies for each cell:\n",
    "\n",
    "Expected frequency (Smoker, Yes) = (200 * 90) / 400 = 45\n",
    "Expected frequency (Smoker, No) = (200 * 310) / 400 = 155\n",
    "Expected frequency (Non-smoker, Yes) = (200 * 90) / 400 = 45\n",
    "Expected frequency (Non-smoker, No) = (200 * 310) / 400 = 155\n",
    "\n",
    "The expected frequencies are as follows:\n",
    "\n",
    "                          Lung Cancer: Yes    Lung Cancer: No\n",
    "Smoker                          45                              155\n",
    "Non-smoker                  45                              155\n",
    "\n",
    "Step 4: Calculate the chi-square test statistic.\n",
    "The chi-square test statistic can be calculated using the formula:\n",
    "\n",
    "χ² = Σ [(O - E)² / E]\n",
    "\n",
    "where O is the observed frequency and E is the expected frequency.\n",
    "\n",
    "Using the observed and expected frequencies from the contingency table, we can calculate the chi-square test statistic as follows:\n",
    "\n",
    "χ² = [(60 - 45)² / 45] + [(140 - 155)² / 155] + [(30 - 45)² / 45] + [(170 - 155)² / 155]\n",
    "\n",
    "Calculating this expression, we get:\n",
    "\n",
    "χ² = (15² / 45) + (15² / 155) + (15² / 45) + (15² / 155) = 5 + 0.439 + 5 + 0.439 = 10.878\n",
    "\n",
    "Step 5: Determine the degrees of freedom.\n",
    "The degrees of freedom for a chi-square test of independence can be calculated using the formula:\n",
    "\n",
    "df = (number of rows - 1) * (number of columns - 1)\n",
    "\n",
    "In this case, df = (2 - 1) * (2 - 1) = 1.\n",
    "\n",
    "Step 6: Determine the critical value.\n",
    "To determine the critical value for the chi-square test with a significance level of 0.05 and 1 degree of freedom, we can refer to a chi-square distribution table or use statistical software. The critical value at α = 0.05 and df = 1 is approximately 3.841.\n",
    "\n",
    "Step 7: Compare the test statistic with the critical value.\n",
    "The test statistic (χ²) is 10.878, and the critical value is 3.841.\n",
    "\n",
    "Since the test statistic (10.878) is greater than the critical value (3.841), we reject"
   ]
  },
  {
   "cell_type": "markdown",
   "id": "a36fb831-d015-4dd3-acad-02e4f674d7c7",
   "metadata": {},
   "source": [
    "# Question.10"
   ]
  },
  {
   "cell_type": "markdown",
   "id": "a2697a53-a6fe-47ce-b350-b3cc38448614",
   "metadata": {},
   "source": [
    "## A study was conducted to determine if the proportion of people who prefer milk chocolate, dark chocolate, or white chocolate is different in the U.S. versus the U.K. A random sample of 500 people from the U.S. and a random sample of 500 people from the U.K. were surveyed. The results are shown in the contingency table below. Conduct a chi-square test for independence to determine if there is a significant association between chocolate preference and country of origin.\n",
    "Use a significance level of 0.01.\n",
    "                                               Milk Chocolate                Dark Chocolate           white Chocolate \n",
    "\n",
    "U.S. (n=500)                             200                                        150                                                     150\n",
    "U.K. (n=500)                             225                                        175                                                    100"
   ]
  },
  {
   "cell_type": "markdown",
   "id": "c5c69cbb-cc5e-4db6-91ea-870a285b428a",
   "metadata": {},
   "source": [
    "### To conduct a chi-square test for independence, we can follow these steps:\n",
    "\n",
    "Step 1: Set up hypotheses.\n",
    "- Null hypothesis (H0): There is no association between chocolate preference and country of origin.\n",
    "- Alternative hypothesis (HA): There is an association between chocolate preference and country of origin.\n",
    "\n",
    "Step 2: Define the significance level.\n",
    "The significance level (α) is given as 0.01 in the question.\n",
    "\n",
    "Step 3: Set up the contingency table and calculate the expected frequencies.\n",
    "The contingency table provided is as follows:\n",
    "\n",
    "                                   Milk Chocolate       Dark Chocolate      White Chocolate\n",
    "\n",
    "U.S. (n=500)               200                             150                           150\n",
    "U.K. (n=500)               225                             175                           100\n",
    "\n",
    "To perform the chi-square test, we need to calculate the expected frequencies. We can use the formula:\n",
    "\n",
    "Expected frequency = (row total × column total) / grand total\n",
    "\n",
    "First, let's calculate the row and column totals:\n",
    "\n",
    "                                   Milk Chocolate       Dark Chocolate      White Chocolate      Row Total\n",
    "\n",
    "U.S. (n=500)               200                             150                           150                           500\n",
    "U.K. (n=500)               225                             175                           100                           500\n",
    "Column Total              425                             325                           250                           1000\n",
    "\n",
    "The grand total is 1000.\n",
    "\n",
    "Now, let's calculate the expected frequencies for each cell:\n",
    "\n",
    "Expected frequency (U.S., Milk Chocolate) = (500 * 425) / 1000 = 212.5\n",
    "Expected frequency (U.S., Dark Chocolate) = (500 * 325) / 1000 = 162.5\n",
    "Expected frequency (U.S., White Chocolate) = (500 * 250) / 1000 = 125\n",
    "\n",
    "Expected frequency (U.K., Milk Chocolate) = (500 * 425) / 1000 = 212.5\n",
    "Expected frequency (U.K., Dark Chocolate) = (500 * 325) / 1000 = 162.5\n",
    "Expected frequency (U.K., White Chocolate) = (500 * 250) / 1000 = 125\n",
    "\n",
    "The expected frequencies are as follows:\n",
    "\n",
    "                                  Milk Chocolate       Dark Chocolate      White Chocolate\n",
    "\n",
    "U.S. (n=500)               212.5                         162.5                       125\n",
    "U.K. (n=500)               212.5                         162.5                       125\n",
    "\n",
    "Step 4: Calculate the chi-square test statistic.\n",
    "The chi-square test statistic can be calculated using the formula:\n",
    "\n",
    "χ² = Σ [(O - E)² / E]\n",
    "\n",
    "where O is the observed frequency and E is the expected frequency.\n",
    "\n",
    "Using the observed and expected frequencies from the contingency table, we can calculate the chi-square test statistic as follows:\n",
    "\n",
    "χ² = [(200 - 212.5)² / 212.5] + [(150 - 162.5)² / 162.5] + [(150 - 125)² / 125] + [(225 - 212.5)² / 212.5] + [(175 - 162.5)² / 162.5] + [(100 - 125)² / 125]\n",
    "\n",
    "Calculating this expression, we get:\n",
    "\n",
    "χ² = (12.5² / 212.5) + (12.5² / 162.5) + (25² / 125) + (12.5² / 212.5) + (12.5² / 162.5) + (25² / 125) = 1.47 + 1.53 + 5 + 1.47 + 1.53 + 5"
   ]
  },
  {
   "cell_type": "markdown",
   "id": "3527d08c-f0ee-4bef-8897-ab561f8aac18",
   "metadata": {},
   "source": [
    "# Question.11"
   ]
  },
  {
   "cell_type": "markdown",
   "id": "86ceb3f6-91f2-4d03-bfcf-03e5976a038b",
   "metadata": {},
   "source": [
    "## A random sample of 30 people was selected from a population with an unknown mean and standard deviation. The sample mean was found to be 72 and the sample standard deviation was found to be 10. Conduct a hypothesis test to determine if the population mean is significantly different from 70. Use a significance level of 0.05."
   ]
  },
  {
   "cell_type": "markdown",
   "id": "1e3eae13-9ef5-454c-9fa7-92224dbf57c1",
   "metadata": {},
   "source": [
    "### To conduct a hypothesis test to determine if the population mean is significantly different from 70, we can follow these steps:\n",
    "Step 1: Set up hypotheses.\n",
    "- Null hypothesis (H0): The population mean is equal to 70 (μ = 70).\n",
    "- Alternative hypothesis (HA): The population mean is significantly different from 70 (μ ≠ 70).\n",
    "Step 2: Define the significance level.\n",
    "The significance level (α) is given as 0.05 in the question.\n",
    "\n",
    "Step 3: Calculate the test statistic.\n",
    "Since the population standard deviation is unknown, we will use a t-test. The test statistic for a one-sample t-test is calculated using the formula:\n",
    "\n",
    "t = (sample mean - hypothesized mean) / (sample standard deviation / sqrt(sample size))\n",
    "\n",
    "Plugging in the values from the question, we get:\n",
    "\n",
    "t = (72 - 70) / (10 / sqrt(30)) = 2 / (10 / sqrt(30)) = 2 / (10 / 5.477) = 2 / 1.095 = 1.825\n",
    "\n",
    "Step 4: Determine the degrees of freedom.\n",
    "The degrees of freedom for a one-sample t-test is equal to the sample size minus 1. In this case, the sample size is 30, so the degrees of freedom (df) is 30 - 1 = 29.\n",
    "\n",
    "Step 5: Determine the critical value.\n",
    "To determine the critical value for a two-tailed t-test with a significance level of 0.05 and 29 degrees of freedom, we can refer to a t-distribution table or use statistical software. The critical value at α/2 = 0.025 and df = 29 is approximately 2.045.\n",
    "\n",
    "Step 6: Compare the test statistic with the critical value.\n",
    "The test statistic (t) is 1.825, and the critical value is ±2.045.\n",
    "\n",
    "Since the absolute value of the test statistic (1.825) is less than the critical value (2.045), we fail to reject the null hypothesis.\n",
    "\n",
    "Step 7: Make a conclusion.\n",
    "Based on the results of the hypothesis test, there is not enough evidence to conclude that the population mean is significantly different from 70 at the 0.05 significance level."
   ]
  }
 ],
 "metadata": {
  "kernelspec": {
   "display_name": "Python 3 (ipykernel)",
   "language": "python",
   "name": "python3"
  },
  "language_info": {
   "codemirror_mode": {
    "name": "ipython",
    "version": 3
   },
   "file_extension": ".py",
   "mimetype": "text/x-python",
   "name": "python",
   "nbconvert_exporter": "python",
   "pygments_lexer": "ipython3",
   "version": "3.10.8"
  }
 },
 "nbformat": 4,
 "nbformat_minor": 5
}
