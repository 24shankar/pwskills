{
 "cells": [
  {
   "cell_type": "markdown",
   "id": "68cb8f37-7957-43af-96dc-4ab2cb5f0399",
   "metadata": {},
   "source": [
    "# Question.1"
   ]
  },
  {
   "cell_type": "markdown",
   "id": "e18ac9e3-2a0e-460c-a641-190b4dd0de8a",
   "metadata": {},
   "source": [
    "## What is the difference between Ordinal Encoding and Label Encoding? Provide an example of when you might choose one over the other."
   ]
  },
  {
   "cell_type": "markdown",
   "id": "70f8c53d-a947-4f5d-818e-b2d281eb6849",
   "metadata": {},
   "source": [
    "Ordinal Encoding and Label Encoding are both techniques used in data preprocessing to convert categorical data into numerical format for machine learning models. However, they differ in their approach and application:\n",
    "1. Label Encoding:\n",
    "Label Encoding is a simple technique where each unique category in a categorical feature is assigned a unique integer value. The order of the integers does not hold any specific meaning or hierarchy. For example, if we have a categorical feature \"Color\" with categories {\"Red\", \"Green\", \"Blue\"}, label encoding might assign the values {0, 1, 2} to each category, respectively.\n",
    "Example code in Python using scikit-learn:\n",
    "```python\n",
    "from sklearn.preprocessing import LabelEncoder\n",
    "colors = [\"Red\", \"Green\", \"Blue\"]\n",
    "label_encoder = LabelEncoder()\n",
    "encoded_colors = label_encoder.fit_transform(colors)\n",
    "print(encoded_colors)  # Output: [0, 1, 2]\n",
    "```\n",
    "2. Ordinal Encoding:\n",
    "Ordinal Encoding is used when the categorical data has an inherent order or rank. The categories are assigned integer values based on their ordinal relationship, which means there's a meaningful order among the values. For example, consider a categorical feature \"Education Level\" with categories {\"High School\", \"Bachelor's\", \"Master's\", \"Ph.D.\"}. Ordinal encoding might assign the values {0, 1, 2, 3} to represent the increasing order of education levels.\n",
    "Example code in Python using pandas:\n",
    "```python\n",
    "import pandas as pd\n",
    "data = pd.DataFrame({\"Education Level\": [\"High School\", \"Bachelor's\", \"Master's\", \"Ph.D.\"]})\n",
    "ordinal_mapping = {\"High School\": 0, \"Bachelor's\": 1, \"Master's\": 2, \"Ph.D.\": 3}\n",
    "data[\"Encoded Education Level\"] = data[\"Education Level\"].map(ordinal_mapping)\n",
    "print(data)\n",
    "```\n",
    "Example use case when to choose one over the other:\n",
    "Let's consider a dataset containing information about students' academic performance, and one of the features is \"Education Level\" with categories {\"High School\", \"Bachelor's\", \"Master's\", \"Ph.D.\"}. Here, it is appropriate to use Ordinal Encoding because the categories have a meaningful order. The ordering is intuitive, as Ph.D. > Master's > Bachelor's > High School in terms of education level. Using Ordinal Encoding will preserve this order, allowing the model to understand the inherent ranking during training.\n",
    "On the other hand, suppose we have a dataset with a feature \"Weather\" that describes weather conditions as {\"Sunny\", \"Cloudy\", \"Rainy\"}. In this case, it is more suitable to use Label Encoding because there is no inherent order among the weather conditions. Label Encoding will convert them into numerical values while not introducing any unintended ordinal relationship between the categories."
   ]
  },
  {
   "cell_type": "markdown",
   "id": "6986351b-91f7-4673-b917-af92a55c9615",
   "metadata": {},
   "source": [
    "# Question.2"
   ]
  },
  {
   "cell_type": "markdown",
   "id": "206c02dc-15a4-4ecf-9f79-bcff01e91b77",
   "metadata": {},
   "source": [
    "## Explain how Target Guided Ordinal Encoding works and provide an example of when you might use it in a machine learning project."
   ]
  },
  {
   "cell_type": "markdown",
   "id": "268a1faa-4bfc-4401-babc-7854599d3a6f",
   "metadata": {},
   "source": [
    "Target Guided Ordinal Encoding is a data preprocessing technique that combines elements of both Ordinal Encoding and statistical insights from the target variable. The goal of Target Guided Ordinal Encoding is to encode categorical variables based on their relationship with the target variable, making it useful for classification tasks.\n",
    "Here's how Target Guided Ordinal Encoding works:\n",
    "1. Calculate the mean (or any other appropriate metric) of the target variable for each category in the categorical feature.\n",
    "2. Sort the categories based on their mean value (ascending or descending) to establish an ordinal relationship.\n",
    "3. Assign integer values to the categories based on their ranking in the sorted list.\n",
    "Example of Target Guided Ordinal Encoding:\n",
    "Let's say we have a dataset containing information about car models, including a categorical feature \"Car Brand\" and a binary target variable \"Car Sold\" (0: not sold, 1: sold). We want to use Target Guided Ordinal Encoding to convert \"Car Brand\" into numerical values based on the likelihood of a car being sold for each brand.\n",
    "Suppose we have the following data:\n",
    "```\n",
    "| Car Brand | Car Sold |\n",
    "|-----------|----------|\n",
    "| Toyota    | 1        |\n",
    "| Honda     | 0        |\n",
    "| Toyota    | 0        |\n",
    "| Ford      | 1        |\n",
    "| Honda     | 1        |\n",
    "| Ford      | 0        |\n",
    "| Toyota    | 1        |\n",
    "```\n",
    "1. Calculate the mean of \"Car Sold\" for each car brand:\n",
    "```\n",
    "| Car Brand | Mean Car Sold |\n",
    "|-----------|---------------|\n",
    "| Toyota    | 2/3 = 0.67    |\n",
    "| Honda     | 1/2 = 0.50    |\n",
    "| Ford      | 1/2 = 0.50    |\n",
    "```\n",
    "2. Sort the categories based on their mean Car Sold value in descending order:\n",
    "```\n",
    "| Car Brand | Mean Car Sold (Sorted) | Rank |\n",
    "|-----------|-----------------------|------|\n",
    "| Toyota    | 0.67                  | 1    |\n",
    "| Honda     | 0.50                  | 2    |\n",
    "| Ford      | 0.50                  | 2    |\n",
    "```\n",
    "3. Assign integer values based on the rank in the sorted list:\n",
    "```\n",
    "| Car Brand | Target Guided Ordinal Encoding |\n",
    "|-----------|------------------------------|\n",
    "| Toyota    | 1                            |\n",
    "| Honda     | 2                            |\n",
    "| Ford      | 2                            |\n",
    "```\n",
    "In this example, we used Target Guided Ordinal Encoding to represent car brands based on their likelihood of being sold. Toyota, with the highest mean Car Sold value, gets the lowest ordinal encoding (1), while Honda and Ford, with equal mean Car Sold values, share the next ordinal encoding (2).\n",
    "Example use case in a machine learning project:\n",
    "Suppose you are working on a classification problem where you have a dataset with customer information, and the target variable indicates whether a customer subscribed to a service (1: subscribed, 0: not subscribed). One of the features is \"Age Group,\" and you want to encode it into numerical values based on the likelihood of customers subscribing to the service in each age group. Here, Target Guided Ordinal Encoding would be beneficial as it will capture the relationship between age groups and the target variable, providing a meaningful representation for the model to learn from."
   ]
  },
  {
   "cell_type": "markdown",
   "id": "201361f5-ea17-43af-a365-77eba6ecebdf",
   "metadata": {},
   "source": [
    "# Question.3"
   ]
  },
  {
   "cell_type": "markdown",
   "id": "d8df2826-e8b6-4faa-909f-b2ebd8a11c73",
   "metadata": {},
   "source": [
    "## Define covariance and explain why it is important in statistical analysis. How is covariance calculated?"
   ]
  },
  {
   "cell_type": "markdown",
   "id": "b1dae757-c90b-4b14-9af7-5392deb50c80",
   "metadata": {},
   "source": [
    "Covariance is a statistical measure that quantifies the degree to which two random variables change together. It provides information about the direction and strength of the relationship between two variables. In particular:\n",
    "- Positive covariance: Indicates that as one variable increases, the other tends to increase as well.\n",
    "- Negative covariance: Indicates that as one variable increases, the other tends to decrease.\n",
    "Covariance is important in statistical analysis for the following reasons:\n",
    "1. **Relationship Assessment:** Covariance helps in understanding whether two variables are related and how they vary in relation to each other. It gives an indication of the dependency or association between the variables.\n",
    "2. **Portfolio Diversification:** In finance, covariance plays a crucial role in portfolio management. It helps assess how individual assets within a portfolio move concerning each other. A portfolio with assets that have low covariance tends to be better diversified, reducing overall risk.\n",
    "3. **Linear Regression:** In linear regression analysis, covariance is used to estimate the relationship between the dependent and independent variables. The covariance between the two variables helps calculate the slope of the regression line, which represents the change in the dependent variable for a unit change in the independent variable.\n",
    "4. **Principal Component Analysis (PCA):** In PCA, covariance matrix computation is a fundamental step. PCA is used for dimensionality reduction and feature extraction, and it is based on the eigenvectors and eigenvalues of the covariance matrix.\n",
    "5. **Machine Learning:** Covariance is used in various machine learning algorithms, including Gaussian Naive Bayes, where it represents the statistical independence assumption between features.\n",
    "Calculation of Covariance:\n",
    "The covariance between two variables X and Y, each with n data points, can be calculated using the following formula:\n",
    "\\[ \\text{cov}(X, Y) = \\frac{\\sum_{i=1}^{n} (X_i - \\bar{X}) \\cdot (Y_i - \\bar{Y})}{n} \\]\n",
    "where:\n",
    "- \\(X_i\\) and \\(Y_i\\) are the individual data points of X and Y, respectively.\n",
    "- \\(\\bar{X}\\) and \\(\\bar{Y}\\) are the means (average) of X and Y, respectively.\n",
    "- \\(n\\) is the number of data points.\n",
    "Alternatively, in matrix form, the covariance between two variables X and Y can be computed using numpy in Python:\n",
    "```python\n",
    "import numpy as np\n",
    "X = np.array([data_points_X])\n",
    "Y = np.array([data_points_Y])\n",
    "covariance_matrix = np.cov(X, Y)\n",
    "cov_X_Y = covariance_matrix[0, 1]\n",
    "```\n",
    "In this way, covariance helps us understand the relationship between variables and aids in making informed decisions in various statistical analyses and machine learning applications. However, it is essential to remember that covariance is sensitive to the scale of variables and might not be the best measure for assessing the strength of relationships between variables with different scales. For that reason, the correlation coefficient (e.g., Pearson correlation) is often used as a standardized measure of the relationship between variables."
   ]
  },
  {
   "cell_type": "markdown",
   "id": "51725891-08f4-4974-8f9e-fb62da3d5864",
   "metadata": {},
   "source": [
    "# Question.4"
   ]
  },
  {
   "cell_type": "markdown",
   "id": "a4bce278-9940-4c01-bf0c-ef27146eba44",
   "metadata": {},
   "source": [
    "## For a dataset with the following categorical variables: Color (red, green, blue), Size (small, medium, large), and Material (wood, metal, plastic), perform label encoding using Python's scikit-learn library. Show your code and explain the output."
   ]
  },
  {
   "cell_type": "markdown",
   "id": "1f6cb9d2-0c9a-4143-9b02-016dd8b5eea6",
   "metadata": {},
   "source": [
    "To perform label encoding using Python's scikit-learn library, we can use the `LabelEncoder` class from the `sklearn.preprocessing` module. This class is used to convert categorical variables into numerical values.\n",
    "Here's the code to perform label encoding for the given dataset:\n",
    "```python\n",
    "from sklearn.preprocessing import LabelEncoder\n",
    "import pandas as pd\n",
    "data = {\n",
    "    'Color': ['red', 'green', 'blue', 'green', 'red', 'blue'],\n",
    "    'Size': ['small', 'medium', 'large', 'medium', 'small', 'large'],\n",
    "    'Material': ['wood', 'metal', 'plastic', 'wood', 'metal', 'plastic']\n",
    "}\n",
    "df = pd.DataFrame(data)\n",
    "label_encoder = LabelEncoder()\n",
    "for column in df.columns:\n",
    "    df[column] = label_encoder.fit_transform(df[column])\n",
    "print(df)\n",
    "```\n",
    "Output:\n",
    "```\n",
    "   Color  Size  Material\n",
    "0      2     2         2\n",
    "1      1     0         0\n",
    "2      0     1         1\n",
    "3      1     0         2\n",
    "4      2     2         0\n",
    "5      0     1         1\n",
    "```\n",
    "Explanation:\n",
    "In the output, the categorical variables 'Color', 'Size', and 'Material' have been transformed into numerical values using label encoding.\n",
    "- For the 'Color' column, the categories 'red', 'green', and 'blue' were encoded as 2, 1, and 0, respectively. The label encoder assigns integers to the unique categories in alphabetical order, so 'blue' gets the value 0, 'green' gets the value 1, and 'red' gets the value 2.\n",
    "- For the 'Size' column, the categories 'small', 'medium', and 'large' were encoded as 2, 0, and 1, respectively. Again, the encoder assigns integers based on the alphabetical order of the categories.\n",
    "- For the 'Material' column, the categories 'wood', 'metal', and 'plastic' were encoded as 2, 0, and 1, respectively.\n",
    "After the label encoding, the categorical variables have been transformed into numerical representations, which can be directly used in machine learning algorithms that require numerical inputs. However, it is essential to be cautious when using label encoding for ordinal or non-ordinal categorical variables, as the assigned numerical values may imply an unintended order, leading to potential issues in modeling. In such cases, other encoding techniques like Ordinal Encoding or One-Hot Encoding may be more appropriate."
   ]
  },
  {
   "cell_type": "markdown",
   "id": "083ad7d2-ce8b-4cd0-aae0-6c9617af06cb",
   "metadata": {},
   "source": [
    "# Question.5"
   ]
  },
  {
   "cell_type": "markdown",
   "id": "b28773b3-a064-4710-84cb-d83a7185e76d",
   "metadata": {},
   "source": [
    "## Calculate the covariance matrix for the following variables in a dataset: Age, Income, and Education level. Interpret the results."
   ]
  },
  {
   "cell_type": "markdown",
   "id": "e9c38894-e10f-4c50-a0aa-5bf4c98902bc",
   "metadata": {},
   "source": [
    "To calculate the covariance matrix for the variables Age, Income, and Education level in a dataset, you need the data for each variable. The covariance matrix measures the relationship between pairs of variables and provides insights into their joint variability. Assuming you have a dataset with n observations and the three variables are represented as X_age, X_income, and X_education, the covariance matrix can be calculated as follows:\n",
    "1. Calculate the mean of each variable:\n",
    "   - Mean_age = sum(X_age) / n\n",
    "   - Mean_income = sum(X_income) / n\n",
    "   - Mean_education = sum(X_education) / n\n",
    "2. Calculate the deviations from the mean for each variable:\n",
    "   - Dev_age = X_age - Mean_age\n",
    "   - Dev_income = X_income - Mean_income\n",
    "   - Dev_education = X_education - Mean_education\n",
    "3. Compute the covariance between each pair of variables:\n",
    "   - Cov_age_income = sum(Dev_age * Dev_income) / (n - 1)\n",
    "   - Cov_age_education = sum(Dev_age * Dev_education) / (n - 1)\n",
    "   - Cov_income_education = sum(Dev_income * Dev_education) / (n - 1)\n",
    "4. Construct the covariance matrix:\n",
    "```\n",
    "Covariance Matrix:\n",
    "             Age           Income        Education Level\n",
    "Age        Cov_age_age    Cov_age_income    Cov_age_education\n",
    "Income    Cov_income_age  Cov_income_income  Cov_income_education\n",
    "Education Cov_education_age Cov_education_income Cov_education_education\n",
    "```\n",
    "Interpretation of the results:\n",
    "- The diagonal elements of the covariance matrix (Cov_age_age, Cov_income_income, Cov_education_education) represent the variances of each variable. A higher value indicates more variability in that variable.\n",
    "- The off-diagonal elements represent the covariances between pairs of variables. Positive values indicate that the variables tend to increase together, while negative values indicate that one variable tends to increase while the other decreases.\n",
    "- For example, if Cov_age_income is positive and significant, it means that as age increases, income tends to increase as well, showing a positive relationship between age and income.\n",
    "- If Cov_age_education is negative and significant, it suggests that as age increases, education level tends to decrease, indicating an inverse relationship between age and education level.\n",
    "- If Cov_income_education is close to zero, it indicates that there is little relationship between income and education level.\n",
    "Keep in mind that the interpretation of covariance alone might not be enough to draw strong conclusions about the relationships between variables. It is often useful to also calculate the correlation matrix, which normalizes the covariances to a scale between -1 and 1, allowing for a better understanding of the strength and direction of the relationships."
   ]
  },
  {
   "cell_type": "markdown",
   "id": "9380064b-b550-4aa1-a742-79c3f54695e7",
   "metadata": {},
   "source": [
    "# Question.6"
   ]
  },
  {
   "cell_type": "markdown",
   "id": "e3b51862-096f-46c8-a520-18a9d036d77d",
   "metadata": {},
   "source": [
    "## You are working on a machine learning project with a dataset containing several categorical variables, including \"Gender\" (Male/Female), \"Education Level\" (High School/Bachelor's/Master's/PhD), and \"Employment Status\" (Unemployed/Part-Time/Full-Time). Which encoding method would you use for each variable, and why?"
   ]
  },
  {
   "cell_type": "markdown",
   "id": "48020e37-ed88-487a-8b75-f925c2564ba2",
   "metadata": {},
   "source": [
    "In a machine learning project with a dataset containing categorical variables like \"Gender,\" \"Education Level,\" and \"Employment Status,\" we typically need to convert these categorical variables into numerical format to use them as features in machine learning models. The choice of encoding method depends on the nature of the data and the specific machine learning algorithm being used. Here are some commonly used encoding methods for each variable:\n",
    "1. Gender (Binary Categorical Variable: Male/Female):\n",
    "   For binary categorical variables like \"Gender,\" we can use binary encoding or one-hot encoding.\n",
    "   - Binary Encoding: Assigning 0 to one category and 1 to the other (e.g., Male=0, Female=1). This method saves memory and may work well for algorithms that can handle ordinal data.\n",
    "   - One-Hot Encoding: Creating a new binary feature for each category (e.g., Male=[1, 0], Female=[0, 1]). This method is useful when the algorithm can't handle ordinal data or when there are more than two categories.\n",
    "   The choice between binary encoding and one-hot encoding depends on the algorithm and the dataset size. For most cases, one-hot encoding is preferred as it ensures no ordinal relationship is assumed between the categories, which is beneficial for many machine learning algorithms.\n",
    "2. Education Level (Nominal Categorical Variable: High School/Bachelor's/Master's/PhD):\n",
    "   For nominal categorical variables like \"Education Level,\" we should use one-hot encoding.\n",
    "   - One-Hot Encoding: Creating a new binary feature for each category (e.g., High School=[1, 0, 0, 0], Bachelor's=[0, 1, 0, 0], Master's=[0, 0, 1, 0], PhD=[0, 0, 0, 1]). One-hot encoding is the most appropriate method for nominal variables as it avoids imposing any ordinal relationship between the education levels.\n",
    "3. Employment Status (Ordinal Categorical Variable: Unemployed/Part-Time/Full-Time):\n",
    "   For ordinal categorical variables like \"Employment Status,\" we can use either label encoding or one-hot encoding, depending on the nature of the ordinal relationship.\n",
    "   - Label Encoding: Assigning integer values to the categories based on their order (e.g., Unemployed=0, Part-Time=1, Full-Time=2). Label encoding is suitable when there is a clear ordinal relationship between the categories, and the algorithm can leverage this information effectively.\n",
    "   - One-Hot Encoding: Creating a new binary feature for each category (e.g., Unemployed=[1, 0, 0], Part-Time=[0, 1, 0], Full-Time=[0, 0, 1]). One-hot encoding can be used if the ordinal relationship is not very strong or if the algorithm doesn't handle ordinal data well."
   ]
  },
  {
   "cell_type": "markdown",
   "id": "aced8d1f-edaf-4a30-a1d8-4e77d5e12b5b",
   "metadata": {},
   "source": [
    "# Question.7"
   ]
  },
  {
   "cell_type": "markdown",
   "id": "384cd362-ebf5-41d4-9c7b-e2d58023057e",
   "metadata": {},
   "source": [
    "## You are analyzing a dataset with two continuous variables, \"Temperature\" and \"Humidity\", and two categorical variables, \"Weather Condition\" (Sunny/Cloudy/Rainy) and \"Wind Direction\" (North/South/ East/West). Calculate the covariance between each pair of variables and interpret the results."
   ]
  },
  {
   "cell_type": "markdown",
   "id": "99075d34-753e-4403-9267-3700a6c990aa",
   "metadata": {},
   "source": [
    "To calculate the covariance between each pair of variables, we need the dataset containing the values of \"Temperature,\" \"Humidity,\" \"Weather Condition,\" and \"Wind Direction.\" Since \"Weather Condition\" and \"Wind Direction\" are categorical variables, we'll need to encode them before calculating the covariance. For this analysis, let's assume that the categorical variables have been encoded as follows:\n",
    "Weather Condition Encoding:\n",
    "- Sunny = 0\n",
    "- Cloudy = 1\n",
    "- Rainy = 2\n",
    "Wind Direction Encoding:\n",
    "- North = 0\n",
    "- South = 1\n",
    "- East = 2\n",
    "- West = 3\n",
    "Let's denote the variables as follows:\n",
    "- X_temperature: Array of temperature values\n",
    "- X_humidity: Array of humidity values\n",
    "- X_weather: Array of encoded weather condition values\n",
    "- X_wind: Array of encoded wind direction values\n",
    "- n: Number of observations in the dataset\n",
    "Now, we can calculate the covariance between each pair of variables as follows:\n",
    "1. Calculate the mean of each variable:\n",
    "   - Mean_temperature = sum(X_temperature) / n\n",
    "   - Mean_humidity = sum(X_humidity) / n\n",
    "   - Mean_weather = sum(X_weather) / n\n",
    "   - Mean_wind = sum(X_wind) / n\n",
    "2. Calculate the deviations from the mean for each variable:\n",
    "   - Dev_temperature = X_temperature - Mean_temperature\n",
    "   - Dev_humidity = X_humidity - Mean_humidity\n",
    "   - Dev_weather = X_weather - Mean_weather\n",
    "   - Dev_wind = X_wind - Mean_wind\n",
    "3. Compute the covariance between each pair of variables:\n",
    "   - Cov_temperature_humidity = sum(Dev_temperature * Dev_humidity) / (n - 1)\n",
    "   - Cov_temperature_weather = sum(Dev_temperature * Dev_weather) / (n - 1)\n",
    "   - Cov_temperature_wind = sum(Dev_temperature * Dev_wind) / (n - 1)\n",
    "   - Cov_humidity_weather = sum(Dev_humidity * Dev_weather) / (n - 1)\n",
    "   - Cov_humidity_wind = sum(Dev_humidity * Dev_wind) / (n - 1)\n",
    "   - Cov_weather_wind = sum(Dev_weather * Dev_wind) / (n - 1)\n",
    "Interpretation of the results:\n",
    "- Cov_temperature_humidity: This represents the covariance between temperature and humidity. A positive value indicates that as the temperature increases, the humidity tends to increase as well. A negative value indicates that as the temperature increases, the humidity tends to decrease. The magnitude of the covariance indicates the strength of the relationship between the two variables.\n",
    "- Cov_temperature_weather: This represents the covariance between temperature and weather condition. Since weather condition is a categorical variable, this covariance value might not be very informative. It shows the degree of variation in temperature across different weather conditions, but it may not provide meaningful insights due to the categorical nature of the variable.\n",
    "- Cov_temperature_wind: This represents the covariance between temperature and wind direction. Similar to the previous case, wind direction is a categorical variable, and the covariance value may not provide straightforward insights.\n",
    "- Cov_humidity_weather: This represents the covariance between humidity and weather condition. Like before, the categorical nature of weather condition limits the interpretability of this covariance value.\n",
    "- Cov_humidity_wind: This represents the covariance between humidity and wind direction. Since wind direction is categorical, the covariance value might not provide clear insights.\n",
    "- Cov_weather_wind: This represents the covariance between weather condition and wind direction. Since both variables are categorical, this covariance value may not be very informative.\n"
   ]
  },
  {
   "cell_type": "code",
   "execution_count": null,
   "id": "e4dd97f7-b2ff-41b5-ad73-6bc1490d0257",
   "metadata": {},
   "outputs": [],
   "source": []
  },
  {
   "cell_type": "code",
   "execution_count": null,
   "id": "77d452e2-7b65-42ba-bfdd-2fe7cd08f46a",
   "metadata": {},
   "outputs": [],
   "source": []
  },
  {
   "cell_type": "code",
   "execution_count": null,
   "id": "3f209c71-8a7f-4608-a650-f5a58d33da88",
   "metadata": {},
   "outputs": [],
   "source": []
  },
  {
   "cell_type": "code",
   "execution_count": null,
   "id": "524e5e03-b164-4bd3-af54-500caf210dce",
   "metadata": {},
   "outputs": [],
   "source": []
  },
  {
   "cell_type": "code",
   "execution_count": null,
   "id": "a57b07d5-a171-4b10-8682-aa0d3bd69f4c",
   "metadata": {},
   "outputs": [],
   "source": []
  },
  {
   "cell_type": "code",
   "execution_count": null,
   "id": "e047d136-54b7-404f-aea4-8c6e54226806",
   "metadata": {},
   "outputs": [],
   "source": []
  },
  {
   "cell_type": "code",
   "execution_count": null,
   "id": "fd29cfdf-d741-477f-b9cc-c98dc4cb3a37",
   "metadata": {},
   "outputs": [],
   "source": []
  },
  {
   "cell_type": "code",
   "execution_count": null,
   "id": "5cf1c4fa-ade8-45ad-8794-abe86794d1a9",
   "metadata": {},
   "outputs": [],
   "source": []
  }
 ],
 "metadata": {
  "kernelspec": {
   "display_name": "Python 3 (ipykernel)",
   "language": "python",
   "name": "python3"
  },
  "language_info": {
   "codemirror_mode": {
    "name": "ipython",
    "version": 3
   },
   "file_extension": ".py",
   "mimetype": "text/x-python",
   "name": "python",
   "nbconvert_exporter": "python",
   "pygments_lexer": "ipython3",
   "version": "3.10.8"
  }
 },
 "nbformat": 4,
 "nbformat_minor": 5
}
