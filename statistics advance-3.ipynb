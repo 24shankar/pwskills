{
 "cells": [
  {
   "cell_type": "markdown",
   "id": "8f417480-0c36-42f0-9e00-293d18b4f692",
   "metadata": {},
   "source": [
    "# Question.1"
   ]
  },
  {
   "cell_type": "markdown",
   "id": "cdb750ad-eda9-4d96-90e0-99b09b631c11",
   "metadata": {},
   "source": [
    "## What is Estimation Statistics? Explain point estimate and interval estimate."
   ]
  },
  {
   "cell_type": "markdown",
   "id": "309e0235-9e64-4663-895c-3b822c7e4ba5",
   "metadata": {},
   "source": [
    "Estimation statistics is a branch of statistics that focuses on using sample data to make inferences about population parameters. Estimation involves using observed sample data to estimate unknown population parameters, such as means, proportions, variances, and more. There are two main types of estimation: point estimate and interval estimate.\n",
    "\n",
    "1. **Point Estimate:**\n",
    "   A point estimate is a single value that is calculated from sample data and serves as an estimate of an unknown population parameter. It provides a best guess or approximation of the parameter based on the available sample information. However, a point estimate may or may not accurately represent the true population parameter due to the randomness of sampling.\n",
    "\n",
    "   For example, if you want to estimate the average height of all adults in a city, you might calculate the sample mean height of a group of randomly selected individuals. This sample mean is the point estimate of the population mean height.\n",
    "\n",
    "   Point estimates are easy to calculate and interpret but don't provide information about the uncertainty associated with the estimate.\n",
    "\n",
    "2. **Interval Estimate:**\n",
    "   An interval estimate, also known as a confidence interval, is a range of values that is calculated from sample data and provides a range of plausible values for the unknown population parameter. It takes into account the inherent variability in the data and provides a measure of uncertainty around the point estimate.\n",
    "\n",
    "   A confidence interval is usually expressed as an interval with an associated confidence level, such as a 95% confidence interval. This means that if you were to repeat the sampling process many times and calculate confidence intervals for each sample, about 95% of those intervals would contain the true population parameter.\n",
    "\n",
    "   For instance, if you calculated a 95% confidence interval for the average income of a certain group, you would obtain a range of values within which you can be reasonably confident the true average income lies.\n",
    "\n",
    "Interval estimates provide a more complete picture of the uncertainty associated with the estimate and are often preferred when reporting results. They convey not only a point estimate but also an indication of how accurate or reliable that estimate is likely to be.\n"
   ]
  },
  {
   "cell_type": "markdown",
   "id": "eda64756-bb91-4482-984c-e3772ae27c3c",
   "metadata": {},
   "source": [
    "# Question.2"
   ]
  },
  {
   "cell_type": "markdown",
   "id": "509b2129-b93f-4e6b-a932-f1a89e4bdd01",
   "metadata": {},
   "source": [
    "## Write a Python function to estimate the population mean using a sample mean and standard deviation."
   ]
  },
  {
   "cell_type": "code",
   "execution_count": 2,
   "id": "fa49b4af-4cd0-4ebf-878f-c7c97ff8cd0b",
   "metadata": {},
   "outputs": [
    {
     "name": "stdout",
     "output_type": "stream",
     "text": [
      "Estimated population mean: 50.00\n",
      "95% Confidence interval: [48.04, 51.96]\n"
     ]
    }
   ],
   "source": [
    "import math\n",
    "\n",
    "def estimate_population_mean(sample_mean, sample_size, sample_stddev):\n",
    "    standard_error = sample_stddev / math.sqrt(sample_size)\n",
    "    z_value = 1.96  \n",
    "    margin_of_error = z_value * standard_error\n",
    "    lower_bound = sample_mean - margin_of_error\n",
    "    upper_bound = sample_mean + margin_of_error\n",
    "    return lower_bound, upper_bound\n",
    "sample_mean = 50.0\n",
    "sample_size = 100\n",
    "sample_stddev = 10.0\n",
    "lower_bound, upper_bound = estimate_population_mean(sample_mean, sample_size, sample_stddev)\n",
    "print(f\"Estimated population mean: {sample_mean:.2f}\")\n",
    "print(f\"95% Confidence interval: [{lower_bound:.2f}, {upper_bound:.2f}]\")\n"
   ]
  },
  {
   "cell_type": "markdown",
   "id": "50a2639d-5865-4c6e-aa59-7af1f0597cc1",
   "metadata": {},
   "source": [
    "# Question.3"
   ]
  },
  {
   "cell_type": "markdown",
   "id": "750910ac-38e7-4295-b9d7-bbf12a52fe2a",
   "metadata": {},
   "source": [
    "## What is Hypothesis testing? Why is it used? State the importance of Hypothesis testing."
   ]
  },
  {
   "cell_type": "markdown",
   "id": "9fdfb60f-f591-43de-8db9-9098dcf1ea7d",
   "metadata": {},
   "source": [
    "Hypothesis testing is a statistical method used to make decisions or draw inferences about a population based on a sample of data. It involves formulating two competing hypotheses, the null hypothesis (\\(H_0\\)) and the alternative hypothesis (\\(H_1\\) or \\(H_a\\)), and using sample data to determine whether there is enough evidence to support one hypothesis over the other. Hypothesis testing is a fundamental tool in statistics and scientific research to make informed decisions and draw conclusions from data.\n",
    "\n",
    "The key steps in a hypothesis testing process are as follows:\n",
    "\n",
    "1. **Formulate Hypotheses:**\n",
    "   - Null Hypothesis (\\(H_0\\)): A statement that there is no significant effect or relationship in the population.\n",
    "   - Alternative Hypothesis (\\(H_1\\) or \\(H_a\\)): A statement that contradicts the null hypothesis and suggests that there is a significant effect or relationship in the population.\n",
    "\n",
    "2. **Select a Significance Level (Alpha):**\n",
    "   The significance level (\\(\\alpha\\)) is the threshold used to determine the level of evidence required to reject the null hypothesis. Common values are 0.05 (5%) or 0.01 (1%).\n",
    "\n",
    "3. **Collect and Analyze Data:**\n",
    "   Gather a sample of data and perform statistical calculations to determine relevant test statistics.\n",
    "\n",
    "4. **Calculate P-value:**\n",
    "   The p-value is the probability of obtaining a result as extreme as or more extreme than the observed data, assuming the null hypothesis is true. A small p-value suggests that the observed data is unlikely under the null hypothesis.\n",
    "\n",
    "5. **Make a Decision:**\n",
    "   If the p-value is less than the significance level (\\(p < \\alpha\\)), you reject the null hypothesis and conclude that there is enough evidence to support the alternative hypothesis. If \\(p \\geq \\alpha\\), you fail to reject the null hypothesis due to insufficient evidence.\n",
    "\n",
    "6. **Draw a Conclusion:**\n",
    "   Based on the decision, you make conclusions about the population parameter or relationship being tested.\n",
    "\n",
    "The Importance of Hypothesis Testing:\n",
    "\n",
    "1. **Informed Decision-Making:** Hypothesis testing provides a structured framework to make decisions based on data and evidence. It helps researchers and analysts avoid making subjective judgments and instead rely on statistical analysis.\n",
    "\n",
    "2. **Scientific Inquiry:** Hypothesis testing is a fundamental tool in the scientific method. It allows researchers to validate or reject hypotheses about phenomena, relationships, or effects observed in the natural world.\n",
    "\n",
    "3. **Quality Control:** Industries use hypothesis testing to ensure product quality, performance, and safety. It helps determine whether products meet predefined standards or specifications.\n",
    "\n",
    "4. **Policy and Decision Support:** In various fields, including economics, public health, and social sciences, hypothesis testing informs policy decisions and recommendations. For example, testing the effectiveness of a new drug or a public health intervention.\n",
    "\n",
    "5. **Validating Research:** Hypothesis testing allows researchers to validate the claims and findings of their studies. It helps to distinguish between results that could be due to random chance and results that reflect a true effect or relationship.\n",
    "\n",
    "6. **Statistical Inference:** Hypothesis testing is a fundamental part of statistical inference, enabling researchers to draw conclusions about populations based on sample data.\n"
   ]
  },
  {
   "cell_type": "markdown",
   "id": "cebe4422-5ec7-4988-b19f-f0b833cd2e4d",
   "metadata": {},
   "source": [
    "# Question.4"
   ]
  },
  {
   "cell_type": "markdown",
   "id": "5d628a0e-537e-4121-93fd-5f193d8e1b97",
   "metadata": {},
   "source": [
    "## Create a hypothesis that states whether the average weight of male college students is greater than the average weight of female college students."
   ]
  },
  {
   "cell_type": "markdown",
   "id": "8c83de0b-3300-4967-b1a4-4886f6b53dc7",
   "metadata": {},
   "source": [
    "Null Hypothesis (\\(H_0\\)): The average weight of male college students is equal to or less than the average weight of female college students.\n",
    "\n",
    "Alternative Hypothesis (\\(H_1\\) or \\(H_a\\)): The average weight of male college students is greater than the average weight of female college students.\n",
    "\n",
    "In symbols:\n",
    "\\[ H_0: \\mu_{\\text{male}} \\leq \\mu_{\\text{female}} \\]\n",
    "\\[ H_1: \\mu_{\\text{male}} > \\mu_{\\text{female}} \\]\n",
    "\n",
    "Where:\n",
    "- \\( \\mu_{\\text{male}} \\) represents the population average weight of male college students.\n",
    "- \\( \\mu_{\\text{female}} \\) represents the population average weight of female college students.\n",
    "\n",
    "This hypothesis tests whether there is sufficient evidence to conclude that the average weight of male college students is greater than the average weight of female college students. The null hypothesis assumes no difference or a smaller average weight for males, while the alternative hypothesis suggests a greater average weight for males. Data would be collected and analyzed to determine whether the evidence supports rejecting the null hypothesis in favor of the alternative hypothesis."
   ]
  },
  {
   "cell_type": "markdown",
   "id": "6adf5602-3616-4f20-9d77-019506df02fe",
   "metadata": {},
   "source": [
    "# Question.5"
   ]
  },
  {
   "cell_type": "markdown",
   "id": "bc3955b9-1805-42c9-b76b-66ea8be67d81",
   "metadata": {},
   "source": [
    "## Write a Python script to conduct a hypothesis test on the difference between two population means, given a sample from each population."
   ]
  },
  {
   "cell_type": "code",
   "execution_count": 3,
   "id": "64c5e577-1bea-4970-9362-915b778e7314",
   "metadata": {},
   "outputs": [
    {
     "name": "stdout",
     "output_type": "stream",
     "text": [
      "Reject the null hypothesis.\n",
      "There is evidence that the average weight of male college students is greater than the average weight of female college students.\n",
      "t-statistic: 2.9260286799032644\n",
      "p-value: 0.019114000763655145\n"
     ]
    }
   ],
   "source": [
    "import numpy as np\n",
    "from scipy import stats\n",
    "sample_male = np.array([70, 72, 68, 75, 73])\n",
    "sample_female = np.array([65, 68, 63, 70, 67])\n",
    "t_statistic, p_value = stats.ttest_ind(sample_male, sample_female, equal_var=False)\n",
    "alpha = 0.05\n",
    "\n",
    "if p_value < alpha:\n",
    "    print(\"Reject the null hypothesis.\")\n",
    "    print(\"There is evidence that the average weight of male college students is greater than the average weight of female college students.\")\n",
    "else:\n",
    "    print(\"Fail to reject the null hypothesis.\")\n",
    "    print(\"There is no significant evidence to conclude that the average weight of male college students is greater than the average weight of female college students.\")\n",
    "\n",
    "print(\"t-statistic:\", t_statistic)\n",
    "print(\"p-value:\", p_value)\n"
   ]
  },
  {
   "cell_type": "markdown",
   "id": "391f09eb-bfaa-443f-94ba-41dee45a9b82",
   "metadata": {},
   "source": [
    "# Question.6"
   ]
  },
  {
   "cell_type": "markdown",
   "id": "282d4349-0d29-4104-912e-3eab16a0fa84",
   "metadata": {},
   "source": [
    "## What is a null and alternative hypothesis? Give some examples."
   ]
  },
  {
   "cell_type": "markdown",
   "id": "1b45bd4a-f760-4b08-98c9-da55719d420b",
   "metadata": {},
   "source": [
    "In hypothesis testing, the null hypothesis (\\(H_0\\)) and the alternative hypothesis (\\(H_1\\) or \\(H_a\\)) are two competing statements that express different possibilities about a population parameter or relationship. These hypotheses help guide the statistical analysis and decision-making process. Here are definitions and examples of both null and alternative hypotheses:\n",
    "\n",
    "1. **Null Hypothesis (\\(H_0\\)):**\n",
    "   The null hypothesis is a statement that assumes no effect, no relationship, or no difference in the population. It represents the status quo or the absence of any observed effect. Hypothesis testing aims to either reject or fail to reject the null hypothesis based on the evidence from the sample data.\n",
    "\n",
    "   Examples of null hypotheses:\n",
    "   - The average IQ score of students is 100.\n",
    "   - The new drug has no effect on patients' blood pressure.\n",
    "   - There is no difference in mean incomes between two job categories.\n",
    "   - The marketing campaign does not affect customer purchasing behavior.\n",
    "\n",
    "2. **Alternative Hypothesis (\\(H_1\\) or \\(H_a\\)):**\n",
    "   The alternative hypothesis is a statement that contradicts the null hypothesis and suggests that there is an effect, relationship, or difference in the population. It is what the researcher is typically trying to provide evidence for.\n",
    "\n",
    "   Examples of alternative hypotheses (paired with the null hypotheses above):\n",
    "   - The average IQ score of students is not 100.\n",
    "   - The new drug has an effect on patients' blood pressure.\n",
    "   - There is a difference in mean incomes between two job categories.\n",
    "   - The marketing campaign affects customer purchasing behavior.\n",
    "\n",
    "In symbols:\n",
    "- Null Hypothesis: \\(H_0\\): Population parameter = specific value or no effect\n",
    "- Alternative Hypothesis: \\(H_1\\) or \\(H_a\\): Population parameter ≠ specific value or has an effect\n",
    "\n",
    "It's important to note that the decision to reject or fail to reject the null hypothesis is based on statistical evidence and data analysis. The goal is to gather enough evidence from the sample data to support one hypothesis over the other.\n"
   ]
  },
  {
   "cell_type": "markdown",
   "id": "e0a03b0c-9089-492c-a0df-c18b608e095e",
   "metadata": {},
   "source": [
    "# Question.7"
   ]
  },
  {
   "cell_type": "markdown",
   "id": "e8001de0-0c15-4ed8-80ff-7867c22f845f",
   "metadata": {},
   "source": [
    "## Write down the steps involved in hypothesis testing."
   ]
  },
  {
   "cell_type": "markdown",
   "id": "8f246e6c-cb33-4028-aa9b-64ecf935b401",
   "metadata": {},
   "source": [
    "Hypothesis testing involves a series of steps that help guide the process of making informed decisions about population parameters or relationships based on sample data. The following are the key steps involved in hypothesis testing:\n",
    "\n",
    "1. **Formulate Hypotheses:**\n",
    "   - Null Hypothesis (\\(H_0\\)): State a hypothesis that assumes no effect, no relationship, or no difference in the population parameter(s).\n",
    "   - Alternative Hypothesis (\\(H_1\\) or \\(H_a\\)): State a hypothesis that contradicts the null hypothesis and suggests an effect, relationship, or difference in the population parameter(s).\n",
    "\n",
    "2. **Choose Significance Level (\\(\\alpha\\)):**\n",
    "   Decide on the desired level of significance, which represents the threshold for rejecting the null hypothesis. Common significance levels are 0.05 (5%) and 0.01 (1%).\n",
    "\n",
    "3. **Collect and Analyze Data:**\n",
    "   Gather a sample of data that is relevant to the hypothesis being tested. Perform necessary statistical calculations to compute summary statistics and relevant test statistics.\n",
    "\n",
    "4. **Select a Test Statistic:**\n",
    "   Choose an appropriate test statistic based on the type of data and the hypothesis being tested. Common test statistics include t-test, z-test, chi-square test, etc.\n",
    "\n",
    "5. **Calculate P-value:**\n",
    "   Compute the p-value, which is the probability of obtaining a result as extreme as or more extreme than the observed data, assuming the null hypothesis is true. The p-value helps assess the strength of evidence against the null hypothesis.\n",
    "\n",
    "6. **Make a Decision:**\n",
    "   Compare the calculated p-value with the significance level (\\(\\alpha\\)). If the p-value is less than or equal to \\(\\alpha\\), you reject the null hypothesis. If the p-value is greater than \\(\\alpha\\), you fail to reject the null hypothesis.\n",
    "\n",
    "7. **Interpret Results:**\n",
    "   Based on the decision made in step 6, interpret the results in the context of the problem. If the null hypothesis is rejected, you can provide evidence in favor of the alternative hypothesis.\n",
    "\n",
    "8. **Draw Conclusions:**\n",
    "   Summarize the findings from the hypothesis test and draw conclusions about the population parameter(s) or relationship(s) being tested.\n",
    "\n",
    "9. **Consider Practical Significance:**\n",
    "   While statistical significance is important, also consider whether the observed effect or difference is practically meaningful or relevant in the real world.\n",
    "\n",
    "10. **Report Results:**\n",
    "    Communicate the results of the hypothesis test, including the decision made, the calculated p-value, the sample data used, and the interpretation of the findings.\n",
    "\n",
    "It's important to note that hypothesis testing involves statistical uncertainty, and decisions are made based on probabilities. A hypothesis test does not provide absolute certainty; instead, it provides a way to quantify and assess the strength of evidence from the sample data."
   ]
  },
  {
   "cell_type": "markdown",
   "id": "b5bfc05f-7ebc-487c-a7b4-fdc449d14c5b",
   "metadata": {},
   "source": [
    "# Question.8"
   ]
  },
  {
   "cell_type": "markdown",
   "id": "a485216d-5370-4137-94d7-f731a6fa45aa",
   "metadata": {},
   "source": [
    "## Define p-value and explain its significance in hypothesis testing."
   ]
  },
  {
   "cell_type": "markdown",
   "id": "256eb088-df5e-4bb5-a134-e6b1bd9f79b7",
   "metadata": {},
   "source": [
    "The p-value, short for \"probability value,\" is a crucial concept in hypothesis testing. It quantifies the strength of evidence against the null hypothesis (\\(H_0\\)) based on the observed sample data. The p-value provides a measure of how unlikely the observed data would be if the null hypothesis were true. In other words, it answers the question: \"How likely is the observed result, assuming the null hypothesis is true?\"\n",
    "\n",
    "Significance of the p-value in Hypothesis Testing:\n",
    "\n",
    "1. **Interpreting Evidence:**\n",
    "   - A small p-value (typically less than the chosen significance level \\(\\alpha\\)) suggests that the observed data is unlikely to have occurred under the assumption of the null hypothesis. This provides evidence against the null hypothesis.\n",
    "   - A large p-value suggests that the observed data is consistent with the null hypothesis. There is not enough evidence to reject the null hypothesis.\n",
    "\n",
    "2. **Decision Rule:**\n",
    "   - If the p-value is less than or equal to the significance level (\\(p \\leq \\alpha\\)), you reject the null hypothesis in favor of the alternative hypothesis.\n",
    "   - If the p-value is greater than the significance level (\\(p > \\alpha\\)), you fail to reject the null hypothesis.\n",
    "\n",
    "3. **Assessing Significance:**\n",
    "   - A smaller p-value indicates stronger evidence against the null hypothesis. For example, a p-value of 0.01 is stronger evidence than a p-value of 0.04.\n",
    "   - The choice of significance level (\\(\\alpha\\)) determines the threshold for what is considered \"small\" or \"large\" p-values. Common values for \\(\\alpha\\) are 0.05 or 0.01.\n",
    "\n",
    "4. **Generalization:**\n",
    "   - The p-value allows researchers to generalize from the sample data to the entire population. If the p-value is small, the evidence suggests that the observed effect may exist in the broader population.\n",
    "\n",
    "5. **Comparing Studies:**\n",
    "   - Researchers can compare the p-values of different studies to assess the consistency of results across studies. Smaller p-values across multiple studies strengthen the overall evidence.\n",
    "\n",
    "6. **Adjusting for Multiple Testing:**\n",
    "   - When conducting multiple hypothesis tests simultaneously (multiple comparisons), p-values can be adjusted to account for the increased chance of obtaining a small p-value by random chance. One common method is the Bonferroni correction.\n",
    "\n",
    "It's important to note that a small p-value does not prove the truth of the alternative hypothesis, and a large p-value does not prove the null hypothesis. Instead, the p-value guides the decision-making process by providing a probabilistic measure of evidence against the null hypothesis. It's also crucial to consider the context of the problem and any practical implications when interpreting p-values and making decisions based on them."
   ]
  },
  {
   "cell_type": "markdown",
   "id": "e18013e4-df3d-4e72-a831-d8977728b22b",
   "metadata": {},
   "source": [
    "# Question.9"
   ]
  },
  {
   "cell_type": "markdown",
   "id": "5bfcbded-7d56-49bf-9fe9-02f50f1f3066",
   "metadata": {},
   "source": [
    "## Generate a Student's t-distribution plot using Python's matplotlib library, with the degrees of freedom parameter set to 10."
   ]
  },
  {
   "cell_type": "code",
   "execution_count": 6,
   "id": "f9d2eab8-647e-4e23-a19a-38da4ffab474",
   "metadata": {},
   "outputs": [
    {
     "data": {
      "image/png": "[encoded data removed]",
      "text/plain": [
       "<Figure size 800x600 with 1 Axes>"
      ]
     },
     "metadata": {},
     "output_type": "display_data"
    }
   ],
   "source": [
    "import numpy as np\n",
    "import matplotlib.pyplot as plt\n",
    "from scipy.stats import t\n",
    "degrees_of_freedom = 10\n",
    "x = np.linspace(-5, 5, 500)\n",
    "pdf_values = t.pdf(x, df=degrees_of_freedom)\n",
    "plt.figure(figsize=(8, 6))\n",
    "plt.plot(x, pdf_values, label=f'Degrees of Freedom = {degrees_of_freedom}')\n",
    "plt.title(\"Student's t-Distribution\")\n",
    "plt.xlabel('x')\n",
    "plt.ylabel('Probability Density')\n",
    "plt.legend()\n",
    "plt.grid(True)\n",
    "plt.show()\n"
   ]
  },
  {
   "cell_type": "markdown",
   "id": "dafa39e8-0e8c-42e5-878f-508b19c767ce",
   "metadata": {},
   "source": [
    "# Question.10"
   ]
  },
  {
   "cell_type": "markdown",
   "id": "2ea689d8-e2df-40b2-bdff-4613d0fb5f2f",
   "metadata": {},
   "source": [
    "## Write a Python program to calculate the two-sample t-test for independent samples, given two random samples of equal size and a null hypothesis that the population means are equal."
   ]
  },
  {
   "cell_type": "code",
   "execution_count": 8,
   "id": "ae895efe-1615-40a5-b645-c77ce27db93e",
   "metadata": {},
   "outputs": [
    {
     "name": "stdout",
     "output_type": "stream",
     "text": [
      "Reject the null hypothesis.\n",
      "There is evidence that the population means are not equal.\n",
      "t-statistic: -5.1083653759919025\n",
      "p-value: 1.60264141694859e-06\n"
     ]
    }
   ],
   "source": [
    "import numpy as np\n",
    "from scipy import stats\n",
    "sample1 = np.random.normal(loc=10, scale=2, size=50)\n",
    "sample2 = np.random.normal(loc=12, scale=2, size=50)\n",
    "t_statistic, p_value = stats.ttest_ind(sample1, sample2)\n",
    "alpha = 0.05\n",
    "if p_value < alpha:\n",
    "    print(\"Reject the null hypothesis.\")\n",
    "    print(\"There is evidence that the population means are not equal.\")\n",
    "else:\n",
    "    print(\"Fail to reject the null hypothesis.\")\n",
    "    print(\"There is no significant evidence to conclude that the population means are not equal.\")\n",
    "\n",
    "print(\"t-statistic:\", t_statistic)\n",
    "print(\"p-value:\", p_value)\n"
   ]
  },
  {
   "cell_type": "markdown",
   "id": "90d31efa-b922-4e65-a47f-cae0951f349c",
   "metadata": {},
   "source": [
    "# Question.11"
   ]
  },
  {
   "cell_type": "markdown",
   "id": "b10eb5a8-61a4-4039-82ae-f672b0deca48",
   "metadata": {},
   "source": [
    "## What is Student’s t distribution? When to use the t-Distribution."
   ]
  },
  {
   "cell_type": "markdown",
   "id": "b02c5a90-d058-493d-b0ae-b225fdc8c522",
   "metadata": {},
   "source": [
    "Student's t-distribution, often referred to as the t-distribution, is a probability distribution that is used in statistical hypothesis testing and confidence interval estimation when dealing with small sample sizes and when the population standard deviation is unknown. It is similar in shape to the normal distribution but has heavier tails, which makes it more appropriate for situations where sample sizes are small and the underlying population distribution is not perfectly normal.\n",
    "\n",
    "The t-distribution is characterized by its degrees of freedom (\\(df\\)), which determine its shape. The degrees of freedom are based on the sample size and play a crucial role in how the t-distribution behaves. As the degrees of freedom increase, the t-distribution approaches the standard normal distribution (z-distribution).\n",
    "\n",
    "When to Use the t-Distribution:\n",
    "\n",
    "1. **Small Sample Sizes:**\n",
    "   The t-distribution is particularly useful when working with small sample sizes. In such cases, the normal distribution assumptions might not hold, and the t-distribution provides a more accurate representation of the variability in the sample mean.\n",
    "\n",
    "2. **Unknown Population Standard Deviation:**\n",
    "   When the population standard deviation is unknown, the t-distribution is used to calculate confidence intervals and perform hypothesis tests for population means.\n",
    "\n",
    "3. **Hypothesis Testing:**\n",
    "   The t-distribution is used in hypothesis testing when you want to compare sample means, especially for small samples. For example, you might use it to test whether a new treatment has a different effect from a control treatment.\n",
    "\n",
    "4. **Confidence Interval Estimation:**\n",
    "   When estimating a population mean with a confidence interval, the t-distribution is used when the sample size is small or when the population standard deviation is unknown.\n",
    "\n",
    "5. **When Assumptions Are Not Met:**\n",
    "   If the assumptions for using the z-distribution (standard normal distribution) are not met (e.g., non-normality, small sample size, unknown population standard deviation), the t-distribution provides a more accurate alternative.\n",
    "\n",
    "It's important to note that as the sample size increases, the t-distribution approaches the standard normal distribution. This means that for larger sample sizes (typically \\(n \\geq 30\\)), the t-distribution and the z-distribution (standard normal distribution) yield similar results. However, for smaller sample sizes, the t-distribution should be used to account for the increased variability due to the limited data available.\n"
   ]
  },
  {
   "cell_type": "markdown",
   "id": "bdbaf9ac-e833-4416-895f-98ecfb12e9b9",
   "metadata": {},
   "source": [
    "# Question.12"
   ]
  },
  {
   "cell_type": "markdown",
   "id": "ae90a6e4-f363-4483-8ca5-a006c0d37e9a",
   "metadata": {},
   "source": [
    "## What is t-statistic? State the formula for t-statistic."
   ]
  },
  {
   "cell_type": "markdown",
   "id": "e1360b27-9ff0-4310-84f8-de1f8105462d",
   "metadata": {},
   "source": [
    "The t-statistic, also known as the t-value, is a measure that quantifies the difference between a sample statistic and a population parameter in terms of the standard error of the sample statistic. It is used in hypothesis testing to determine whether the observed difference between sample data and a population parameter is statistically significant or whether it could have occurred by chance.\n",
    "\n",
    "The formula for calculating the t-statistic depends on the type of hypothesis test being conducted (one-sample t-test, two-sample t-test, etc.). Here is the general formula for the t-statistic in a one-sample t-test:\n",
    "\n",
    "\\[ t = \\frac{\\text{Sample Mean} - \\text{Population Mean}}{\\text{Standard Error}} \\]\n",
    "\n",
    "Where:\n",
    "- \\(\\text{Sample Mean}\\) is the mean of the sample data.\n",
    "- \\(\\text{Population Mean}\\) is the hypothesized population mean (from the null hypothesis).\n",
    "- \\(\\text{Standard Error}\\) is the estimated standard error of the sample mean.\n",
    "\n",
    "The standard error is a measure of the variability of the sample mean and is calculated as:\n",
    "\n",
    "\\[ \\text{Standard Error} = \\frac{\\text{Sample Standard Deviation}}{\\sqrt{n}} \\]\n",
    "\n",
    "Where:\n",
    "- \\(\\text{Sample Standard Deviation}\\) is the standard deviation of the sample data.\n",
    "- \\(n\\) is the sample size.\n",
    "\n",
    "The calculated t-statistic is then compared to the critical t-value from the t-distribution (with \\(n-1\\) degrees of freedom) to determine the statistical significance of the difference. If the calculated t-statistic is larger than the critical t-value, there is evidence to reject the null hypothesis.\n",
    "\n",
    "It's important to note that the t-statistic's sign indicates the direction of the difference (whether the sample mean is larger or smaller than the population mean), and its magnitude indicates the extent of the difference relative to the variability in the sample. A larger absolute value of the t-statistic indicates a more significant difference."
   ]
  },
  {
   "cell_type": "markdown",
   "id": "8610c00c-ebbf-4600-8b4d-33a1e39bb282",
   "metadata": {},
   "source": [
    "# Question.13"
   ]
  },
  {
   "cell_type": "markdown",
   "id": "dd26d4f5-329e-424f-8328-49f866952b16",
   "metadata": {},
   "source": [
    "## A coffee shop owner wants to estimate the average daily revenue for their shop. They take a random sample of 50 days and find the sample mean revenue to be $500 with a standard deviation of $50. Estimate the population mean revenue with a 95% confidence interval."
   ]
  },
  {
   "cell_type": "markdown",
   "id": "30cd66b8-c38b-49ee-99ef-d3a5ca1cc792",
   "metadata": {},
   "source": [
    "To estimate the population mean revenue with a 95% confidence interval, you can use the formula for a confidence interval for the population mean (\\( \\mu \\)) when the population standard deviation (\\( \\sigma \\)) is unknown. This formula uses the t-distribution due to the unknown population standard deviation and the sample size (\\( n \\)):\n",
    "\n",
    "\\[ \\text{Confidence Interval} = \\text{Sample Mean} \\pm \\text{Margin of Error} \\]\n",
    "\n",
    "Where the margin of error is calculated as:\n",
    "\n",
    "\\[ \\text{Margin of Error} = \\text{Critical Value} \\times \\frac{\\text{Sample Standard Deviation}}{\\sqrt{n}} \\]\n",
    "\n",
    "The critical value corresponds to the desired confidence level and the degrees of freedom (\\( n - 1 \\)).\n",
    "\n",
    "Given the information in your scenario:\n",
    "- Sample Mean (\\( \\bar{x} \\)) = $500\n",
    "- Sample Standard Deviation (\\( s \\)) = $50\n",
    "- Sample Size (\\( n \\)) = 50\n",
    "- Desired Confidence Level = 95%\n",
    "\n",
    "Steps to Calculate the Confidence Interval:\n",
    "\n",
    "1. Find the Critical Value:\n",
    "   The critical value corresponds to the desired confidence level and the degrees of freedom (\\( n - 1 \\)). For a 95% confidence level with \\( n = 50 \\), you can use a t-distribution table or a statistical calculator to find the critical value. For a 95% confidence interval and 49 degrees of freedom, the critical value is approximately 2.0096.\n",
    "\n",
    "2. Calculate the Margin of Error:\n",
    "   Plug in the values into the formula:\n",
    "   \\[ \\text{Margin of Error} = 2.0096 \\times \\frac{50}{\\sqrt{50}} \\]\n",
    "\n",
    "3. Calculate the Confidence Interval:\n",
    "   Plug in the values into the formula:\n",
    "   \\[ \\text{Confidence Interval} = \\$500 \\pm \\text{Margin of Error} \\]\n",
    "\n",
    "Calculations:\n",
    "- Margin of Error ≈ $14.21\n",
    "- Lower Bound ≈ $500 - $14.21 = $485.79\n",
    "- Upper Bound ≈ $500 + $14.21 = $514.21\n",
    "\n",
    "The 95% confidence interval for the population mean revenue is approximately [$485.79, $514.21]. This means that we can be 95% confident that the true average daily revenue for the coffee shop falls within this interval based on the sample data."
   ]
  },
  {
   "cell_type": "markdown",
   "id": "0fa866a7-3e5f-4f03-bf99-b7026b2627c9",
   "metadata": {},
   "source": [
    "# Question.14"
   ]
  },
  {
   "cell_type": "markdown",
   "id": "063f2a9e-76cd-4a4a-b32f-d35bcc73c4cc",
   "metadata": {},
   "source": [
    "## A researcher hypothesizes that a new drug will decrease blood pressure by 10 mmHg. They conduct a clinical trial with 100 patients and find that the sample mean decrease in blood pressure is 8 mmHg with a standard deviation of 3 mmHg. Test the hypothesis with a significance level of 0.05."
   ]
  },
  {
   "cell_type": "markdown",
   "id": "177beb96-3fb9-40e6-92cd-d142ff3fe5d5",
   "metadata": {},
   "source": [
    "To test the hypothesis about the decrease in blood pressure, you can perform a one-sample t-test. The null hypothesis (\\(H_0\\)) assumes that the mean decrease in blood pressure is equal to 10 mmHg, while the alternative hypothesis (\\(H_1\\) or \\(H_a\\)) suggests that the mean decrease is not equal to 10 mmHg.\n",
    "\n",
    "Given the information in your scenario:\n",
    "- Null Hypothesis (\\(H_0\\)): The mean decrease in blood pressure (\\( \\mu \\)) = 10 mmHg\n",
    "- Alternative Hypothesis (\\(H_1\\) or \\(H_a\\)): The mean decrease in blood pressure (\\( \\mu \\)) ≠ 10 mmHg\n",
    "- Sample Mean (\\( \\bar{x} \\)) = 8 mmHg\n",
    "- Sample Standard Deviation (\\( s \\)) = 3 mmHg\n",
    "- Sample Size (\\( n \\)) = 100\n",
    "- Significance Level (\\( \\alpha \\)) = 0.05\n",
    "\n",
    "Steps to Conduct the One-Sample t-Test:\n",
    "\n",
    "1. Calculate the t-Statistic:\n",
    "   The t-statistic formula for a one-sample t-test is:\n",
    "   \\[ t = \\frac{\\text{Sample Mean} - \\text{Hypothesized Mean}}{\\frac{\\text{Sample Standard Deviation}}{\\sqrt{n}}} \\]\n",
    "\n",
    "   Plug in the values:\n",
    "   \\[ t = \\frac{8 - 10}{\\frac{3}{\\sqrt{100}}} \\]\n",
    "\n",
    "2. Find the Critical t-Value:\n",
    "   For a significance level of 0.05 and 99 degrees of freedom (\\( n - 1 \\)), find the critical t-value from a t-distribution table or calculator. Since this is a two-tailed test, you'll find the t-value that corresponds to the middle 0.025 of the distribution. The critical t-value is approximately -1.984 and 1.984.\n",
    "\n",
    "3. Compare the t-Statistic with the Critical t-Value:\n",
    "   If the calculated t-statistic falls outside the range defined by the critical t-values, you can reject the null hypothesis.\n",
    "\n",
    "Calculations:\n",
    "- Calculated t-Statistic ≈ -6.3246 (negative because the sample mean is less than the hypothesized mean)\n",
    "- Critical t-Value for \\(\\alpha/2\\) (0.025) ≈ -1.984\n",
    "- Critical t-Value for \\(1 - \\alpha/2\\) (0.975) ≈ 1.984\n",
    "\n",
    "Since the calculated t-statistic of -6.3246 is less than -1.984, it falls in the rejection region. Therefore, you can reject the null hypothesis.\n",
    "\n",
    "Conclusion:\n",
    "Based on the sample data, there is sufficient evidence to conclude that the new drug has a statistically significant effect on decreasing blood pressure, as the sample mean decrease is significantly different from 10 mmHg at the 0.05 significance level."
   ]
  },
  {
   "cell_type": "markdown",
   "id": "617d77be-9938-4bfb-91c0-5229236676bb",
   "metadata": {},
   "source": [
    "# Question.15"
   ]
  },
  {
   "cell_type": "markdown",
   "id": "2051723e-d029-433a-8201-595fded1f98f",
   "metadata": {},
   "source": [
    "## An electronics company produces a certain type of product with a mean weight of 5 pounds and a standard deviation of 0.5 pounds. A random sample of 25 products is taken, and the sample mean weight is found to be 4.8 pounds. Test the hypothesis that the true mean weight of the products is less than 5 pounds with a significance level of 0.01."
   ]
  },
  {
   "cell_type": "markdown",
   "id": "221da64e-7a3c-4f8d-a446-56ed02e9ac14",
   "metadata": {},
   "source": [
    "To test the hypothesis about the mean weight of the products, you can perform a one-sample t-test for a left-tailed test. The null hypothesis (\\(H_0\\)) assumes that the true mean weight (\\( \\mu \\)) is equal to 5 pounds, while the alternative hypothesis (\\(H_1\\) or \\(H_a\\)) suggests that the true mean weight is less than 5 pounds.\n",
    "\n",
    "Given the information in your scenario:\n",
    "- Null Hypothesis (\\(H_0\\)): The true mean weight (\\( \\mu \\)) = 5 pounds\n",
    "- Alternative Hypothesis (\\(H_1\\) or \\(H_a\\)): The true mean weight (\\( \\mu \\)) < 5 pounds\n",
    "- Sample Mean (\\( \\bar{x} \\)) = 4.8 pounds\n",
    "- Sample Standard Deviation (\\( s \\)) = 0.5 pounds\n",
    "- Sample Size (\\( n \\)) = 25\n",
    "- Significance Level (\\( \\alpha \\)) = 0.01\n",
    "\n",
    "Steps to Conduct the One-Sample t-Test for a Left-Tailed Test:\n",
    "\n",
    "1. Calculate the t-Statistic:\n",
    "   The t-statistic formula for a one-sample t-test is:\n",
    "   \\[ t = \\frac{\\text{Sample Mean} - \\text{Hypothesized Mean}}{\\frac{\\text{Sample Standard Deviation}}{\\sqrt{n}}} \\]\n",
    "\n",
    "   Plug in the values:\n",
    "   \\[ t = \\frac{4.8 - 5}{\\frac{0.5}{\\sqrt{25}}} \\]\n",
    "\n",
    "2. Find the Critical t-Value:\n",
    "   For a significance level of 0.01 and 24 degrees of freedom (\\( n - 1 \\)), find the critical t-value from a t-distribution table or calculator. The critical t-value for the left-tailed test is approximately -2.492.\n",
    "\n",
    "3. Compare the t-Statistic with the Critical t-Value:\n",
    "   If the calculated t-statistic is smaller than the critical t-value, you can reject the null hypothesis.\n",
    "\n",
    "Calculations:\n",
    "- Calculated t-Statistic ≈ -4.0\n",
    "- Critical t-Value for \\( \\alpha \\) (0.01) ≈ -2.492\n",
    "\n",
    "Since the calculated t-statistic of -4.0 is smaller than -2.492, it falls in the rejection region. Therefore, you can reject the null hypothesis.\n",
    "\n",
    "Conclusion:\n",
    "Based on the sample data, there is sufficient evidence to conclude that the true mean weight of the products is less than 5 pounds at the 0.01 significance level."
   ]
  },
  {
   "cell_type": "markdown",
   "id": "cf275f04-bc73-472a-a9f3-fb8d51affcab",
   "metadata": {},
   "source": [
    "# Question.16"
   ]
  },
  {
   "cell_type": "markdown",
   "id": "b43e8b21-ef4b-49c0-8db9-b152dd71daca",
   "metadata": {},
   "source": [
    "## Two groups of students are given different study materials to prepare for a test. The first group (n1 = 30) has a mean score of 80 with a standard deviation of 10, and the second group (n2 = 40) has a mean score of 75 with a standard deviation of 8. Test the hypothesis that the population means for the two groups are equal with a significance level of 0.01."
   ]
  },
  {
   "cell_type": "markdown",
   "id": "f8b6fa12-f641-4a0f-90c9-39a02e2a32ce",
   "metadata": {},
   "source": [
    "To test the hypothesis about the equality of population means for the two groups, you can perform an independent two-sample t-test. The null hypothesis (\\(H_0\\)) assumes that the population means (\\( \\mu_1 \\) and \\( \\mu_2 \\)) are equal, while the alternative hypothesis (\\(H_1\\) or \\(H_a\\)) suggests that the population means are not equal.\n",
    "\n",
    "Given the information in your scenario:\n",
    "- Null Hypothesis (\\(H_0\\)): The population means (\\( \\mu_1 \\) and \\( \\mu_2 \\)) are equal.\n",
    "- Alternative Hypothesis (\\(H_1\\) or \\(H_a\\)): The population means (\\( \\mu_1 \\) and \\( \\mu_2 \\)) are not equal.\n",
    "- Sample Mean (\\( \\bar{x}_1 \\)) for Group 1 = 80\n",
    "- Sample Standard Deviation (\\( s_1 \\)) for Group 1 = 10\n",
    "- Sample Size (\\( n_1 \\)) for Group 1 = 30\n",
    "- Sample Mean (\\( \\bar{x}_2 \\)) for Group 2 = 75\n",
    "- Sample Standard Deviation (\\( s_2 \\)) for Group 2 = 8\n",
    "- Sample Size (\\( n_2 \\)) for Group 2 = 40\n",
    "- Significance Level (\\( \\alpha \\)) = 0.01\n",
    "\n",
    "Steps to Conduct the Independent Two-Sample t-Test:\n",
    "\n",
    "1. Calculate the Pooled Standard Deviation:\n",
    "   The pooled standard deviation (\\( s_p \\)) accounts for the variability in both groups and is calculated as:\n",
    "   \\[ s_p = \\sqrt{\\frac{(n_1 - 1)s_1^2 + (n_2 - 1)s_2^2}{n_1 + n_2 - 2}} \\]\n",
    "\n",
    "2. Calculate the t-Statistic:\n",
    "   The t-statistic formula for an independent two-sample t-test is:\n",
    "   \\[ t = \\frac{\\text{Difference in Sample Means}}{\\text{Pooled Standard Deviation} \\times \\sqrt{\\frac{1}{n_1} + \\frac{1}{n_2}}} \\]\n",
    "\n",
    "   Plug in the values:\n",
    "   \\[ t = \\frac{80 - 75}{s_p \\times \\sqrt{\\frac{1}{30} + \\frac{1}{40}}} \\]\n",
    "\n",
    "3. Find the Critical t-Value:\n",
    "   For a significance level of 0.01 and degrees of freedom (\\( n_1 + n_2 - 2 \\)), find the critical t-value for a two-tailed test from a t-distribution table or calculator.\n",
    "\n",
    "4. Compare the t-Statistic with the Critical t-Value:\n",
    "   If the absolute value of the calculated t-statistic is larger than the critical t-value, you can reject the null hypothesis.\n",
    "\n",
    "Calculations:\n",
    "- Pooled Standard Deviation (\\( s_p \\)) ≈ 9.2867\n",
    "- Calculated t-Statistic ≈ 2.2356 (positive because \\( \\bar{x}_1 > \\bar{x}_2 \\))\n",
    "- Critical t-Value for \\(\\alpha/2\\) (0.005) with 68 degrees of freedom ≈ ±2.638\n",
    "\n",
    "Since the calculated t-statistic of 2.2356 is larger than 2.638, you can reject the null hypothesis.\n",
    "\n",
    "Conclusion:\n",
    "Based on the sample data, there is sufficient evidence to conclude that the population means for the two groups are not equal at the 0.01 significance level."
   ]
  },
  {
   "cell_type": "markdown",
   "id": "96f5ecc1-7c35-4236-b930-5c704004d094",
   "metadata": {},
   "source": [
    "# Question.17"
   ]
  },
  {
   "cell_type": "markdown",
   "id": "d78bb3f1-5ae5-49db-8434-e22b0e3ae042",
   "metadata": {},
   "source": [
    "## A marketing company wants to estimate the average number of ads watched by viewers during a TV program. They take a random sample of 50 viewers and find that the sample mean is 4 with a standard deviation of 1.5. Estimate the population mean with a 99% confidence interval."
   ]
  },
  {
   "cell_type": "markdown",
   "id": "3d538230-094e-4028-b813-d7ce57e2189a",
   "metadata": {},
   "source": [
    "To estimate the population mean number of ads watched by viewers with a 99% confidence interval, you can use the formula for a confidence interval for the population mean (\\( \\mu \\)) when the population standard deviation (\\( \\sigma \\)) is unknown. This formula uses the t-distribution due to the unknown population standard deviation and the sample size (\\( n \\)):\n",
    "\n",
    "\\[ \\text{Confidence Interval} = \\text{Sample Mean} \\pm \\text{Margin of Error} \\]\n",
    "\n",
    "Where the margin of error is calculated as:\n",
    "\n",
    "\\[ \\text{Margin of Error} = \\text{Critical Value} \\times \\frac{\\text{Sample Standard Deviation}}{\\sqrt{n}} \\]\n",
    "\n",
    "The critical value corresponds to the desired confidence level and the degrees of freedom (\\( n - 1 \\)).\n",
    "\n",
    "Given the information in your scenario:\n",
    "- Sample Mean (\\( \\bar{x} \\)) = 4\n",
    "- Sample Standard Deviation (\\( s \\)) = 1.5\n",
    "- Sample Size (\\( n \\)) = 50\n",
    "- Desired Confidence Level = 99%\n",
    "\n",
    "Steps to Calculate the Confidence Interval:\n",
    "\n",
    "1. Find the Critical Value:\n",
    "   The critical value corresponds to the desired confidence level and the degrees of freedom (\\( n - 1 \\)). For a 99% confidence level with \\( n = 50 \\), you can use a t-distribution table or a statistical calculator to find the critical value. For a 99% confidence interval and 49 degrees of freedom, the critical value is approximately 2.6809.\n",
    "\n",
    "2. Calculate the Margin of Error:\n",
    "   Plug in the values into the formula:\n",
    "   \\[ \\text{Margin of Error} = 2.6809 \\times \\frac{1.5}{\\sqrt{50}} \\]\n",
    "\n",
    "3. Calculate the Confidence Interval:\n",
    "   Plug in the values into the formula:\n",
    "   \\[ \\text{Confidence Interval} = 4 \\pm \\text{Margin of Error} \\]\n",
    "\n",
    "Calculations:\n",
    "- Margin of Error ≈ 0.6348\n",
    "- Lower Bound ≈ 4 - 0.6348 = 3.3652\n",
    "- Upper Bound ≈ 4 + 0.6348 = 4.6348\n",
    "\n",
    "The 99% confidence interval for the population mean number of ads watched by viewers is approximately [3.3652, 4.6348]. This means that we can be 99% confident that the true average number of ads watched falls within this interval based on the sample data."
   ]
  },
  {
   "cell_type": "code",
   "execution_count": null,
   "id": "b4abc11b-3c8c-4282-91e9-93fb02d669f3",
   "metadata": {},
   "outputs": [],
   "source": []
  },
  {
   "cell_type": "code",
   "execution_count": null,
   "id": "2791ec8e-6bad-465b-a0e0-0e568879d27e",
   "metadata": {},
   "outputs": [],
   "source": []
  },
  {
   "cell_type": "code",
   "execution_count": null,
   "id": "85236829-47b5-43f3-b3c2-543b3acfc627",
   "metadata": {},
   "outputs": [],
   "source": []
  },
  {
   "cell_type": "code",
   "execution_count": null,
   "id": "a3a859df-372a-4cb9-b0ea-4319f4aa35cd",
   "metadata": {},
   "outputs": [],
   "source": []
  },
  {
   "cell_type": "code",
   "execution_count": null,
   "id": "34408844-b897-4a59-8fe4-fcd9a4f82c69",
   "metadata": {},
   "outputs": [],
   "source": []
  }
 ],
 "metadata": {
  "kernelspec": {
   "display_name": "Python 3 (ipykernel)",
   "language": "python",
   "name": "python3"
  },
  "language_info": {
   "codemirror_mode": {
    "name": "ipython",
    "version": 3
   },
   "file_extension": ".py",
   "mimetype": "text/x-python",
   "name": "python",
   "nbconvert_exporter": "python",
   "pygments_lexer": "ipython3",
   "version": "3.10.8"
  }
 },
 "nbformat": 4,
 "nbformat_minor": 5
}
