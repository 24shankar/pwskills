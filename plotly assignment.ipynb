{
 "cells": [
  {
   "cell_type": "markdown",
   "id": "fdfd9699-c19d-4efc-9562-b3e63d8f6a7f",
   "metadata": {},
   "source": [
    "# Question.1"
   ]
  },
  {
   "cell_type": "markdown",
   "id": "92a5d092-6a79-4614-8998-384ab140d933",
   "metadata": {},
   "source": [
    "## Load the \"titanic\" dataset using the load_dataset function of seaborn. Use Plotly express to plot a scatter plot for age and fare columns in the titanic dataset."
   ]
  },
  {
   "cell_type": "markdown",
   "id": "b04b5a0b-7f96-4ac4-98a8-9202397c9e88",
   "metadata": {},
   "source": [
    "### Ans: To load the \"titanic\" dataset using the `load_dataset` function from the Seaborn library and create a scatter plot for the \"age\" and \"fare\" columns using Plotly Express, you can follow these steps:\n",
    "```python\n",
    "import seaborn as sns\n",
    "import plotly.express as px\n",
    "df = sns.load_dataset(\"titanic\")\n",
    "fig = px.scatter(df, x=\"age\", y=\"fare\")\n",
    "fig.show()\n",
    "```\n",
    "In this code, we import the necessary libraries: `seaborn` and `plotly.express`. We then use the `load_dataset` function from Seaborn to load the \"titanic\" dataset into a DataFrame called `df`.\n",
    "Next, we create the scatter plot using Plotly Express by specifying the DataFrame `df` and mapping the \"age\" column to the x-axis (`x=\"age\"`) and the \"fare\" column to the y-axis (`y=\"fare\"`).\n",
    "Finally, we use `fig.show()` to display the scatter plot in the output. Plotly Express will open a new window or tab in your web browser to show the interactive scatter plot. You can explore the plot, zoom in/out, hover over data points for details, and interact with other features provided by Plotly Express.\n",
    "Make sure you have both Seaborn and Plotly installed in your Python environment before running this code. You can install them using `pip install seaborn` and `pip install plotly`."
   ]
  },
  {
   "cell_type": "markdown",
   "id": "322b1d66-fc42-49e6-baa9-419d11ae0eeb",
   "metadata": {},
   "source": [
    "# Question.2"
   ]
  },
  {
   "cell_type": "markdown",
   "id": "0564c748-f530-4325-880a-3da3a61b0d5f",
   "metadata": {},
   "source": [
    "## Using the tips dataset in the Plotly library, plot a box plot using Plotly express."
   ]
  },
  {
   "cell_type": "markdown",
   "id": "a95decc5-75d6-4c01-b8c7-75ef97db8a84",
   "metadata": {},
   "source": [
    "### Ans: To plot a box plot using Plotly Express with the \"tips\" dataset available in the Plotly library, you can follow these steps:\n",
    "```python\n",
    "import plotly.express as px\n",
    "df = px.data.tips()\n",
    "fig = px.box(df, x=\"day\", y=\"total_bill\")\n",
    "fig.show()\n",
    "``\n",
    "In this code, we import `plotly.express` as `px`. We then load the \"tips\" dataset provided by Plotly into a DataFrame called `df` using `px.data.tips()`.\n",
    "Next, we create the box plot using Plotly Express by specifying the DataFrame `df` and mapping the \"day\" column to the x-axis (`x=\"day\"`) and the \"total_bill\" column to the y-axis (`y=\"total_bill\"`).\n",
    "Finally, we use `fig.show()` to display the box plot in the output. Plotly Express will open a new window or tab in your web browser to show the interactive box plot. You can explore the plot, hover over the boxes for statistical information, and interact with other features provided by Plotly Express.\n",
    "Make sure you have Plotly installed in your Python environment before running this code. You can install it using `pip install plotly`."
   ]
  },
  {
   "cell_type": "markdown",
   "id": "d1f783f1-b81c-4feb-8f28-61abd7cf3e43",
   "metadata": {},
   "source": [
    "# Question.3"
   ]
  },
  {
   "cell_type": "markdown",
   "id": "ff925c5a-69bd-4da2-9132-05efbead29ee",
   "metadata": {},
   "source": [
    "## Using the tips dataset in the Plotly library, Plot a histogram for x= \"sex\" and y=\"total_bill\" column in the tips dataset. Also, use the \"smoker\" column with the pattern_shape parameter and the \"day\" column with the color parameter."
   ]
  },
  {
   "cell_type": "markdown",
   "id": "d3643ef2-88ce-473b-bb72-b5b9eddcda82",
   "metadata": {},
   "source": [
    "### Ans: To plot a histogram using Plotly Express with the \"tips\" dataset available in the Plotly library, where the x-axis represents the \"sex\" column, the y-axis represents the \"total_bill\" column, and the \"smoker\" and \"day\" columns are used to customize the pattern shape and color, you can follow these steps:\n",
    "```python\n",
    "import plotly.express as px\n",
    "df = px.data.tips()\n",
    "fig = px.histogram(df, x=\"sex\", y=\"total_bill\", color=\"day\", pattern_shape=\"smoker\")\n",
    "fig.show()\n",
    "```\n",
    "In this code, we import `plotly.express` as `px`. We then load the \"tips\" dataset provided by Plotly into a DataFrame called `df` using `px.data.tips()`.\n",
    "Next, we create the histogram using Plotly Express by specifying the DataFrame `df` and mapping the \"sex\" column to the x-axis (`x=\"sex\"`), the \"total_bill\" column to the y-axis (`y=\"total_bill\"`), and the \"day\" column to the color parameter (`color=\"day\"`). We also use the \"smoker\" column to customize the pattern shape (`pattern_shape=\"smoker\"`).\n",
    "Finally, we use `fig.show()` to display the histogram in the output. Plotly Express will open a new window or tab in your web browser to show the interactive histogram. You can explore the plot, hover over the bars for details, and interact with other features provided by Plotly Express."
   ]
  },
  {
   "cell_type": "markdown",
   "id": "eeddc4c2-2cba-4c34-9fd3-4f3154633e22",
   "metadata": {},
   "source": [
    "# Question.4"
   ]
  },
  {
   "cell_type": "markdown",
   "id": "04ff8f60-7c94-45c7-9fea-80ac0e164df3",
   "metadata": {},
   "source": [
    "## Using the iris dataset in the Plotly library, Plot a scatter matrix plot, using the \"species\" column for the color parameter."
   ]
  },
  {
   "cell_type": "markdown",
   "id": "fb3f1454-038f-4c66-875c-f42a8fe71c43",
   "metadata": {},
   "source": [
    "### Ans: To plot a scatter matrix plot using Plotly Express with the \"iris\" dataset available in the Plotly library, where the \"species\" column is used for the color parameter, you can follow these steps:\n",
    "```python\n",
    "import plotly.express as px\n",
    "df = px.data.iris()\n",
    "fig = px.scatter_matrix(df, dimensions=[\"sepal_width\", \"sepal_length\", \"petal_width\", \"petal_length\"], color=\"species\")\n",
    "fig.show()\n",
    "```\n",
    "In this code, we import `plotly.express` as `px`. We then load the \"iris\" dataset provided by Plotly into a DataFrame called `df` using `px.data.iris()`.\n",
    "Next, we create the scatter matrix plot using Plotly Express by specifying the DataFrame `df` and defining the dimensions to be plotted on the x and y axes using the `dimensions` parameter. In this example, we use the columns \"sepal_width\", \"sepal_length\", \"petal_width\", and \"petal_length\" for the dimensions. Additionally, we use the \"species\" column for the color parameter (`color=\"species\"`)."
   ]
  },
  {
   "cell_type": "markdown",
   "id": "09f1c6c5-645b-45b5-a10d-bef94fae58fe",
   "metadata": {},
   "source": [
    "# Question.5"
   ]
  },
  {
   "cell_type": "markdown",
   "id": "242b60bb-d04f-411d-b3b1-cfe9ba895e81",
   "metadata": {},
   "source": [
    "## What is Distplot? Using Plotly express, plot a distplot."
   ]
  },
  {
   "cell_type": "markdown",
   "id": "4dabfcb3-7872-478d-99bd-1fd01ea208fb",
   "metadata": {},
   "source": [
    "### Ans: The `distplot` function is used to plot a distribution plot (also known as a histogram and kernel density estimate plot) in Seaborn. However, in the latest version of Seaborn (0.11.0), the `distplot` function has been deprecated and replaced by `displot` for better flexibility and consistency.\n",
    "To create a distribution plot using Plotly Express, you can use the `hist` function with the `plotly.express` module. Here's an example:\n",
    "```python\n",
    "import plotly.express as px\n",
    "# Load the iris dataset from Plotly\n",
    "df = px.data.iris()\n",
    "fig = px.histogram(df, x=\"sepal_length\", marginal=\"rug\", nbins=30)\n",
    "fig.show()\n",
    "```"
   ]
  }
 ],
 "metadata": {
  "kernelspec": {
   "display_name": "Python 3 (ipykernel)",
   "language": "python",
   "name": "python3"
  },
  "language_info": {
   "codemirror_mode": {
    "name": "ipython",
    "version": 3
   },
   "file_extension": ".py",
   "mimetype": "text/x-python",
   "name": "python",
   "nbconvert_exporter": "python",
   "pygments_lexer": "ipython3",
   "version": "3.10.8"
  }
 },
 "nbformat": 4,
 "nbformat_minor": 5
}
