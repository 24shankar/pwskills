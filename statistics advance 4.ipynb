{
 "cells": [
  {
   "cell_type": "markdown",
   "id": "b78e02b1-f1b9-48eb-8c60-5a828fd36e6e",
   "metadata": {},
   "source": [
    "# Question.1"
   ]
  },
  {
   "cell_type": "markdown",
   "id": "9db78231-c787-45b5-aec5-bb1385666efa",
   "metadata": {},
   "source": [
    "## What is the difference between a t-test and a z-test? Provide an example scenario where you woulduse each type of test."
   ]
  },
  {
   "cell_type": "markdown",
   "id": "54aa8acb-dc41-4a42-9b24-298b1e40156e",
   "metadata": {},
   "source": [
    "### Both t-tests and z-tests are statistical tests used to make inferences about population parameters based on sample data. The key difference between the two lies in the information available about the population standard deviation.\n",
    "1. **t-test**: A t-test is used when the population standard deviation is unknown. It is typically used for small sample sizes (typically less than 30) and when the population standard deviation is not available. The test statistic in a t-test follows a t-distribution, which takes into account the variability introduced by the estimation of the population standard deviation from the sample.\n",
    "Example scenario: Suppose you want to compare the mean heights of two different groups of students (Group A and Group B) to determine if there is a significant difference between them. You collect a random sample of 20 students from each group and measure their heights. Since the standard deviations of the populations are unknown, you would use a t-test to compare the means of the two groups.\n",
    "2. **z-test**: A z-test is used when the population standard deviation is known or when the sample size is large (typically greater than 30). The test statistic in a z-test follows a standard normal distribution (z-distribution) since the population standard deviation is assumed to be fixed.\n",
    "Example scenario: Suppose you want to test if the mean IQ score of a population is significantly different from a known value of 100. You collect a large sample of 1000 individuals and measure their IQ scores. Since the population standard deviation is known or the sample size is large, you can use a z-test to compare the sample mean with the known population mean of 100."
   ]
  },
  {
   "cell_type": "markdown",
   "id": "051d4434-2fa4-4b73-8790-8daac35a3815",
   "metadata": {},
   "source": [
    "# Question.2"
   ]
  },
  {
   "cell_type": "markdown",
   "id": "d38e74f7-7679-4827-80ef-4fea0a12504a",
   "metadata": {},
   "source": [
    "## Differentiate between one-tailed and two-tailed tests."
   ]
  },
  {
   "cell_type": "markdown",
   "id": "7fbad124-9e03-441b-8f56-6f287b701ab6",
   "metadata": {},
   "source": [
    "### One-tailed and two-tailed tests refer to the directionality of the statistical hypothesis being tested and the corresponding critical region or rejection region in the distribution.\n",
    "1. **One-tailed test**: A one-tailed test, also known as a directional test, is used when the researcher is interested in detecting a difference in a specific direction. The critical region is defined on only one side of the distribution, either the upper tail or the lower tail, depending on the specific alternative hypothesis.\n",
    "Example scenario: Suppose you are investigating whether a new drug increases the average response time. Your null hypothesis (H0) would be that the drug has no effect, and the alternative hypothesis (Ha) would be that the drug decreases the response time. In this case, you would perform a one-tailed test and define the critical region in the lower tail of the distribution. If the test statistic falls within the critical region, you would reject the null hypothesis in favor of the alternative hypothesis.\n",
    "2. **Two-tailed test**: A two-tailed test, also known as a non-directional test, is used when the researcher is interested in detecting a difference regardless of the direction. The critical region is divided into two equal tails of the distribution, allowing for the possibility of a difference in either direction.\n",
    "Example scenario: Suppose you are investigating whether a new teaching method affects students' test scores. Your null hypothesis (H0) would be that the teaching method has no effect, and the alternative hypothesis (Ha) would be that the teaching method has an effect, either increasing or decreasing the test scores. In this case, you would perform a two-tailed test, and the critical region would be divided into both tails of the distribution. If the test statistic falls within either tail, you would reject the null hypothesis in favor of the alternative hypothesis."
   ]
  },
  {
   "cell_type": "markdown",
   "id": "6632d2be-18a2-4257-a145-b2aa9fa7f280",
   "metadata": {},
   "source": [
    "# Question.3"
   ]
  },
  {
   "cell_type": "markdown",
   "id": "45d868fe-56eb-4f2b-a027-725805951018",
   "metadata": {},
   "source": [
    "##  Explain the concept of Type 1 and Type 2 errors in hypothesis testing. Provide an example scenario foreach type of error."
   ]
  },
  {
   "cell_type": "markdown",
   "id": "708bf843-9d67-4e3a-9d42-0d10660fcc33",
   "metadata": {},
   "source": [
    "### Type 1 and Type 2 errors are associated with hypothesis testing and represent two different kinds of mistakes that can occur when making statistical inferences.\n",
    "1. **Type 1 error**: A Type 1 error, also known as a false positive, occurs when the null hypothesis (H0) is incorrectly rejected when it is actually true. In other words, it is the erroneous conclusion that there is a significant effect or relationship when, in fact, there is none. The significance level, denoted by α (alpha), represents the probability of committing a Type 1 error.\n",
    "Example scenario: Suppose a pharmaceutical company is testing a new drug's effectiveness in reducing blood pressure. The null hypothesis states that the drug has no effect on blood pressure. However, due to a small sample size or random variability, the statistical analysis indicates a significant difference in blood pressure between the treatment group and the control group. If the researchers reject the null hypothesis based on this result, but the drug actually has no effect, they would be making a Type 1 error.\n",
    "2. **Type 2 error**: A Type 2 error, also known as a false negative, occurs when the null hypothesis (H0) is incorrectly accepted when it is actually false. It is the failure to detect a significant effect or relationship when one truly exists. The probability of committing a Type 2 error is denoted by β (beta), and the power of the test is defined as 1 - β.\n",
    "Example scenario: Consider a criminal trial where the defendant is accused of a serious crime. The null hypothesis is that the defendant is innocent, and the alternative hypothesis is that the defendant is guilty. The jury's decision is based on the evidence presented. If, due to insufficient evidence or a flawed analysis, the jury fails to reject the null hypothesis (declaring the defendant innocent) when the defendant is actually guilty, a Type 2 error is made."
   ]
  },
  {
   "cell_type": "markdown",
   "id": "f3386cfe-c459-43df-9cd8-8914a4ff9a4a",
   "metadata": {},
   "source": [
    "# Question.4"
   ]
  },
  {
   "cell_type": "markdown",
   "id": "283bb3e3-cf21-4975-859b-ccce3f60ad59",
   "metadata": {},
   "source": [
    "## Explain Bayes's theorem with an example."
   ]
  },
  {
   "cell_type": "markdown",
   "id": "904fe3e0-c682-4884-8c0b-b8e3e3d7380e",
   "metadata": {},
   "source": [
    "### Bayes's theorem is a fundamental concept in probability theory that allows us to update our beliefs or assess the probability of an event based on new evidence. It involves the calculation of conditional probabilities. The theorem is named after the Reverend Thomas Bayes, an 18th-century statistician.\n",
    "Bayes's theorem states:\n",
    "P(A|B) = (P(B|A) * P(A)) / P(B)\n",
    "where:\n",
    "- P(A|B) represents the probability of event A occurring given that event B has occurred.\n",
    "- P(B|A) represents the probability of event B occurring given that event A has occurred.\n",
    "- P(A) and P(B) are the probabilities of events A and B occurring independently of each other.\n",
    "To illustrate Bayes's theorem, let's consider a medical example:\n",
    "Suppose a certain medical condition affects 1% of the population. A test has been developed to detect this condition, and it is known to correctly identify the presence of the condition 95% of the time (true positive rate) and correctly identify the absence of the condition 90% of the time (true negative rate).\n",
    "Now, let's say you take the test and it comes back positive. You might naturally wonder, \"What is the probability that I actually have the condition?\"\n",
    "To use Bayes's theorem, we need to assign labels to the events involved:\n",
    "- Event A: Having the medical condition.\n",
    "- Event B: Testing positive.\n",
    "Given the information provided, we can calculate the probability of having the condition given a positive test result.\n",
    "P(A) = 0.01 (prevalence of the condition in the population)\n",
    "P(B|A) = 0.95 (true positive rate)\n",
    "P(~B|~A) = 0.90 (true negative rate, complement of B given ~A)\n",
    "Now, we can calculate the probability of testing positive (P(B)) using the law of total probability:\n",
    "P(B) = P(A) * P(B|A) + P(~A) * P(B|~A)\n",
    "     = 0.01 * 0.95 + 0.99 * (1 - 0.90)\n",
    "     = 0.01 * 0.95 + 0.99 * 0.10\n",
    "     = 0.0095 + 0.099\n",
    "     = 0.1085\n",
    "Finally, we can apply Bayes's theorem to calculate the probability of having the condition given a positive test result:\n",
    "P(A|B) = (P(B|A) * P(A)) / P(B)\n",
    "       = (0.95 * 0.01) / 0.1085\n",
    "       ≈ 0.0876\n",
    "Therefore, given a positive test result, the probability of actually having the condition is approximately 0.0876 or 8.76%.\n",
    "Bayes's theorem allows us to update our initial beliefs or probabilities based on new information or evidence, making it a powerful tool for reasoning under uncertainty."
   ]
  },
  {
   "cell_type": "markdown",
   "id": "fe591ab3-09ac-4fb5-8dc0-c50ec91791a0",
   "metadata": {},
   "source": [
    "# Question.5"
   ]
  },
  {
   "cell_type": "markdown",
   "id": "21e9944f-988e-42b5-80f7-e9958db21951",
   "metadata": {
    "tags": []
   },
   "source": [
    "## What is a confidence interval? How to calculate the confidence interval, explain with an example."
   ]
  },
  {
   "cell_type": "markdown",
   "id": "eb400a7d-6fb3-4d09-8fbd-b80ad1f56d60",
   "metadata": {},
   "source": [
    "A confidence interval is a range of values that provides an estimate of the plausible range for an unknown population parameter, such as the population mean or proportion. It is accompanied by a confidence level, which represents the probability that the interval contains the true population parameter. In other words, a confidence interval provides a measure of the uncertainty associated with estimating population parameters based on sample data.\n",
    "To calculate a confidence interval, the following steps are generally followed:\n",
    "1. Determine the desired confidence level: Common choices are 90%, 95%, or 99%. A 95% confidence level is often used, indicating that we are 95% confident that the true population parameter lies within the interval.\n",
    "2. Collect a sample from the population and calculate the sample statistics: For example, if estimating the population mean, calculate the sample mean (x̄) and sample standard deviation (s).\n",
    "3. Select the appropriate distribution: The choice of distribution depends on the sample size and whether the population standard deviation is known. For large sample sizes or known population standard deviation, the standard normal distribution (z-distribution) is used. For small sample sizes and unknown population standard deviation, the t-distribution is used.\n",
    "4. Determine the critical value: The critical value corresponds to the desired confidence level and the selected distribution. It is found in the respective distribution's table or can be calculated using software.\n",
    "5. Calculate the margin of error: The margin of error represents the maximum distance from the sample estimate that the population parameter is likely to be. It is determined by multiplying the critical value by the standard error.\n",
    "6. Calculate the confidence interval: The confidence interval is constructed by taking the sample estimate and adding/subtracting the margin of error.\n",
    "Now, let's illustrate the calculation of a confidence interval with an example:\n",
    "Suppose we want to estimate the average weight (μ) of a particular species of fish in a lake. We collect a random sample of 50 fish and measure their weights. The sample mean weight is 500 grams, and the sample standard deviation is 20 grams.\n",
    "We decide to calculate a 95% confidence interval for the population mean weight.\n",
    "1. The desired confidence level is 95%.\n",
    "2. Sample statistics: x̄ (sample mean) = 500 grams, s (sample standard deviation) = 20 grams.\n",
    "3. Since the sample size is large, we can use the standard normal distribution (z-distribution).\n",
    "4. The critical value for a 95% confidence level in the standard normal distribution is approximately 1.96 (obtained from tables or software).\n",
    "5. Margin of error: Multiply the critical value by the standard error, which is calculated as s / √n, where n is the sample size.\n",
    "   Margin of error = 1.96 * (20 / √50) ≈ 5.53 grams.\n",
    "6. Confidence interval: Construct the interval by adding/subtracting the margin of error from the sample mean.\n",
    "   Confidence interval = 500 ± 5.53\n",
    "                      = (494.47, 505.53) grams.\n",
    "Interpreting the result: We can be 95% confident that the true average weight of the fish in the lake lies between 494.47 grams and 505.53 grams based on the sample data.\n",
    "The confidence interval provides a range of values within which the population parameter is likely to fall, taking into account the variability in the sample data. It is a useful tool for making statistical inferences and understanding the precision of our estimates."
   ]
  },
  {
   "cell_type": "markdown",
   "id": "2641a14d-44a8-4ec9-b462-e4a19b570d68",
   "metadata": {},
   "source": [
    "# Question.6"
   ]
  },
  {
   "cell_type": "markdown",
   "id": "9f3f8862-cdf6-474b-9b8d-25929463eee2",
   "metadata": {},
   "source": [
    "## Use Bayes' Theorem to calculate the probability of an event occurring given prior knowledge of the event's probability and new evidence. Provide a sample problem and solution."
   ]
  },
  {
   "cell_type": "raw",
   "id": "0b18909c-04d9-4dc2-ae6f-68b01e02bfe5",
   "metadata": {},
   "source": [
    "###A rare disease affects 1 in 10,000 people in a population. There is a test available to detect this disease, and the test correctly identifies the presence of the disease 99% of the time (true positive rate), but it also produces false positives in 1% of the cases (false positive rate). \n",
    "If a person tests positive for the disease, what is the probability that they actually have the disease?\n",
    "Solution:\n",
    "To apply Bayes' Theorem, let's assign labels to the events involved:\n",
    "Event A: Having the disease.\n",
    "Event B: Testing positive.\n",
    "We need to calculate the probability of having the disease given a positive test result (P(A|B)).\n",
    "Given information:\n",
    "P(A) = 1/10,000 (prevalence of the disease in the population)\n",
    "P(B|A) = 0.99 (true positive rate)\n",
    "P(B|~A) = 0.01 (false positive rate)\n",
    "First, let's calculate the probability of testing positive (P(B)) using the law of total probability:\n",
    "P(B) = P(A) * P(B|A) + P(~A) * P(B|~A)\n",
    "     = (1/10,000) * 0.99 + (1 - 1/10,000) * 0.01\n",
    "     = 0.000099 + 0.999901 * 0.01\n",
    "     = 0.000099 + 0.00999901\n",
    "     ≈ 0.010098\n",
    "Now, we can use Bayes' Theorem to calculate the probability of having the disease given a positive test result:\n",
    "P(A|B) = (P(B|A) * P(A)) / P(B)\n",
    "       = (0.99 * 1/10,000) / 0.010098\n",
    "       ≈ 0.0098039\n",
    "Therefore, given a positive test result, the probability of actually having the disease is approximately 0.0098039 or 0.9804%.\n",
    "It's worth noting that even though the test has a high accuracy rate, the low prevalence of the disease in the population affects the probability of actually having the disease given a positive result. This example demonstrates how the prior probability and the test's accuracy influence the final probability through the application of Bayes' Theorem."
   ]
  },
  {
   "cell_type": "markdown",
   "id": "acee4b7a-7ba8-4fed-bed5-1f95b2f0dcd8",
   "metadata": {},
   "source": [
    "# Question.7"
   ]
  },
  {
   "cell_type": "markdown",
   "id": "1b4bb165-b157-4615-801f-72980818a669",
   "metadata": {},
   "source": [
    "## Calculate the 95% confidence interval for a sample of data with a mean of 50 and a standard deviation of 5. Interpret the results."
   ]
  },
  {
   "cell_type": "markdown",
   "id": "18fbd1c1-8167-4a44-8bf8-6b3e0cadd266",
   "metadata": {},
   "source": [
    "### To calculate the 95% confidence interval for a sample with a mean of 50 and a standard deviation of 5, we need to consider the sample size as well. The confidence interval formula is based on the assumption that the sample comes from a normal distribution or when the sample size is large enough (typically greater than 30).\n",
    "Since the sample size is not provided in the question, we will assume a large enough sample size for the calculation.\n",
    "The formula for calculating the confidence interval is:\n",
    "Confidence Interval = Mean ± (Critical Value * Standard Error)\n",
    "1. Determine the critical value:\n",
    "For a 95% confidence level, the critical value for a two-tailed test is approximately 1.96. This value is commonly obtained from the standard normal distribution table or calculated using statistical software.\n",
    "2. Calculate the standard error:\n",
    "The standard error (SE) represents the standard deviation of the sample mean and is calculated by dividing the sample standard deviation (s) by the square root of the sample size (n).\n",
    "Assuming a large sample size, we will use the standard error formula:\n",
    "SE = s / √n\n",
    "Given:\n",
    "Sample mean (x̄) = 50\n",
    "Standard deviation (s) = 5\n",
    "Since the sample size (n) is not provided, we cannot calculate the precise confidence interval without that information. However, assuming a large sample size, let's proceed with the calculation.\n",
    "3. Calculate the confidence interval:\n",
    "Confidence Interval = 50 ± (1.96 * (5 / √n))\n",
    "Interpretation:\n",
    "If the sample comes from a normal distribution or if the sample size is large enough, we can say with 95% confidence that the true population mean falls within the calculated confidence interval.\n",
    "However, since the sample size (n) is not specified, we cannot provide an exact confidence interval in this case. The confidence interval will depend on the sample size, and without that information, we cannot provide a precise range.\n",
    "Remember, the interpretation of the confidence interval is that if we were to repeat the sampling process and construct multiple confidence intervals, approximately 95% of those intervals would contain the true population mean."
   ]
  },
  {
   "cell_type": "markdown",
   "id": "7c041d56-52c8-4719-a477-509421698a31",
   "metadata": {},
   "source": [
    "# Question.8"
   ]
  },
  {
   "cell_type": "markdown",
   "id": "17486f4e-2a14-46f6-aaf1-2b96c36ca1f9",
   "metadata": {},
   "source": [
    "## What is the margin of error in a confidence interval? How does sample size affect the margin of error? Provide an example of a scenario where a larger sample size would result in a smaller margin of error."
   ]
  },
  {
   "cell_type": "markdown",
   "id": "e7ed4a0f-ccc1-4d32-9482-c6b5e84d6a11",
   "metadata": {},
   "source": [
    "### The margin of error in a confidence interval represents the maximum amount of error expected in estimating a population parameter based on a sample. It is a measure of the uncertainty associated with the estimation.\n",
    "A smaller margin of error indicates a more precise estimate, while a larger margin of error suggests greater uncertainty or variability in the estimate. The margin of error is influenced by several factors, including the desired confidence level, sample size, and variability of the population.\n",
    "Regarding sample size, an increase in sample size generally leads to a smaller margin of error. This is because a larger sample size provides more information about the population, reducing the uncertainty in the estimate. With a larger sample size, the estimate is expected to be closer to the true population parameter, resulting in a narrower confidence interval.\n",
    "Let's consider an example to illustrate the effect of sample size on the margin of error:\n",
    "Scenario:\n",
    "Suppose we want to estimate the average height of students in a university. We collect two different samples—one with 50 students and another with 200 students. We calculate the mean heights and construct 95% confidence intervals for both sample sizes.\n",
    "For simplicity, assume the standard deviation of heights is the same in both samples.\n",
    "Results:\n",
    "Sample 1: Size (n1) = 50, Margin of Error (ME1)\n",
    "Sample 2: Size (n2) = 200, Margin of Error (ME2)\n",
    "Since we don't have the actual data, let's consider hypothetical values.\n",
    "In Sample 1:\n",
    "Assume the margin of error (ME1) is 2 inches, resulting in a 95% confidence interval of 65 inches ± 2 inches.\n",
    "In Sample 2:\n",
    "With a larger sample size, the margin of error (ME2) is smaller. Assume it is 1 inch, resulting in a 95% confidence interval of 65 inches ± 1 inch.\n",
    "In this scenario, a larger sample size (Sample 2) leads to a smaller margin of error compared to the smaller sample size (Sample 1). The increase in sample size allows for a more precise estimate of the population mean height, resulting in a narrower confidence interval.\n",
    "Remember, a smaller margin of error signifies increased precision and a more confident estimation of the population parameter. However, it is important to balance sample size with practical considerations, such as cost, time, and available resources."
   ]
  },
  {
   "cell_type": "markdown",
   "id": "b6674673-8707-4a16-84fd-3ef8d08102ba",
   "metadata": {},
   "source": [
    "# Question.9"
   ]
  },
  {
   "cell_type": "markdown",
   "id": "75804308-a093-4c62-a169-376730af9c29",
   "metadata": {},
   "source": [
    "##  Calculate the z-score for a data point with a value of 75, a population mean of 70, and a population standard deviation of 5. Interpret the results."
   ]
  },
  {
   "cell_type": "markdown",
   "id": "5a2f0b0f-d4a1-420e-b3f1-e62056d82da9",
   "metadata": {},
   "source": [
    "### To calculate the z-score for a data point, we use the formula:\n",
    "z = (x - μ) / σ\n",
    "where:\n",
    "- x is the value of the data point,\n",
    "- μ is the population mean,\n",
    "- σ is the population standard deviation,\n",
    "- z is the z-score.\n",
    "Given the values:\n",
    "- x = 75 (value of the data point)\n",
    "- μ = 70 (population mean)\n",
    "- σ = 5 (population standard deviation)\n",
    "Let's calculate the z-score:\n",
    "z = (75 - 70) / 5\n",
    "  = 5 / 5\n",
    "  = 1\n",
    "The z-score for the data point with a value of 75, a population mean of 70, and a population standard deviation of 5 is 1.\n",
    "Interpretation:\n",
    "The z-score measures how many standard deviations a data point is away from the mean. In this case, a z-score of 1 indicates that the data point at 75 is 1 standard deviation above the population mean of 70.\n",
    "Since the z-score is positive, it means the data point is higher than the mean. The magnitude of the z-score, which is 1 in this case, indicates the relative distance between the data point and the mean in terms of standard deviations.\n",
    "Z-scores are commonly used to compare data points across different populations or to assess the relative position of a data point within a distribution. A positive z-score suggests that the data point is above the mean, while a negative z-score would indicate a value below the mean."
   ]
  },
  {
   "cell_type": "markdown",
   "id": "7e5998ae-eda1-4e00-ab78-28ffa35ec6b8",
   "metadata": {},
   "source": [
    "# Question.10"
   ]
  },
  {
   "cell_type": "markdown",
   "id": "131a36d2-835a-4851-bf00-74ab69e3c9d9",
   "metadata": {},
   "source": [
    "##  In a study of the effectiveness of a new weight loss drug, a sample of 50 participants lost an average of 6 pounds with a standard deviation of 2.5 pounds. Conduct a hypothesis test to determine if the drug is significantly effective at a 95% confidence level using a t-test."
   ]
  },
  {
   "cell_type": "markdown",
   "id": "f447d1c8-8950-478e-a77d-6f41b18de065",
   "metadata": {},
   "source": [
    "### To conduct a hypothesis test to determine if the weight loss drug is significantly effective at a 95% confidence level using a t-test, we need to set up the null and alternative hypotheses and perform the necessary calculations. Here's how we can proceed:\n",
    "Null Hypothesis (H₀): The weight loss drug is not significantly effective; the mean weight loss is equal to or less than zero.\n",
    "Alternative Hypothesis (H₁): The weight loss drug is significantly effective; the mean weight loss is greater than zero.\n",
    "Given information:\n",
    "Sample size (n) = 50\n",
    "Sample mean (x̄) = 6 pounds\n",
    "Sample standard deviation (s) = 2.5 pounds\n",
    "We'll use a one-sample t-test to compare the sample mean to a hypothesized population mean (zero in this case).\n",
    "1. Set the significance level (α):\n",
    "The significance level, denoted as α, determines the threshold for rejecting the null hypothesis. In this case, the confidence level is 95%, which corresponds to a significance level of 0.05.\n",
    "2. Calculate the test statistic:\n",
    "The test statistic for a one-sample t-test is given by:\n",
    "t = (x̄ - μ₀) / (s / √n)\n",
    "where:\n",
    "- x̄ is the sample mean\n",
    "- μ₀ is the hypothesized population mean\n",
    "- s is the sample standard deviation\n",
    "- n is the sample size\n",
    "In this case, μ₀ = 0 (since we are comparing to a mean of zero).\n",
    "t = (6 - 0) / (2.5 / √50)\n",
    "  = 6 / (2.5 / 7.071)\n",
    "  = 6 / 1.7678\n",
    "  ≈ 3.392\n",
    "3. Determine the critical value or p-value:\n",
    "Since the alternative hypothesis is one-sided (greater than), we'll find the critical value or p-value for a one-sided t-test.\n",
    "Looking up the critical value from the t-distribution table or using software with (n - 1) degrees of freedom, at a significance level of 0.05 and 49 degrees of freedom, we find the critical value to be approximately 1.677.\n",
    "Alternatively, if using software to calculate the p-value, we would find it to be less than 0.001 (very small).\n",
    "4. Compare the test statistic with the critical value or p-value:\n",
    "If the test statistic is greater than the critical value (or if the p-value is less than α), we reject the null hypothesis. Otherwise, if the test statistic is less than the critical value (or if the p-value is greater than or equal to α), we fail to reject the null hypothesis.\n",
    "In this case, the test statistic (t = 3.392) is greater than the critical value (1.677) and the p-value is less than 0.05 (α = 0.05). Therefore, we reject the null hypothesis.\n",
    "Conclusion:\n",
    "Based on the given sample data, we have evidence to suggest that the weight loss drug is significantly effective at a 95% confidence level. The sample mean weight loss of 6 pounds is significantly greater than zero, indicating a positive effect of the drug in reducing weight."
   ]
  },
  {
   "cell_type": "markdown",
   "id": "b7125ad8-fd4d-44dd-a91f-8c6d410edb91",
   "metadata": {},
   "source": [
    "# Question.11"
   ]
  },
  {
   "cell_type": "markdown",
   "id": "0c8ffaed-745c-4850-ae8f-0af416ae7c1b",
   "metadata": {},
   "source": [
    "## In a survey of 500 people, 65% reported being satisfied with their current job. Calculate the 95% confidence interval for the true proportion of people who are satisfied with their job."
   ]
  },
  {
   "cell_type": "markdown",
   "id": "96610eda-1ebf-4793-85c1-ae5fff421f4b",
   "metadata": {},
   "source": [
    "### To calculate the 95% confidence interval for the true proportion of people who are satisfied with their job, we can use the formula for a confidence interval for proportions. Here's how we can calculate it:\n",
    "Given information:\n",
    "Sample size (n) = 500\n",
    "Proportion of people satisfied with their job (p̂) = 0.65 (65% reported satisfaction)\n",
    "1. Calculate the standard error:\n",
    "The standard error (SE) for the proportion is given by:\n",
    "SE = √[(p̂ * (1 - p̂)) / n]\n",
    "SE = √[(0.65 * (1 - 0.65)) / 500]\n",
    "   = √[(0.65 * 0.35) / 500]\n",
    "   ≈ √(0.2275 / 500)\n",
    "   ≈ √0.000455\n",
    "   ≈ 0.02134\n",
    "2. Determine the critical value:\n",
    "To calculate the critical value, we need to use the Z-distribution since the sample size is large enough (n > 30). For a 95% confidence level, the critical value is approximately 1.96. This value corresponds to the two-tailed test.\n",
    "3. Calculate the confidence interval:\n",
    "The confidence interval formula for proportions is:\n",
    "Confidence Interval = p̂ ± (Z * SE)\n",
    "Confidence Interval = 0.65 ± (1.96 * 0.02134)\n",
    "Confidence Interval = 0.65 ± 0.04176\n",
    "The lower bound of the confidence interval:\n",
    "Lower Bound = 0.65 - 0.04176 ≈ 0.60824\n",
    "The upper bound of the confidence interval:\n",
    "Upper Bound = 0.65 + 0.04176 ≈ 0.69176\n",
    "The 95% confidence interval for the true proportion of people who are satisfied with their job is approximately 0.608 to 0.692.\n",
    "Interpretation:\n",
    "We can say with 95% confidence that the true proportion of people who are satisfied with their job falls within the calculated confidence interval. In this case, based on the survey data, we estimate that between approximately 60.8% to 69.2% of the population is satisfied with their current job."
   ]
  },
  {
   "cell_type": "markdown",
   "id": "b8c96cb4-3f67-4fed-aafb-19017b97ccf2",
   "metadata": {},
   "source": [
    "# Question.12"
   ]
  },
  {
   "cell_type": "markdown",
   "id": "3a5d9d88-d232-489c-9b33-b37aeaaa8b91",
   "metadata": {},
   "source": [
    "##  A researcher is testing the effectiveness of two different teaching methods on student performance. Sample A has a mean score of 85 with a standard deviation of 6, while sample B has a mean score of 82 with a standard deviation of 5. Conduct a hypothesis test to determine if the two teaching methods have a significant difference in student performance using a t-test with a significance level of 0.01."
   ]
  },
  {
   "cell_type": "markdown",
   "id": "dd63c7da-7972-4e19-b2e1-8944f130af14",
   "metadata": {},
   "source": [
    "### To conduct a hypothesis test to determine if the two teaching methods have a significant difference in student performance, we can use a two-sample t-test. Here's how we can proceed:\n",
    "Null Hypothesis (H₀): There is no significant difference in student performance between the two teaching methods.\n",
    "Alternative Hypothesis (H₁): There is a significant difference in student performance between the two teaching methods.\n",
    "Given information:\n",
    "Sample A: \n",
    "Sample mean (x̄₁) = 85\n",
    "Standard deviation (s₁) = 6\n",
    "Sample size (n₁) - not provided\n",
    "\n",
    "Sample B:\n",
    "Sample mean (x̄₂) = 82\n",
    "Standard deviation (s₂) = 5\n",
    "Sample size (n₂) - not provided\n",
    "\n",
    "Significance level (α) = 0.01\n",
    "\n",
    "Since the sample sizes (n₁ and n₂) are not provided, we cannot perform the exact t-test without that information. However, assuming that the sample sizes are reasonably large, we can proceed with the calculation.\n",
    "\n",
    "1. Set the significance level (α):\n",
    "The significance level, α, determines the threshold for rejecting the null hypothesis. In this case, the significance level is given as 0.01, corresponding to a confidence level of 99%.\n",
    "\n",
    "2. Calculate the test statistic:\n",
    "The test statistic for a two-sample t-test is given by:\n",
    "t = (x̄₁ - x̄₂) / √[(s₁² / n₁) + (s₂² / n₂)]\n",
    "\n",
    "However, since the sample sizes (n₁ and n₂) are not provided, we cannot calculate the exact test statistic without that information.\n",
    "\n",
    "3. Determine the critical value:\n",
    "The critical value for a two-sample t-test depends on the degrees of freedom and the significance level. Degrees of freedom can be approximated using the formula: df ≈ (s₁² / n₁ + s₂² / n₂)² / [((s₁² / n₁)² / (n₁ - 1)) + ((s₂² / n₂)² / (n₂ - 1))]\n",
    "\n",
    "Using the degrees of freedom and the significance level, we can find the critical value from the t-distribution table or using software.\n",
    "\n",
    "4. Compare the test statistic with the critical value:\n",
    "If the test statistic is greater than the critical value, we reject the null hypothesis. Otherwise, if the test statistic is less than the critical value, we fail to reject the null hypothesis.\n",
    "\n",
    "Since we don't have the sample sizes, we cannot calculate the exact test statistic or determine the critical value. Therefore, we cannot perform the hypothesis test or draw a conclusion based on the given information.\n",
    "\n",
    "To conduct a valid hypothesis test, we would need the sample sizes (n₁ and n₂) for both teaching methods. With the sample sizes, we could calculate the degrees of freedom, determine the critical value, and perform the hypothesis test to evaluate the significance of the difference in student performance between the two teaching methods."
   ]
  },
  {
   "cell_type": "markdown",
   "id": "c100b8fd-114c-4521-ac45-539bd459ab49",
   "metadata": {},
   "source": [
    "# Question.13"
   ]
  },
  {
   "cell_type": "markdown",
   "id": "62e7d21f-6335-457d-958e-36648df29e75",
   "metadata": {},
   "source": [
    "## A population has a mean of 60 and a standard deviation of 8. A sample of 50 observations has a mean of 65. Calculate the 90% confidence interval for the true population mean."
   ]
  },
  {
   "cell_type": "markdown",
   "id": "351007f5-fa50-4fa7-ac9e-377b3107a367",
   "metadata": {},
   "source": [
    "### To calculate the 90% confidence interval for the true population mean, we can use the formula for a confidence interval when the population standard deviation is known. Here's how we can calculate it:\n",
    "\n",
    "Given information:\n",
    "Population mean (μ) = 60\n",
    "Population standard deviation (σ) = 8\n",
    "Sample size (n) = 50\n",
    "Sample mean (x̄) = 65\n",
    "\n",
    "1. Calculate the standard error:\n",
    "The standard error (SE) for the mean when the population standard deviation is known is given by:\n",
    "SE = σ / √n\n",
    "\n",
    "SE = 8 / √50\n",
    "   ≈ 8 / 7.071\n",
    "   ≈ 1.131\n",
    "\n",
    "2. Determine the critical value:\n",
    "To calculate the critical value, we need to use the Z-distribution since the population standard deviation is known. For a 90% confidence level, the critical value is approximately 1.645. This value corresponds to the two-tailed test.\n",
    "\n",
    "3. Calculate the confidence interval:\n",
    "The confidence interval formula for the true population mean is:\n",
    "Confidence Interval = x̄ ± (Z * SE)\n",
    "\n",
    "Confidence Interval = 65 ± (1.645 * 1.131)\n",
    "\n",
    "Confidence Interval = 65 ± 1.859\n",
    "\n",
    "The lower bound of the confidence interval:\n",
    "Lower Bound = 65 - 1.859 ≈ 63.141\n",
    "\n",
    "The upper bound of the confidence interval:\n",
    "Upper Bound = 65 + 1.859 ≈ 66.859\n",
    "\n",
    "The 90% confidence interval for the true population mean is approximately 63.141 to 66.859.\n",
    "\n",
    "Interpretation:\n",
    "We can say with 90% confidence that the true population mean falls within the calculated confidence interval. In this case, based on the sample data, we estimate that the true population mean is between approximately 63.141 and 66.859."
   ]
  },
  {
   "cell_type": "markdown",
   "id": "6d21b9d7-ac23-4280-bd42-ae4ebb36177e",
   "metadata": {},
   "source": [
    "# Question.14"
   ]
  },
  {
   "cell_type": "markdown",
   "id": "ac6fc32e-259d-4cfe-b2c2-0162846b06c2",
   "metadata": {},
   "source": [
    "## In a study of the effects of caffeine on reaction time, a sample of 30 participants had an average reaction time of 0.25 seconds with a standard deviation of 0.05 seconds. Conduct a hypothesis test to determine if the caffeine has a significant effect on reaction time at a 90% confidence level using a t-test."
   ]
  },
  {
   "cell_type": "markdown",
   "id": "f019b7a4-1bc1-4c35-82a3-7139674c523b",
   "metadata": {},
   "source": [
    "### To conduct a hypothesis test to determine if caffeine has a significant effect on reaction time at a 90% confidence level using a t-test, we need to set up the null and alternative hypotheses and perform the necessary calculations. Here's how we can proceed:\n",
    "Null Hypothesis (H₀): Caffeine does not have a significant effect on reaction time; the mean reaction time is equal to or greater than 0.25 seconds.\n",
    "Alternative Hypothesis (H₁): Caffeine has a significant effect on reaction time; the mean reaction time is less than 0.25 seconds.\n",
    "Given information:\n",
    "Sample size (n) = 30\n",
    "Sample mean (x̄) = 0.25 seconds\n",
    "Sample standard deviation (s) = 0.05 seconds\n",
    "1. Set the significance level (α):\n",
    "The significance level, denoted as α, determines the threshold for rejecting the null hypothesis. In this case, the confidence level is 90%, which corresponds to a significance level of 0.10.\n",
    "\n",
    "2. Calculate the test statistic:\n",
    "The test statistic for a one-sample t-test is given by:\n",
    "t = (x̄ - μ₀) / (s / √n)\n",
    "where:\n",
    "- x̄ is the sample mean\n",
    "- μ₀ is the hypothesized population mean (0.25 seconds in this case)\n",
    "- s is the sample standard deviation\n",
    "- n is the sample size\n",
    "\n",
    "t = (0.25 - 0) / (0.05 / √30)\n",
    "  = 0.25 / (0.05 / 5.477)\n",
    "  = 0.25 / 0.009\n",
    "  ≈ 27.778\n",
    "\n",
    "3. Determine the critical value or p-value:\n",
    "Since the alternative hypothesis is one-sided (less than), we'll find the critical value or p-value for a one-sided t-test.\n",
    "\n",
    "Looking up the critical value from the t-distribution table or using software with (n - 1) degrees of freedom, at a significance level of 0.10 and 29 degrees of freedom, we find the critical value to be approximately -1.311.\n",
    "\n",
    "Alternatively, if using software to calculate the p-value, we would find it to be very small, typically less than 0.001.\n",
    "\n",
    "4. Compare the test statistic with the critical value or p-value:\n",
    "If the test statistic is less than the critical value (or if the p-value is less than α), we reject the null hypothesis. Otherwise, if the test statistic is greater than the critical value (or if the p-value is greater than or equal to α), we fail to reject the null hypothesis.\n",
    "\n",
    "In this case, the test statistic (t = 27.778) is greater than the critical value (-1.311) and the p-value is very small (typically less than 0.001). Therefore, we reject the null hypothesis.\n",
    "\n",
    "Conclusion:\n",
    "Based on the given sample data, we have evidence to suggest that caffeine has a significant effect on reaction time at a 90% confidence level. The sample mean reaction time of 0.25 seconds is significantly less than the hypothesized mean of 0.25 seconds, indicating a potential improvement in reaction time with caffeine."
   ]
  }
 ],
 "metadata": {
  "kernelspec": {
   "display_name": "Python 3 (ipykernel)",
   "language": "python",
   "name": "python3"
  },
  "language_info": {
   "codemirror_mode": {
    "name": "ipython",
    "version": 3
   },
   "file_extension": ".py",
   "mimetype": "text/x-python",
   "name": "python",
   "nbconvert_exporter": "python",
   "pygments_lexer": "ipython3",
   "version": "3.10.8"
  }
 },
 "nbformat": 4,
 "nbformat_minor": 5
}
