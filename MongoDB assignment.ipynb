{
 "cells": [
  {
   "cell_type": "markdown",
   "id": "b633e98a-14a5-4b19-9ca9-d4f993e67fc2",
   "metadata": {},
   "source": [
    "# Question.1"
   ]
  },
  {
   "cell_type": "markdown",
   "id": "e62e4832-b897-41c2-900b-8c56fb388452",
   "metadata": {},
   "source": [
    "## What is MongoDB? Explain non-relational databases in short. In which scenarios it is preferred to use MongoDB over SQL databases?"
   ]
  },
  {
   "cell_type": "markdown",
   "id": "caff306b-f52e-460c-a6df-bba628f98a6d",
   "metadata": {},
   "source": [
    "### Ans: MongoDB is a popular document-oriented NoSQL database system. It stores data in flexible, semi-structured documents, typically in JSON-like format called BSON (Binary JSON). It offers scalability, high performance, and easy data modeling. MongoDB provides a dynamic schema, allowing documents to have different fields and structures within the same collection.\n",
    "Non-relational databases, also known as NoSQL databases, are database systems that do not adhere to the traditional relational database model. Unlike SQL databases, which use tables with fixed schemas and support complex joins, NoSQL databases use various data models such as key-value, document, columnar, or graph. These databases are designed to handle large amounts of unstructured or semi-structured data, and they provide flexibility, horizontal scalability, and high availability.\n",
    "MongoDB is preferred over SQL databases in several scenarios:\n",
    "1. Flexibility and scalability: MongoDB's document-oriented model allows for flexible and dynamic schemas, making it suitable for evolving or rapidly changing data structures. It easily scales horizontally by sharding data across multiple servers, enabling high performance and accommodating large-scale applications.\n",
    "2. Unstructured or semi-structured data: When dealing with data that doesn't fit well into a predefined schema, such as social media feeds, sensor data, or log files, MongoDB's document model provides a natural way to store and query this type of data.\n",
    "3. Agile development and rapid prototyping: MongoDB's flexible schema makes it easier to iterate and adapt during the development process. It allows developers to store, retrieve, and modify data without the need for extensive schema migrations.\n",
    "4. Real-time analytics and caching: MongoDB's high write throughput and low latency make it suitable for scenarios where real-time data processing and analytics are required. It can efficiently handle write-heavy workloads and serve as a caching layer for frequently accessed data.\n",
    "5. Geographically distributed databases: MongoDB's built-in support for data replication and distributed architectures makes it well-suited for applications that require data availability across multiple locations or regions."
   ]
  },
  {
   "cell_type": "markdown",
   "id": "b366a10c-f828-47e3-90aa-2245deaf2670",
   "metadata": {},
   "source": [
    "# Question.2"
   ]
  },
  {
   "cell_type": "markdown",
   "id": "ab2e9439-267a-478f-8867-875ac6b92dd7",
   "metadata": {},
   "source": [
    "## State and Explain the features of MongoDB."
   ]
  },
  {
   "cell_type": "markdown",
   "id": "7049e492-c968-4371-8a55-82a21b44cd73",
   "metadata": {},
   "source": [
    "### Ans: MongoDB has several key features that contribute to its popularity and widespread adoption. Here are the main features of MongoDB:\n",
    "1. Document-Oriented: MongoDB is a document-oriented database, where data is stored in flexible, self-describing documents using a format called BSON (Binary JSON). Each document can have a different structure, allowing for easy schema evolution and accommodating diverse data types within a collection.\n",
    "2. Scalability and High Performance: MongoDB is designed to scale horizontally, distributing data across multiple servers or clusters. It supports automatic sharding, which allows for linear scalability as the data and traffic increase. MongoDB also provides built-in load balancing and query optimization, enabling high performance and efficient resource utilization.\n",
    "3. Flexible Schema: MongoDB's dynamic schema allows for easy handling of evolving data structures. It does not enforce rigid schemas or relationships between tables, giving developers the freedom to modify the schema without downtime or complex migrations. This flexibility is particularly useful in agile development environments.\n",
    "4. Rich Query Language: MongoDB offers a powerful and expressive query language that supports a wide range of operations and query types. It includes features such as filtering, sorting, aggregation, indexing, and geospatial queries. The query language allows for complex queries and supports efficient querying of nested documents and arrays.\n",
    "5. Secondary Indexing: MongoDB supports the creation of indexes on any field within a document, providing efficient access to data. It includes various index types, including single-field indexes, compound indexes, multi-key indexes (for arrays), and geospatial indexes. Indexes can significantly improve query performance, especially for frequently accessed fields or complex queries.\n",
    "6. Replication and High Availability: MongoDB provides automatic data replication, allowing for the creation of replica sets. Replica sets ensure data redundancy and high availability by maintaining multiple copies of data across different servers. If a primary node fails, a secondary node can take over seamlessly, minimizing downtime and ensuring data durability."
   ]
  },
  {
   "cell_type": "markdown",
   "id": "5cd0855f-b516-4e0f-8271-a49604505424",
   "metadata": {},
   "source": [
    "# Question.3"
   ]
  },
  {
   "cell_type": "markdown",
   "id": "f49fd36d-4f42-40d7-b2ee-1a89519926e9",
   "metadata": {},
   "source": [
    "## Write a code to connect MongoDB to Python. Also, create a database and a collection in MongoDB."
   ]
  },
  {
   "cell_type": "markdown",
   "id": "fb495faa-7dd9-4902-b83c-52e802f82843",
   "metadata": {},
   "source": [
    "### Ans: To connect MongoDB to Python, you can use the PyMongo library, which is the official Python driver for MongoDB. Here's an example code snippet that demonstrates how to connect to MongoDB, create a database, and a collection:\n",
    "```python\n",
    "import pymongo\n",
    "client = pymongo.MongoClient(\"mongodb://localhost:27017/\")\n",
    "mydb = client[\"mydatabase\"] \n",
    "mycollection = mydb[\"mycollection\"]\n",
    "document = {\"name\": \"John\", \"age\": 30} \n",
    "inserted_document = mycollection.insert_one(document)\n",
    "print(\"Inserted document ID:\", inserted_document.inserted_id)\n",
    "```\n",
    "In the above code, you first import the `pymongo` library. Then, you use `pymongo.MongoClient` to establish a connection to the MongoDB server. Make sure to replace \"localhost\" with the appropriate server address if your MongoDB server is running on a different machine.\n",
    "Next, you create a database using the `client` object by accessing it with the desired database name (`mydatabase` in this example). If the database does not exist, MongoDB will create it when you first write data to it.\n",
    "After that, you create a collection within the database by accessing it with the desired collection name (`mycollection` in this example). Again, if the collection does not exist, MongoDB will create it when you first write data to it.\n",
    "Finally, you insert a document into the collection using `insert_one()`. In this example, a document with the fields \"name\" and \"age\" is inserted. The inserted document's ID is printed for verification.\n",
    "Remember to have MongoDB server running before executing this code, and make sure you have the `pymongo` library installed (you can install it using `pip install pymongo`)."
   ]
  },
  {
   "cell_type": "markdown",
   "id": "9a380078-f2f4-42ef-8c8f-f543ca990cd5",
   "metadata": {},
   "source": [
    "# Question.4"
   ]
  },
  {
   "cell_type": "markdown",
   "id": "534c299e-2c05-40a7-8670-10b40ff6f1f7",
   "metadata": {},
   "source": [
    "## Using the database and the collection created in question number 3, write a code to insert one record,and insert many records. Use the find() and find_one() methods to print the inserted record."
   ]
  },
  {
   "cell_type": "markdown",
   "id": "40af58de-1c00-40f0-b582-dd172de6565b",
   "metadata": {},
   "source": [
    "### Ans: Certainly! Here's an example code snippet that demonstrates how to insert one record and insert multiple records into a collection in MongoDB. It also uses the `find()` and `find_one()` methods to retrieve and print the inserted records:\n",
    "```python\n",
    "import pymongo\n",
    "client = pymongo.MongoClient(\"mongodb://localhost:27017/\") \n",
    "mydb = client[\"mydatabase\"]\n",
    "mycollection = mydb[\"mycollection\"]\n",
    "document_one = {\"name\": \"Alice\", \"age\": 25, \"city\": \"New York\"}\n",
    "inserted_document_one = mycollection.insert_one(document_one)\n",
    "print(\"Inserted record:\")\n",
    "print(mycollection.find_one({\"_id\": inserted_document_one.inserted_id}))\n",
    "documents_many = [\n",
    "    {\"name\": \"Bob\", \"age\": 30, \"city\": \"London\"},\n",
    "    {\"name\": \"Charlie\", \"age\": 35, \"city\": \"Paris\"},\n",
    "    {\"name\": \"David\", \"age\": 40, \"city\": \"Tokyo\"}\n",
    "] \n",
    "inserted_documents_many = mycollection.insert_many(documents_many)\n",
    "print(\"\\nInserted records:\")\n",
    "for document in mycollection.find():\n",
    "    print(document)\n",
    "```\n",
    "In the above code, we assume that you have already established a connection to the MongoDB server and have the `mydatabase` database and `mycollection` collection available.\n",
    "First, we insert one record using `insert_one()`. The document to be inserted is defined in the `document_one` variable. The `_id` field of the inserted document is retrieved from `inserted_document_one` and used to query and print the inserted record using `find_one()`.\n",
    "Next, we insert multiple records using `insert_many()`. The documents to be inserted are defined in the `documents_many` list. The inserted document IDs are not individually retrieved because `insert_many()` returns an `InsertManyResult` object. Instead, we iterate over all the documents in the collection using `find()` and print them one by one.\n",
    "Make sure your MongoDB server is running before executing this code, and that you have the necessary privileges to perform write operations on the specified database and collection."
   ]
  },
  {
   "cell_type": "markdown",
   "id": "b3c54947-3177-4200-96c3-2ce867935385",
   "metadata": {},
   "source": [
    "# Question.5"
   ]
  },
  {
   "cell_type": "markdown",
   "id": "4ff5f238-27d2-4be8-a70a-a40cd448379a",
   "metadata": {},
   "source": [
    "## Explain how you can use the find() method to query the MongoDB database. Write a simple code to demonstrate this."
   ]
  },
  {
   "cell_type": "markdown",
   "id": "02d654f7-324a-421e-9e32-a6ebf6025c33",
   "metadata": {},
   "source": [
    "### Ans: In MongoDB, the `find()` method is used to query a database collection and retrieve documents that match certain criteria. It allows you to specify filters, projection, sorting, and other options to customize the query results. Here's a step-by-step explanation of how you can use the `find()` method and a code example to demonstrate its usage:\n",
    "1. Connect to MongoDB and access the desired database and collection.\n",
    "2. Use the `find()` method on the collection object to initiate a query.\n",
    "3. Optionally, pass a filter document as an argument to `find()` to specify the criteria for document selection. The filter document defines conditions that the documents must meet to be included in the query results.\n",
    "4. Optionally, pass a projection document as an argument to `find()` to specify which fields to include or exclude from the query results. This helps in retrieving only the required fields, reducing network traffic and improving performance.\n",
    "5. Optionally, use additional methods such as `sort()`, `limit()`, or `skip()` to further refine the query results.\n",
    "6. Iterate over the cursor object returned by `find()` to access the retrieved documents.\n",
    "Here's an example code snippet that demonstrates the usage of the `find()` method in MongoDB:\n",
    "\n",
    "```python\n",
    "import pymongo\n",
    "client = pymongo.MongoClient(\"mongodb://localhost:27017/\") \n",
    "mydb = client[\"mydatabase\"]\n",
    "mycollection = mydb[\"mycollection\"]\n",
    "all_documents = mycollection.find()\n",
    "print(\"All documents:\")\n",
    "for document in all_documents:\n",
    "    print(document)\n",
    "filter_criteria = {\"age\": {\"$gt\": 30}}  \n",
    "filtered_documents = mycollection.find(filter_criteria)\n",
    "print(\"\\nFiltered documents:\")\n",
    "for document in filtered_documents:\n",
    "    print(document)\n",
    "```"
   ]
  },
  {
   "cell_type": "markdown",
   "id": "e5663040-8f78-4c13-a055-8b7955e48c9e",
   "metadata": {},
   "source": [
    "# Question.6"
   ]
  },
  {
   "cell_type": "markdown",
   "id": "a9560eb7-73b7-47f3-8f6b-f82d57f1a543",
   "metadata": {},
   "source": [
    "## Explain the sort() method. Give an example to demonstrate sorting in MongoDB."
   ]
  },
  {
   "cell_type": "markdown",
   "id": "d6c42e74-6186-4719-bcbe-a57c98b6c64a",
   "metadata": {},
   "source": [
    "### Ans: In MongoDB, the `sort()` method is used to sort the documents returned by a query based on one or more fields. It allows you to specify the sorting order as ascending or descending for each field. The `sort()` method is typically used in conjunction with the `find()` method to retrieve documents in a specific order. Here's an explanation of how the `sort()` method works and an example to demonstrate sorting in MongoDB:\n",
    "The `sort()` method takes one or more fields as arguments along with their corresponding sorting order. Each field can be specified using a dictionary where the key represents the field name, and the value is either `1` for ascending order or `-1` for descending order. Multiple fields can be passed as separate key-value pairs to sort by multiple fields. The sorting is applied in the order of the specified fields.\n",
    "Here's an example code snippet that demonstrates the usage of the `sort()` method in MongoDB:\n",
    "```python\n",
    "import pymongo\n",
    "client = pymongo.MongoClient(\"mongodb://localhost:27017/\") \n",
    "mydb = client[\"mydatabase\"]\n",
    "mycollection = mydb[\"mycollection\"]\n",
    "ascending_sort = mycollection.find().sort(\"name\", 1)\n",
    "print(\"Ascending sorted documents:\")\n",
    "for document in ascending_sort:\n",
    "    print(document)\n",
    "descending_sort = mycollection.find().sort(\"age\", -1)\n",
    "print(\"\\nDescending sorted documents:\")\n",
    "for document in descending_sort:\n",
    "    print(document)\n",
    "```"
   ]
  },
  {
   "cell_type": "markdown",
   "id": "b25ed0b9-f5a8-4a40-b873-a05df20f7b0a",
   "metadata": {},
   "source": [
    "# Question.7"
   ]
  },
  {
   "cell_type": "markdown",
   "id": "032b0f1c-f172-4248-96c8-97975731faa4",
   "metadata": {},
   "source": [
    "## Explain why delete_one(), delete_many(), and drop() is used."
   ]
  },
  {
   "cell_type": "markdown",
   "id": "311e9a40-56f2-48f8-a7b0-2a2a7135fb2a",
   "metadata": {},
   "source": [
    "### Ans: The methods `delete_one()`, `delete_many()`, and `drop()` are used in MongoDB to remove documents or collections from a database. Here's an explanation of each method:\n",
    "1. `delete_one(filter)`: This method is used to delete a single document that matches the specified filter criteria. The filter document defines the condition that the document must meet to be deleted. If multiple documents match the filter criteria, only the first document encountered will be deleted. If no document matches the filter, no action is taken. The method returns a `DeleteResult` object that contains information about the operation, such as the number of deleted documents.\n",
    "Example:\n",
    "```python\n",
    "# Delete a single document matching a specific condition\n",
    "result = mycollection.delete_one({\"name\": \"John\"})\n",
    "print(\"Deleted count:\", result.deleted_count)\n",
    "```\n",
    "2. `delete_many(filter)`: This method is used to delete multiple documents that match the specified filter criteria. It removes all documents that meet the filter condition. If no document matches the filter, no action is taken. Like `delete_one()`, it also returns a `DeleteResult` object with information about the operation.\n",
    "Example:\n",
    "```python\n",
    "# Delete multiple documents matching a specific condition\n",
    "result = mycollection.delete_many({\"age\": {\"$lt\": 30}})\n",
    "print(\"Deleted count:\", result.deleted_count)\n",
    "```\n",
    "3. `drop()`: This method is used to delete an entire collection from the database. It permanently removes all documents in the collection, and the collection itself. The collection will be completely deleted, and all associated indexes and metadata will be removed. Be cautious when using this method as it cannot be undone. The `drop()` method does not return any information about the operation.\n",
    "Example:\n",
    "```python\n",
    "# Delete the entire collection\n",
    "mycollection.drop()\n",
    "```"
   ]
  },
  {
   "cell_type": "code",
   "execution_count": null,
   "id": "01eaf8a4-6175-459c-b241-dfb0a8dd5222",
   "metadata": {},
   "outputs": [],
   "source": []
  }
 ],
 "metadata": {
  "kernelspec": {
   "display_name": "Python 3 (ipykernel)",
   "language": "python",
   "name": "python3"
  },
  "language_info": {
   "codemirror_mode": {
    "name": "ipython",
    "version": 3
   },
   "file_extension": ".py",
   "mimetype": "text/x-python",
   "name": "python",
   "nbconvert_exporter": "python",
   "pygments_lexer": "ipython3",
   "version": "3.10.8"
  }
 },
 "nbformat": 4,
 "nbformat_minor": 5
}
