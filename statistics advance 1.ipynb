{
 "cells": [
  {
   "cell_type": "markdown",
   "id": "9ae6c265-31ee-4807-bd11-4b0a00b19d94",
   "metadata": {},
   "source": [
    "# Question.1"
   ]
  },
  {
   "cell_type": "markdown",
   "id": "7710eb4c-af6f-4c4f-b23b-788c1cf4f015",
   "metadata": {},
   "source": [
    "## What is the Probability density function?"
   ]
  },
  {
   "cell_type": "markdown",
   "id": "f7ccec75-5dc3-4cae-816d-9207963ec8f8",
   "metadata": {},
   "source": [
    "### The probability density function (PDF) is a mathematical function that describes the probability distribution of a continuous random variable. It provides the probability of a random variable falling within a particular range of values.\n",
    "The PDF is used to determine the likelihood of observing different values of a continuous random variable within a given range. Unlike discrete probability distributions that assign probabilities to specific values, the PDF represents the probability distribution as a continuous curve. The area under the curve over a given interval represents the probability of the random variable falling within that interval.\n",
    "The properties of a PDF are as follows:\n",
    "1. Non-Negativity: The PDF is always non-negative, meaning that the probability of an event occurring is never negative.\n",
    "2. Integration: The integral of the PDF over its entire range is equal to 1. This ensures that the total probability of all possible events is equal to 1.\n",
    "3. Probability Density: The PDF represents the probability density at a particular point on the curve. The probability of observing a specific value is equal to zero, as the PDF describes the likelihood of a continuous range of values.\n",
    "Common probability density functions include the normal distribution (bell-shaped curve), uniform distribution (constant density over a defined range), exponential distribution, and many others. The specific shape of the PDF depends on the characteristics and parameters of the distribution.\n",
    "The PDF is widely used in statistical analysis, probability theory, and various fields such as physics, economics, engineering, and data science. It helps in understanding the likelihood of different outcomes and plays a fundamental role in statistical modeling and inference."
   ]
  },
  {
   "cell_type": "markdown",
   "id": "854c1771-d6d1-4085-afa9-e8d9f11104f2",
   "metadata": {},
   "source": [
    "# Question.2"
   ]
  },
  {
   "cell_type": "markdown",
   "id": "9cd250ee-5235-4dcb-aefc-59213a72328f",
   "metadata": {},
   "source": [
    "## What are the types of Probability distribution?"
   ]
  },
  {
   "cell_type": "markdown",
   "id": "e18f5f7e-0df7-468e-aa3d-6d698ae44f75",
   "metadata": {},
   "source": [
    "There are several types of probability distributions, each with its own characteristics and areas of application. Here are some commonly encountered probability distributions:\n",
    "1. Normal Distribution (Gaussian Distribution): The normal distribution is perhaps the most well-known and widely used probability distribution. It has a bell-shaped curve and is characterized by its mean and standard deviation. Many natural phenomena and measurements tend to follow a normal distribution, making it a fundamental distribution in statistics.\n",
    "2. Uniform Distribution: The uniform distribution has a constant probability density over a defined range. It is often used when all values within a given interval are equally likely to occur.\n",
    "3. Exponential Distribution: The exponential distribution is commonly used to model the time between events in a Poisson process. It is characterized by its rate parameter and is often used to describe events that occur randomly and independently over time.\n",
    "4. Poisson Distribution: The Poisson distribution is used to model the number of events that occur in a fixed interval of time or space. It is characterized by its average rate parameter and is often used for count data or rare events.\n",
    "5. Binomial Distribution: The binomial distribution is used to model the number of successes in a fixed number of independent Bernoulli trials. It is characterized by its number of trials and probability of success.\n",
    "6. Geometric Distribution: The geometric distribution models the number of trials needed to achieve the first success in a sequence of independent Bernoulli trials with a constant probability of success.\n",
    "7. Hypergeometric Distribution: The hypergeometric distribution is used when sampling without replacement, such as drawing items from a finite population without returning them. It is characterized by the population size, number of successes, and sample size.\n",
    "8. Gamma Distribution: The gamma distribution is a versatile distribution used to model various continuous positive variables. It is often used to model wait times, lifetimes, and skewed data.\n",
    "These are just a few examples of probability distributions, and there are many others, including the beta distribution, Weibull distribution, log-normal distribution, and more. Each distribution has its own set of parameters and properties that make it suitable for modeling specific types of data or phenomena. The choice of distribution depends on the characteristics of the data and the problem at hand."
   ]
  },
  {
   "cell_type": "markdown",
   "id": "b9bc733e-a245-444d-9790-6abfa6c6a64e",
   "metadata": {},
   "source": [
    "# Question.3"
   ]
  },
  {
   "cell_type": "markdown",
   "id": "8db93898-7b8b-43dc-9fc6-728a96e84cc3",
   "metadata": {},
   "source": [
    "##  Write a Python function to calculate the probability density function of a normal distribution with given mean and standard deviation at a given point."
   ]
  },
  {
   "cell_type": "code",
   "execution_count": 1,
   "id": "28cc9cde-3d67-41ea-aead-bd1198ed0929",
   "metadata": {},
   "outputs": [
    {
     "name": "stdout",
     "output_type": "stream",
     "text": [
      "The PDF at x=1.5 is: 0.12951759566589174\n"
     ]
    }
   ],
   "source": [
    "import math\n",
    "def normal_pdf(x, mean, std_dev):\n",
    "    coefficient = 1 / (std_dev * math.sqrt(2 * math.pi))\n",
    "    exponent = -((x - mean) ** 2) / (2 * std_dev ** 2)\n",
    "    pdf_value = coefficient * math.exp(exponent)\n",
    "    return pdf_value\n",
    "mean = 0\n",
    "std_dev = 1\n",
    "x = 1.5\n",
    "\n",
    "pdf = normal_pdf(x, mean, std_dev)\n",
    "print(f\"The PDF at x={x} is: {pdf}\")\n"
   ]
  },
  {
   "cell_type": "markdown",
   "id": "00ae0066-0ad6-49c4-bb28-d35a6f43c1fa",
   "metadata": {},
   "source": [
    "# Question.4"
   ]
  },
  {
   "cell_type": "markdown",
   "id": "d54ada3a-4890-489d-824f-4abad4bf0dba",
   "metadata": {},
   "source": [
    "## What are the properties of Binomial distribution? Give two examples of events where binomial distribution can be applied."
   ]
  },
  {
   "cell_type": "markdown",
   "id": "678586d4-01b5-4f3f-a99d-031da944ee86",
   "metadata": {},
   "source": [
    "The properties of the binomial distribution include:\n",
    "1. Discrete Probability Distribution: The binomial distribution is a discrete probability distribution, meaning it describes the probabilities of a specific number of successes in a fixed number of independent Bernoulli trials.\n",
    "2. Fixed Number of Trials: The binomial distribution is defined for a fixed number of trials, denoted as \"n.\" Each trial is independent and has only two possible outcomes: success (usually denoted as \"S\") or failure (usually denoted as \"F\").\n",
    "3. Constant Probability of Success: In the binomial distribution, the probability of success in each trial remains constant. It is typically denoted as \"p.\"\n",
    "4. Independent Trials: The trials in a binomial distribution are assumed to be independent, meaning the outcome of one trial does not affect the outcome of any other trial.\n",
    "5. Parameters: The binomial distribution is characterized by two parameters: the number of trials (n) and the probability of success (p).\n",
    "Examples of events where the binomial distribution can be applied include:\n",
    "1. Coin Flips: Consider flipping a fair coin multiple times. Each flip can be considered a Bernoulli trial, with \"heads\" being the success and \"tails\" being the failure. The binomial distribution can be used to calculate the probability of obtaining a specific number of heads in a given number of coin flips.\n",
    "2. Quality Control: In manufacturing processes, products are often inspected for defects. Each product can be classified as defective or non-defective. The binomial distribution can be used to analyze the probability of a certain number of defective products in a sample of a fixed size, given the overall defect rate.\n",
    "In general, the binomial distribution is useful whenever we have a series of independent trials with a constant probability of success and we are interested in calculating the probabilities associated with different numbers of successes."
   ]
  },
  {
   "cell_type": "markdown",
   "id": "77693722-e196-499c-a0ef-dc63c0f98409",
   "metadata": {},
   "source": [
    "# Question.5"
   ]
  },
  {
   "cell_type": "markdown",
   "id": "df1cc13f-1e6c-4672-ac5a-1de3fa965d3c",
   "metadata": {},
   "source": [
    "## Generate a random sample of size 1000 from a binomial distribution with probability of success 0.4 and plot a histogram of the results using matplotlib."
   ]
  },
  {
   "cell_type": "code",
   "execution_count": 2,
   "id": "e7ea4956-e35b-412b-8eba-007351360a91",
   "metadata": {},
   "outputs": [
    {
     "data": {
      "image/png": "[encoded data removed]",
      "text/plain": [
       "<Figure size 640x480 with 1 Axes>"
      ]
     },
     "metadata": {},
     "output_type": "display_data"
    }
   ],
   "source": [
    "import numpy as np\n",
    "import matplotlib.pyplot as plt\n",
    "\n",
    "# Set the parameters\n",
    "n = 1000  # Number of trials\n",
    "p = 0.4  # Probability of success\n",
    "\n",
    "# Generate the random sample\n",
    "sample = np.random.binomial(n, p, size=1000)\n",
    "\n",
    "# Plot the histogram\n",
    "plt.hist(sample, bins=20, alpha=0.75, edgecolor='black')\n",
    "plt.xlabel('Number of Successes')\n",
    "plt.ylabel('Frequency')\n",
    "plt.title('Histogram of Binomial Distribution')\n",
    "plt.show()\n"
   ]
  },
  {
   "cell_type": "markdown",
   "id": "ce134e8a-7035-4f2d-8c5e-fbb0bf28cb25",
   "metadata": {},
   "source": [
    "# Question.6"
   ]
  },
  {
   "cell_type": "markdown",
   "id": "330a4498-c514-44a5-9e0e-4ef56be3150d",
   "metadata": {},
   "source": [
    "## Write a Python function to calculate the cumulative distribution function of a Poisson distribution with given mean at a given point."
   ]
  },
  {
   "cell_type": "code",
   "execution_count": 3,
   "id": "3dcbea6b-8fa4-4c62-bc5e-8d25315e79da",
   "metadata": {},
   "outputs": [
    {
     "name": "stdout",
     "output_type": "stream",
     "text": [
      "The CDF at x=2 is: 0.3208471988621341\n"
     ]
    }
   ],
   "source": [
    "import math\n",
    "\n",
    "def poisson_cdf(x, mean):\n",
    "    cdf_value = 0.0\n",
    "    for i in range(x + 1):\n",
    "        cdf_value += (math.exp(-mean) * mean ** i) / math.factorial(i)\n",
    "    return cdf_value\n",
    "mean = 3.5\n",
    "x = 2\n",
    "\n",
    "cdf = poisson_cdf(x, mean)\n",
    "print(f\"The CDF at x={x} is: {cdf}\")\n"
   ]
  },
  {
   "cell_type": "markdown",
   "id": "4a1da003-8ea8-4cf2-845e-146ca7d7837f",
   "metadata": {},
   "source": [
    "# Question.7"
   ]
  },
  {
   "cell_type": "markdown",
   "id": "492d7158-d992-4e03-bc10-5eeacffa38c9",
   "metadata": {},
   "source": [
    "## How Binomial distribution different from Poisson distribution?"
   ]
  },
  {
   "cell_type": "markdown",
   "id": "1ff8b82e-22ff-49bb-84ba-431df4d4b799",
   "metadata": {},
   "source": [
    "### The binomial distribution and the Poisson distribution are both probability distributions that are commonly used in statistics and probability theory. However, they differ in several key aspects:\n",
    "1. Number of Trials: The binomial distribution is defined for a fixed number of trials (denoted as \"n\"), where each trial has two possible outcomes (usually denoted as success and failure). In contrast, the Poisson distribution is used to model the number of events that occur in a fixed interval of time or space without specifying a predetermined number of trials.\n",
    "2. Probability of Success: In the binomial distribution, the probability of success in each trial remains constant and is denoted as \"p.\" This probability can vary from trial to trial in the Poisson distribution, as it represents the average rate of events occurring in a given interval.\n",
    "3. Nature of Events: The binomial distribution is commonly used when the events being observed are independent and have a fixed probability of success. It is often used in situations like coin flips or repeated Bernoulli trials. On the other hand, the Poisson distribution is used to model events that occur randomly and independently over time or space, such as the number of phone calls received at a call center in a given minute.\n",
    "4. Distribution Shape: The shape of the binomial distribution is generally symmetric, and it can be skewed depending on the values of the number of trials and the probability of success. The Poisson distribution is typically right-skewed and has a longer tail.\n",
    "5. Parameters: The binomial distribution is characterized by two parameters: the number of trials (n) and the probability of success (p). In contrast, the Poisson distribution has a single parameter, which is the average rate of events occurring in a given interval (often denoted as lambda, λ).\n",
    "6. Approximation: In certain cases, the Poisson distribution can be used as an approximation of the binomial distribution when the number of trials is large and the probability of success is small. This approximation occurs when both n (number of trials) and p (probability of success) are large, and np is relatively small."
   ]
  },
  {
   "cell_type": "markdown",
   "id": "0230e557-d51d-4496-95a3-c61a133e64a9",
   "metadata": {},
   "source": [
    "# Question.8"
   ]
  },
  {
   "cell_type": "markdown",
   "id": "b1a58fce-8e18-4fdd-b626-003b0aa2fd2f",
   "metadata": {},
   "source": [
    "## Generate a random sample of size 1000 from a Poisson distribution with mean 5 and calculate the sample mean and variance."
   ]
  },
  {
   "cell_type": "code",
   "execution_count": 4,
   "id": "0c0d2388-c72c-4afe-bb97-29cf0ed97a71",
   "metadata": {},
   "outputs": [
    {
     "name": "stdout",
     "output_type": "stream",
     "text": [
      "Sample Mean: 4.953\n",
      "Sample Variance: 5.2107909999999995\n"
     ]
    }
   ],
   "source": [
    "import numpy as np\n",
    "\n",
    "# Set the parameters\n",
    "mean = 5\n",
    "sample_size = 1000\n",
    "\n",
    "# Generate the random sample\n",
    "sample = np.random.poisson(mean, size=sample_size)\n",
    "\n",
    "# Calculate the sample mean and variance\n",
    "sample_mean = np.mean(sample)\n",
    "sample_variance = np.var(sample)\n",
    "\n",
    "print(f\"Sample Mean: {sample_mean}\")\n",
    "print(f\"Sample Variance: {sample_variance}\")\n"
   ]
  },
  {
   "cell_type": "markdown",
   "id": "bd8bab37-62e7-41b9-a5c2-178071090efe",
   "metadata": {},
   "source": [
    "# Question.9"
   ]
  },
  {
   "cell_type": "markdown",
   "id": "0a93b0a9-0168-47fb-960e-c82b82949737",
   "metadata": {},
   "source": [
    "## How mean and variance are related in Binomial distribution and Poisson distribution?"
   ]
  },
  {
   "cell_type": "markdown",
   "id": "337ca743-a8ea-4937-93e3-88a5459346aa",
   "metadata": {},
   "source": [
    "In both the binomial distribution and the Poisson distribution, the mean and variance have a relationship, but the nature of this relationship differs between the two distributions.\n",
    "\n",
    "Binomial Distribution:\n",
    "For a binomial distribution with parameters n (number of trials) and p (probability of success), the mean (μ) is given by μ = n * p, and the variance (σ^2) is given by σ^2 = n * p * (1 - p).\n",
    "\n",
    "In the binomial distribution, the variance increases as the probability of success (p) moves away from 0.5. When p = 0.5, the distribution is symmetric and the variance is maximized. As p deviates from 0.5, the distribution becomes increasingly skewed, and the variance decreases.\n",
    "\n",
    "Poisson Distribution:\n",
    "For a Poisson distribution with parameter λ (the average rate of events occurring in a given interval), both the mean (μ) and the variance (σ^2) are equal to λ. Hence, μ = σ^2 = λ.\n",
    "\n",
    "In the Poisson distribution, the mean and variance are equal, regardless of the value of λ. This indicates that the spread of the distribution is directly related to the average rate of events. As the average rate increases, the distribution becomes less dispersed and more concentrated around the mean value.\n",
    "\n",
    "To summarize, in the binomial distribution, the variance depends on both the number of trials (n) and the probability of success (p), while in the Poisson distribution, the mean and variance are equal and solely determined by the average rate (λ). In both distributions, as the mean increases, the spread tends to increase as well, but the specific relationship between the mean and variance differs."
   ]
  },
  {
   "cell_type": "markdown",
   "id": "ffada82f-45e1-46c9-9e5d-b2a041a735ba",
   "metadata": {},
   "source": [
    "# Question.10"
   ]
  },
  {
   "cell_type": "markdown",
   "id": "22e6629b-8cd9-42af-9a00-ee797704cd35",
   "metadata": {},
   "source": [
    "## In normal distribution with respect to mean position, where does the least frequent data appear?"
   ]
  },
  {
   "cell_type": "markdown",
   "id": "ca4e8569-9146-45b2-a553-8faedb2c895b",
   "metadata": {},
   "source": [
    "In a normal distribution, also known as a Gaussian distribution, the least frequent data appears in the tails of the distribution. \n",
    "\n",
    "The normal distribution is symmetric around its mean, with the highest frequency of data points occurring at the mean. As we move away from the mean towards the tails of the distribution, the frequency of data points gradually decreases.\n",
    "\n",
    "In a standard normal distribution (with a mean of 0 and a standard deviation of 1), approximately 68% of the data falls within one standard deviation of the mean, about 95% falls within two standard deviations, and roughly 99.7% falls within three standard deviations. This leaves only a small percentage of data in the tails of the distribution, beyond three standard deviations from the mean.\n",
    "\n",
    "Therefore, the data in the tails, both in the negative and positive directions, are the least frequent in a normal distribution. These extreme values in the tails represent the outliers or rare occurrences in the dataset."
   ]
  }
 ],
 "metadata": {
  "kernelspec": {
   "display_name": "Python 3 (ipykernel)",
   "language": "python",
   "name": "python3"
  },
  "language_info": {
   "codemirror_mode": {
    "name": "ipython",
    "version": 3
   },
   "file_extension": ".py",
   "mimetype": "text/x-python",
   "name": "python",
   "nbconvert_exporter": "python",
   "pygments_lexer": "ipython3",
   "version": "3.10.8"
  }
 },
 "nbformat": 4,
 "nbformat_minor": 5
}
