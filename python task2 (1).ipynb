{
 "cells": [
  {
   "cell_type": "markdown",
   "id": "eabc68db-f405-4992-90b1-4bff56c5f2e0",
   "metadata": {},
   "source": [
    "# Question.1"
   ]
  },
  {
   "cell_type": "markdown",
   "id": "9bc43a1b-5c55-4a24-b847-f7ce4c7abe14",
   "metadata": {},
   "source": [
    "## Create a function which will take a list as an argument and return the product of all the numbers after creating a flat list. Use the below-given list as an argument for your functionlist1 = [1,2,3,4, [44,55,66, True], False, (34,56,78,89,34), {1,2,3,3,2,1}, {1:34, \"key2\": [55, 67, 78, 89], 4: (45,22, 61, 34)}, [56, 'data science'], 'Machine Learning']\n",
    "Note: you must extract numeric keys and values of the dictionary also."
   ]
  },
  {
   "cell_type": "code",
   "execution_count": 6,
   "id": "5d447645-f39b-48b5-a873-55d06c6d42aa",
   "metadata": {},
   "outputs": [
    {
     "name": "stdout",
     "output_type": "stream",
     "text": [
      "0\n"
     ]
    }
   ],
   "source": [
    "#Answer:\n",
    "def calculate_product(lst):\n",
    "    product = 1\n",
    "    for item in lst:\n",
    "        if isinstance(item, list):\n",
    "            product *= calculate_product(item)\n",
    "        elif isinstance(item, dict):\n",
    "            product *= calculate_product(list(item.values()))\n",
    "        elif isinstance(item, (int, float)):\n",
    "            product *= item\n",
    "    return product\n",
    "list1 = [1, 2, 3, 4, [44, 55, 66, True], False, (34, 56, 78, 89, 34), {1, 2, 3, 3, 2, 1}, {1: 34, \"key2\": [55, 67, 78, 89], 4: (45, 22, 61, 34)}, [56, 'data science'], 'Machine Learning']\n",
    "print(calculate_product(list1))\n"
   ]
  },
  {
   "cell_type": "markdown",
   "id": "23f9bad0-f7d9-47f7-b75a-2c058f4b2ad5",
   "metadata": {},
   "source": [
    "# Question.2"
   ]
  },
  {
   "cell_type": "markdown",
   "id": "41655b89-ae51-495b-816a-36ae93ae0168",
   "metadata": {},
   "source": [
    "## Write a python program for encrypting a message sent to you by your friend. The logic of encryption should be such that, for a the output should be z. For b, the output should be y. For c, the output should be x respectively. Also, the whitespace should be replaced with a dollar sign. Keep the punctuation marks unchanged. Input Sentence: I want to become a Data Scientist. Encrypt the above input sentence using the program you just created.\n",
    "Note: Convert the given input sentence into lowercase before encrypting. The final output should be\n",
    "lowercase."
   ]
  },
  {
   "cell_type": "code",
   "execution_count": 7,
   "id": "66816427-a0a5-485f-b3da-4f4b0abe5577",
   "metadata": {},
   "outputs": [
    {
     "name": "stdout",
     "output_type": "stream",
     "text": [
      "r$dzmg$gl$yvxlnv$z$wzgz$hxrvmgrhg.\n"
     ]
    }
   ],
   "source": [
    "#Answer:\n",
    "def encrypt_message(message):\n",
    "    encrypted_message = \"\"\n",
    "    for char in message:\n",
    "        if char.isalpha():\n",
    "            if char.islower():\n",
    "                encrypted_char = chr(219 - ord(char))\n",
    "            else:\n",
    "                encrypted_char = chr(155 - ord(char))\n",
    "        elif char == ' ':\n",
    "            encrypted_char = '$'\n",
    "        else:\n",
    "            encrypted_char = char\n",
    "        encrypted_message += encrypted_char\n",
    "    return encrypted_message\n",
    "input_sentence = \"I want to become a Data Scientist.\"\n",
    "lowercase_input = input_sentence.lower()\n",
    "encrypted_sentence = encrypt_message(lowercase_input)\n",
    "print(encrypted_sentence)"
   ]
  }
 ],
 "metadata": {
  "kernelspec": {
   "display_name": "Python 3 (ipykernel)",
   "language": "python",
   "name": "python3"
  },
  "language_info": {
   "codemirror_mode": {
    "name": "ipython",
    "version": 3
   },
   "file_extension": ".py",
   "mimetype": "text/x-python",
   "name": "python",
   "nbconvert_exporter": "python",
   "pygments_lexer": "ipython3",
   "version": "3.10.8"
  }
 },
 "nbformat": 4,
 "nbformat_minor": 5
}
