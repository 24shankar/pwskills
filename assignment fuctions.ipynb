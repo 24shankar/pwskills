{
 "cells": [
  {
   "cell_type": "markdown",
   "id": "1e29b367-b778-47a5-b1f7-edc6388b637f",
   "metadata": {},
   "source": [
    "# question.1"
   ]
  },
  {
   "cell_type": "markdown",
   "id": "e12f38c8-1125-4191-966a-e8a0d4e588c4",
   "metadata": {},
   "source": [
    "## Which keyword is used to create a function? Create a function to return a list of odd numbers in the range of 1 to 25."
   ]
  },
  {
   "cell_type": "markdown",
   "id": "762726e7-a81f-4ce7-8e04-84e3301c2266",
   "metadata": {},
   "source": [
    "### Ans: The 'def' keyword is used to create a fuction and followed by fuction name and paranthesis.\n",
    "### ex: def Shankar():\n",
    "        "
   ]
  },
  {
   "cell_type": "code",
   "execution_count": 1,
   "id": "2d1be4eb-ea2b-4ac5-8267-e2c56d17405a",
   "metadata": {},
   "outputs": [
    {
     "name": "stdout",
     "output_type": "stream",
     "text": [
      "[1, 3, 5, 7, 9, 11, 13, 15, 17, 19, 21, 23, 25]\n"
     ]
    }
   ],
   "source": [
    "def get_odd_numbers():\n",
    "    odd_numbers=[]\n",
    "    for num in range(1,26):\n",
    "        if num%2!=0:\n",
    "            odd_numbers.append(num)\n",
    "    return odd_numbers\n",
    "result=get_odd_numbers()\n",
    "print(result)\n"
   ]
  },
  {
   "cell_type": "markdown",
   "id": "e7f86ce5-7192-489c-85db-783042b5bc86",
   "metadata": {},
   "source": [
    "# question.2"
   ]
  },
  {
   "cell_type": "markdown",
   "id": "9bb24a35-1b5c-4798-b09b-3684733643e3",
   "metadata": {},
   "source": [
    "## Why *args and **kwargs is used in some functions? Create a function each for *args and **kwargs todemonstrate their use."
   ]
  },
  {
   "cell_type": "markdown",
   "id": "a91ad647-b4f9-471d-9e6f-9f00783363b4",
   "metadata": {},
   "source": [
    "### Ans:*args and **kwargs are used as arguments in a function definition to allow the fuction to accept an arbitary numbers of arguments. by using *args and **kwargs in a fuction which allow you to write more flexible and generate fuction that can handle any a number of arguments and keywords arguments passed to them."
   ]
  },
  {
   "cell_type": "markdown",
   "id": "a8afc567-2ae1-4ce9-a0cf-7058c2baa8fa",
   "metadata": {},
   "source": [
    "### example for the *args fuction"
   ]
  },
  {
   "cell_type": "code",
   "execution_count": 2,
   "id": "7ae9d1be-4d45-4e17-886b-c25bb1147e19",
   "metadata": {},
   "outputs": [
    {
     "name": "stdout",
     "output_type": "stream",
     "text": [
      "10\n"
     ]
    }
   ],
   "source": [
    "def sum_of_numbers(*args):\n",
    "    total=0\n",
    "    for arg in args:\n",
    "        total+=arg\n",
    "    return total\n",
    "print(sum_of_numbers(1,2,3,4))"
   ]
  },
  {
   "cell_type": "markdown",
   "id": "26792b53-18ba-41f1-8785-620d51436983",
   "metadata": {},
   "source": [
    "### example for **kwargs fuction"
   ]
  },
  {
   "cell_type": "code",
   "execution_count": 3,
   "id": "65b77742-cf7d-402c-babe-edcb343d9320",
   "metadata": {},
   "outputs": [
    {
     "name": "stdout",
     "output_type": "stream",
     "text": [
      "a:1\n",
      "b:2\n",
      "c:3\n"
     ]
    }
   ],
   "source": [
    "def print_keyword_arguments(**kwargs):\n",
    "    for key,value in kwargs.items():\n",
    "        print(f\"{key}:{value}\")\n",
    "print_keyword_arguments(a=1,b=2,c=3)\n"
   ]
  },
  {
   "cell_type": "markdown",
   "id": "8ec438fd-f058-474d-ac59-6d51494b6328",
   "metadata": {},
   "source": [
    "# question.3"
   ]
  },
  {
   "cell_type": "markdown",
   "id": "08c68a29-29ef-461f-8e84-30af85a8e9d6",
   "metadata": {},
   "source": [
    "## What is an iterator in python? Name the method used to initialise the iterator object and the methodused for iteration. Use these methods to print the first five elements of the given list [2, 4, 6, 8, 10, 12, 14, 16,18, 20]."
   ]
  },
  {
   "cell_type": "markdown",
   "id": "d52853ed-978a-41ae-b744-8c8bb491d70b",
   "metadata": {},
   "source": [
    "### Ans:  iterator in python can iterated(looped)upon.iterators is an object that kcontain a countable numbers of values.it caontain __iter()__ and __next()__.iter() method is used to initialize the iterator object. the next() method is used to iterate pver the itrable objects. the next() method returns the next value in the iterable object."
   ]
  },
  {
   "cell_type": "code",
   "execution_count": 5,
   "id": "905b4486-ee92-491c-ab62-ba0703fe34bb",
   "metadata": {},
   "outputs": [
    {
     "name": "stdout",
     "output_type": "stream",
     "text": [
      "2\n",
      "4\n",
      "6\n",
      "8\n",
      "10\n"
     ]
    }
   ],
   "source": [
    "numbers=[2,4,6,8,10,12,14,16,18,20]\n",
    "iterator=iter(numbers)\n",
    "for i in range(5):\n",
    "    print(next(iterator))"
   ]
  },
  {
   "cell_type": "markdown",
   "id": "2ae0687d-85bb-4f64-b74e-e1daa6c8e344",
   "metadata": {},
   "source": [
    "# question.4"
   ]
  },
  {
   "cell_type": "markdown",
   "id": "4894cf8e-7b34-43b0-afa5-726accb7d76a",
   "metadata": {},
   "source": [
    "## What is a generator function in python? Why yield keyword is used? Give an example of a generatorfunction."
   ]
  },
  {
   "cell_type": "markdown",
   "id": "4b4ff78b-c50e-472d-802f-4b4b1f5838c5",
   "metadata": {},
   "source": [
    "### Ans: In python, generator is a fuction that returns an iterator that produes a sequene of values when iterate over. Generators are useful when we want to produce a large sequence of values, but we don't want to store all of them in memory at once.The yield keyword in python controls the flow of a generator fuction.  This is similar to a return statement used for returning values in python."
   ]
  },
  {
   "cell_type": "code",
   "execution_count": 7,
   "id": "c8e5b5ae-81a4-4cd4-81a8-a6a0bde2a9ab",
   "metadata": {},
   "outputs": [
    {
     "name": "stdout",
     "output_type": "stream",
     "text": [
      "0\n",
      "1\n",
      "1\n",
      "2\n",
      "3\n",
      "5\n",
      "8\n",
      "13\n",
      "21\n",
      "34\n"
     ]
    }
   ],
   "source": [
    "def fibonacci(n):\n",
    "    a,b=0,1\n",
    "    for i in range(n):\n",
    "        yield a \n",
    "        a,b=b,a+b\n",
    "gen=fibonacci(10)\n",
    "for x in gen:\n",
    "    print(x)"
   ]
  },
  {
   "cell_type": "markdown",
   "id": "f6c022d0-aea4-4834-bd67-877e27f66dd4",
   "metadata": {},
   "source": [
    "# question.5"
   ]
  },
  {
   "cell_type": "markdown",
   "id": "330385a5-494d-4d03-8664-64745d62b4ad",
   "metadata": {},
   "source": [
    "## Create a generator function for prime numbers less than 1000. Use the next() method to print the first 20 prime numbers."
   ]
  },
  {
   "cell_type": "code",
   "execution_count": null,
   "id": "c36408cd-646a-4cd9-8274-0df0a555d8a2",
   "metadata": {},
   "outputs": [],
   "source": [
    "def generate_primes():\n",
    "    primes=[]\n",
    "    num=2\n",
    "    while True:\n",
    "        is_prime=True\n",
    "        for prime in primes:\n",
    "            if num%prime==0:\n",
    "                is_prime==false\n",
    "                break\n",
    "        if is_prime:\n",
    "            primes.append(num)\n",
    "            yield num\n",
    "        num+=1\n",
    "prime_generator=generate_primes()\n",
    "for _ in range(20):\n",
    "    prime=next(prime_generator)\n",
    "    print(prime)"
   ]
  }
 ],
 "metadata": {
  "kernelspec": {
   "display_name": "Python 3 (ipykernel)",
   "language": "python",
   "name": "python3"
  },
  "language_info": {
   "codemirror_mode": {
    "name": "ipython",
    "version": 3
   },
   "file_extension": ".py",
   "mimetype": "text/x-python",
   "name": "python",
   "nbconvert_exporter": "python",
   "pygments_lexer": "ipython3",
   "version": "3.10.8"
  }
 },
 "nbformat": 4,
 "nbformat_minor": 5
}
