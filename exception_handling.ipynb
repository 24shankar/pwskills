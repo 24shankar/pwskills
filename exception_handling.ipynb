{
 "cells": [
  {
   "cell_type": "markdown",
   "id": "1f2ae6ff-829f-465e-b9c6-7e224c517b1e",
   "metadata": {},
   "source": [
    "# Question.1"
   ]
  },
  {
   "cell_type": "markdown",
   "id": "38c35382-8fab-4864-a9c5-03a846523db2",
   "metadata": {},
   "source": [
    "## What is the exception in python? write the difference between exceptions and syntax errors.\n"
   ]
  },
  {
   "cell_type": "markdown",
   "id": "5658c4a3-7840-41a9-8b24-337c54a15a6c",
   "metadata": {},
   "source": [
    "### Ans: In Python, an exception is an event that occurs during the execution of a program, which disrupts the normal flow of the program. It represents an error or exceptional condition that needs to be handled by the program. When an exception occurs, the program raises an exception object, which can then be caught and handled using exception handling mechanisms.\n",
    "\n",
    "Exceptions can occur due to various reasons, such as invalid input, division by zero, file not found, network errors, and so on. Python provides a built-in hierarchy of exception classes, which cover different types of errors that can occur during program execution. Examples of built-in exception classes in Python include `TypeError`, `ValueError`, `FileNotFoundError`, and `ZeroDivisionError`.\n",
    "\n",
    "On the other hand, syntax errors are a different category of errors that occur when the code violates the syntax rules of the programming language. Syntax errors occur during the parsing of the code and prevent the code from being executed at all. They are typically caused by misspellings, incorrect indentation, missing punctuation, or incorrect use of programming language constructs.\n",
    "\n",
    "Here are the key differences between exceptions and syntax errors:\n",
    "\n",
    "1. Occurrence: Exceptions occur during the runtime of a program when an exceptional condition arises, while syntax errors are detected during the parsing of the code and prevent the program from running.\n",
    "\n",
    "2. Handling: Exceptions can be caught and handled using try-except blocks or other exception handling mechanisms, allowing the program to gracefully handle and recover from errors. Syntax errors cannot be caught and handled as they prevent the code from running at all. They need to be fixed by correcting the syntax of the code.\n",
    "\n",
    "3. Cause: Exceptions occur due to specific conditions or situations that arise during program execution, such as invalid input or unexpected behavior. Syntax errors occur due to violations of the programming language's syntax rules, such as incorrect syntax or structure of the code.\n",
    "\n"
   ]
  },
  {
   "cell_type": "markdown",
   "id": "6e7f72b8-874b-4f86-822d-1d6c3fda0c8c",
   "metadata": {},
   "source": [
    "# question.2"
   ]
  },
  {
   "cell_type": "markdown",
   "id": "dc8adc24-a968-485c-987f-872eefdc3e95",
   "metadata": {},
   "source": [
    "## what is the happen when an exception is not hanlded? Explain  with an example\n"
   ]
  },
  {
   "cell_type": "markdown",
   "id": "f537b658-4b94-4b16-8cb3-7bb32e77a538",
   "metadata": {},
   "source": [
    "### Ans: When an exception is not handled, it leads to what is called an \"unhandled exception.\" In such cases, the program execution is typically halted, and an error message or stack trace is displayed, indicating the location and nature of the exception. This abrupt termination of the program can result in undesirable consequences, such as data loss, unpredictable behavior, or a crash."
   ]
  },
  {
   "cell_type": "code",
   "execution_count": 1,
   "id": "d1331128-7c80-4cad-a8ac-30438fb22a66",
   "metadata": {},
   "outputs": [
    {
     "name": "stdout",
     "output_type": "stream",
     "text": [
      "Error: Division by zero!\n"
     ]
    },
    {
     "ename": "ZeroDivisionError",
     "evalue": "division by zero",
     "output_type": "error",
     "traceback": [
      "\u001b[0;31m---------------------------------------------------------------------------\u001b[0m",
      "\u001b[0;31mZeroDivisionError\u001b[0m                         Traceback (most recent call last)",
      "Cell \u001b[0;32mIn[1], line 13\u001b[0m\n\u001b[1;32m     10\u001b[0m     \u001b[38;5;28mprint\u001b[39m(\u001b[38;5;124m\"\u001b[39m\u001b[38;5;124mError: Division by zero!\u001b[39m\u001b[38;5;124m\"\u001b[39m)\n\u001b[1;32m     12\u001b[0m \u001b[38;5;66;03m# Case 2: Exception not handled\u001b[39;00m\n\u001b[0;32m---> 13\u001b[0m result \u001b[38;5;241m=\u001b[39m \u001b[43mdivide\u001b[49m\u001b[43m(\u001b[49m\u001b[38;5;241;43m10\u001b[39;49m\u001b[43m,\u001b[49m\u001b[43m \u001b[49m\u001b[38;5;241;43m0\u001b[39;49m\u001b[43m)\u001b[49m\n\u001b[1;32m     14\u001b[0m \u001b[38;5;28mprint\u001b[39m(\u001b[38;5;124m\"\u001b[39m\u001b[38;5;124mResult:\u001b[39m\u001b[38;5;124m\"\u001b[39m, result)\n",
      "Cell \u001b[0;32mIn[1], line 2\u001b[0m, in \u001b[0;36mdivide\u001b[0;34m(a, b)\u001b[0m\n\u001b[1;32m      1\u001b[0m \u001b[38;5;28;01mdef\u001b[39;00m \u001b[38;5;21mdivide\u001b[39m(a, b):\n\u001b[0;32m----> 2\u001b[0m     result \u001b[38;5;241m=\u001b[39m \u001b[43ma\u001b[49m\u001b[43m \u001b[49m\u001b[38;5;241;43m/\u001b[39;49m\u001b[43m \u001b[49m\u001b[43mb\u001b[49m\n\u001b[1;32m      3\u001b[0m     \u001b[38;5;28;01mreturn\u001b[39;00m result\n",
      "\u001b[0;31mZeroDivisionError\u001b[0m: division by zero"
     ]
    }
   ],
   "source": [
    "def divide(a, b):\n",
    "    result = a / b\n",
    "    return result\n",
    "\n",
    "# Case 1: Exception handled\n",
    "try:\n",
    "    result = divide(10, 0)\n",
    "    print(\"Result:\", result)\n",
    "except ZeroDivisionError:\n",
    "    print(\"Error: Division by zero!\")\n",
    "\n",
    "# Case 2: Exception not handled\n",
    "result = divide(10, 0)\n",
    "print(\"Result:\", result)\n"
   ]
  },
  {
   "cell_type": "markdown",
   "id": "c355ded1-6860-478a-affe-0f6bd9c6ad45",
   "metadata": {},
   "source": [
    "# Question.3"
   ]
  },
  {
   "cell_type": "markdown",
   "id": "c6167216-ba6d-40dd-b6d6-61f96ac08b86",
   "metadata": {},
   "source": [
    "## which python statements are used to catch and handled exception? explain with the example"
   ]
  },
  {
   "cell_type": "markdown",
   "id": "60a201b0-1b8a-4aa9-b1a9-9360929e58b3",
   "metadata": {},
   "source": [
    "### Ans: In Python, you can use the `try-except` statements to catch and handle exceptions. The `try` block contains the code that might raise an exception, while the `except` block specifies the handling code for a particular exception or a group of exceptions.\n",
    "\n"
   ]
  },
  {
   "cell_type": "code",
   "execution_count": 2,
   "id": "c3a46241-150e-43e2-9e79-356871da1666",
   "metadata": {},
   "outputs": [
    {
     "name": "stdout",
     "output_type": "stream",
     "text": [
      "Result: 5.0\n",
      "Error: Division by zero!\n",
      "Result: None\n"
     ]
    }
   ],
   "source": [
    "def divide(a, b):\n",
    "    try:\n",
    "        result = a / b\n",
    "        return result\n",
    "    except ZeroDivisionError:\n",
    "        print(\"Error: Division by zero!\")\n",
    "        return None\n",
    "\n",
    "# Example usage\n",
    "result = divide(10, 2)\n",
    "print(\"Result:\", result)\n",
    "\n",
    "result = divide(10, 0)\n",
    "print(\"Result:\", result)\n"
   ]
  },
  {
   "cell_type": "markdown",
   "id": "0f89de4d-39a6-413f-a678-0dad84d49457",
   "metadata": {},
   "source": [
    "# Question.4"
   ]
  },
  {
   "cell_type": "markdown",
   "id": "47624c27-3a7c-4356-8d2e-bb271ee9b617",
   "metadata": {},
   "source": [
    "## Explain with example:\n",
    "   a) try and else\n",
    "   b)finally\n",
    "   c)raise"
   ]
  },
  {
   "cell_type": "markdown",
   "id": "23658e12-f105-4736-83c2-7952f4ab736c",
   "metadata": {},
   "source": [
    "### Ans: The try-else statement in Python allows you to specify a block of code to execute if no exceptions are raised in the try block. It is useful when you want to perform certain actions only when the code inside the try block runs successfully.Here's an example:"
   ]
  },
  {
   "cell_type": "code",
   "execution_count": 3,
   "id": "5d3a532c-2502-4545-8c4a-48a138377396",
   "metadata": {},
   "outputs": [
    {
     "name": "stdout",
     "output_type": "stream",
     "text": [
      "Division successful!\n",
      "Result: 5.0\n"
     ]
    }
   ],
   "source": [
    "def divide(a, b):\n",
    "    try:\n",
    "        result = a / b\n",
    "    except ZeroDivisionError:\n",
    "        print(\"Error: Division by zero!\")\n",
    "    else:\n",
    "        print(\"Division successful!\")\n",
    "        return result\n",
    "\n",
    "# Example usage\n",
    "result = divide(10, 2)\n",
    "if result is not None:\n",
    "    print(\"Result:\", result)\n"
   ]
  },
  {
   "cell_type": "markdown",
   "id": "1dbb332d-3842-492e-908d-7e80914e16f8",
   "metadata": {},
   "source": [
    "b) finally:\n",
    "The finally block is used in conjunction with the try block to specify a piece of code that will be executed regardless of whether an exception is raised or not. It is typically used to perform cleanup actions or release resources.\n",
    "\n",
    "Here's an example:\n",
    "\n"
   ]
  },
  {
   "cell_type": "code",
   "execution_count": 4,
   "id": "624f1d8c-ec45-4893-a464-00245fcacedd",
   "metadata": {},
   "outputs": [
    {
     "name": "stdout",
     "output_type": "stream",
     "text": [
      "File not found!\n",
      "Cleanup completed.\n"
     ]
    }
   ],
   "source": [
    "file = None\n",
    "try:\n",
    "    file = open(\"example.txt\", \"r\")\n",
    "    # Perform operations on the file\n",
    "    print(file.read())\n",
    "except FileNotFoundError:\n",
    "    print(\"File not found!\")\n",
    "finally:\n",
    "    if file is not None:\n",
    "        file.close()\n",
    "    print(\"Cleanup completed.\")\n"
   ]
  },
  {
   "cell_type": "markdown",
   "id": "e68ca3c4-d46b-4f18-827a-217e515fed39",
   "metadata": {},
   "source": [
    "c) raise:\n",
    "The raise statement in Python is used to manually raise an exception during program execution. It allows you to generate your own exceptions or re-raise previously caught exceptions.\n",
    "\n",
    "Here's an example:"
   ]
  },
  {
   "cell_type": "code",
   "execution_count": 5,
   "id": "7afc28b3-3520-4e8c-a88a-c23403cadbd2",
   "metadata": {},
   "outputs": [
    {
     "name": "stdout",
     "output_type": "stream",
     "text": [
      "Error: Cannot divide by zero!\n"
     ]
    }
   ],
   "source": [
    "def divide(a, b):\n",
    "    if b == 0:\n",
    "        raise ValueError(\"Cannot divide by zero!\")\n",
    "    return a / b\n",
    "\n",
    "# Example usage\n",
    "try:\n",
    "    result = divide(10, 0)\n",
    "    print(\"Result:\", result)\n",
    "except ValueError as error:\n",
    "    print(\"Error:\", str(error))\n"
   ]
  },
  {
   "cell_type": "markdown",
   "id": "f3d547d6-95c7-4272-977e-36b59d4019c8",
   "metadata": {},
   "source": [
    "# Question.5"
   ]
  },
  {
   "cell_type": "markdown",
   "id": "3582de37-f19b-4919-9ca2-ba84a87f5113",
   "metadata": {},
   "source": [
    "## what are the custom exception in python?why do we need custom exceptions?explain with examples"
   ]
  },
  {
   "cell_type": "markdown",
   "id": "b9e153df-4a58-43c6-9c97-a8c5f100eb27",
   "metadata": {},
   "source": [
    "### Ans: Custom exceptions in Python are user-defined exception classes that inherit from the built-in Exception class or one of its subclasses. These exceptions are created to handle specific types of errors or exceptional conditions that may occur within a program. By defining custom exceptions, you can provide more meaningful error messages, structure your exception handling logic, and differentiate between various types of errors in your code.\n",
    "\n"
   ]
  },
  {
   "cell_type": "code",
   "execution_count": 6,
   "id": "4ad30c1f-b362-46fb-a7a1-299e3413776a",
   "metadata": {},
   "outputs": [
    {
     "name": "stdout",
     "output_type": "stream",
     "text": [
      "Error: Insufficient balance in the account.\n"
     ]
    }
   ],
   "source": [
    "class InsufficientBalanceError(Exception):\n",
    "    def __init__(self, message):\n",
    "        self.message = message\n",
    "\n",
    "    def __str__(self):\n",
    "        return self.message\n",
    "\n",
    "class BankAccount:\n",
    "    def __init__(self, balance):\n",
    "        self.balance = balance\n",
    "\n",
    "    def withdraw(self, amount):\n",
    "        if amount > self.balance:\n",
    "            raise InsufficientBalanceError(\"Insufficient balance in the account.\")\n",
    "        else:\n",
    "            self.balance -= amount\n",
    "            print(\"Withdrawal successful. New balance:\", self.balance)\n",
    "\n",
    "# Example usage\n",
    "try:\n",
    "    account = BankAccount(1000)\n",
    "    account.withdraw(1500)\n",
    "except InsufficientBalanceError as error:\n",
    "    print(\"Error:\", str(error))\n"
   ]
  },
  {
   "cell_type": "markdown",
   "id": "718228fa-3df2-4656-ad2d-75aaee61a0b0",
   "metadata": {},
   "source": [
    "# Question.6"
   ]
  },
  {
   "cell_type": "markdown",
   "id": "57d46dd5-efb8-4f9f-878d-80539bd25f17",
   "metadata": {},
   "source": [
    "## Create a custom exception class.Use this class to handle the exception."
   ]
  },
  {
   "cell_type": "code",
   "execution_count": 9,
   "id": "6cdbc828-e7e3-4f39-ad62-49591416569a",
   "metadata": {},
   "outputs": [
    {
     "name": "stdout",
     "output_type": "stream",
     "text": [
      "Error: Invalid email: example.com\n"
     ]
    }
   ],
   "source": [
    "class InvalidEmailError(Exception):\n",
    "    def __init__(self, email):\n",
    "        self.email = email\n",
    "\n",
    "    def __str__(self):\n",
    "        return f\"Invalid email: {self.email}\"\n",
    "\n",
    "def validate_email(email):\n",
    "    if \"@\" not in email:\n",
    "        raise InvalidEmailError(email)\n",
    "    else:\n",
    "        print(\"Email is valid.\")\n",
    "\n",
    "# Example usage\n",
    "try:\n",
    "    email = \"example.com\"\n",
    "    validate_email(email)\n",
    "except InvalidEmailError as error:\n",
    "    print(\"Error:\", str(error))\n"
   ]
  }
 ],
 "metadata": {
  "kernelspec": {
   "display_name": "Python 3 (ipykernel)",
   "language": "python",
   "name": "python3"
  },
  "language_info": {
   "codemirror_mode": {
    "name": "ipython",
    "version": 3
   },
   "file_extension": ".py",
   "mimetype": "text/x-python",
   "name": "python",
   "nbconvert_exporter": "python",
   "pygments_lexer": "ipython3",
   "version": "3.10.8"
  }
 },
 "nbformat": 4,
 "nbformat_minor": 5
}
