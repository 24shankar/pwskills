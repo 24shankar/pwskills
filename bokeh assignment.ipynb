{
 "cells": [
  {
   "cell_type": "markdown",
   "id": "140faf3c-1ef5-425f-8c18-4e0c1c29869b",
   "metadata": {},
   "source": [
    "# Question.1"
   ]
  },
  {
   "cell_type": "markdown",
   "id": "7d270650-302c-475c-b035-c531f78eb8e4",
   "metadata": {},
   "source": [
    "## How can you create a Bokeh plot using Python code?"
   ]
  },
  {
   "cell_type": "markdown",
   "id": "8006bdfc-b3f8-45f2-a92b-a1ecade87afc",
   "metadata": {},
   "source": [
    "### Ans: To create a Bokeh plot using Python code, you need to follow these steps:\n",
    "1. Install Bokeh: If you haven't already installed Bokeh, you can do so by running `pip install bokeh` in your terminal or command prompt.\n",
    "2. Import the necessary modules: In your Python script, import the required modules from the Bokeh library.\n",
    "```python\n",
    "from bokeh.plotting import figure, show\n",
    "from bokeh.io import output_notebook\n",
    "```\n",
    "3. Prepare the data: Create the data that you want to visualize in your plot. For example, create lists for x-coordinates and y-coordinates.\n",
    "```python\n",
    "x = [1, 2, 3, 4, 5]\n",
    "y = [6, 7, 2, 4, 5]\n",
    "```\n",
    "4. Create a figure: Use the `figure()` function to create a figure object that will hold your plot.\n",
    "```python\n",
    "p = figure(title='My Bokeh Plot', x_axis_label='X-axis', y_axis_label='Y-axis')\n",
    "```\n",
    "5. Add glyphs to the figure: Add glyphs (visual markers) to the figure to represent your data. For example, you can add a circle glyph using the `circle()` method.\n",
    "```python\n",
    "p.circle(x, y, size=10, color='blue', alpha=0.5)\n",
    "```\n",
    "6. Display the plot: Use the `show()` function to display the plot. If you're working in a Jupyter Notebook, you can use the `output_notebook()` function to enable inline display.\n",
    "\n",
    "Here's a complete example that puts it all together:\n",
    "```python\n",
    "from bokeh.plotting import figure, show\n",
    "from bokeh.io import output_notebook\n",
    "x = [1, 2, 3, 4, 5]\n",
    "y = [6, 7, 2, 4, 5]\n",
    "p = figure(title='My Bokeh Plot', x_axis_label='X-axis', y_axis_label='Y-axis')\n",
    "p.circle(x, y, size=10, color='blue', alpha=0.5)"
   ]
  },
  {
   "cell_type": "markdown",
   "id": "db883862-7d8e-4139-8df0-b081bfb828d6",
   "metadata": {},
   "source": [
    "# Question.2"
   ]
  },
  {
   "cell_type": "markdown",
   "id": "be1fdb06-7400-4578-84e1-b0b0cb0520d1",
   "metadata": {},
   "source": [
    "## What are glyphs in Bokeh, and how can you add them to a Bokeh plot? Explain with an example."
   ]
  },
  {
   "cell_type": "markdown",
   "id": "a32c7138-7c5c-4bad-baf1-d1db13c39638",
   "metadata": {},
   "source": [
    "### Ans: In Bokeh, glyphs are visual markers or symbols that represent data points on a plot. They are used to visually convey information and patterns in the data. Bokeh provides a wide range of glyph types, such as circles, squares, lines, bars, and more.\n",
    "You can add glyphs to a Bokeh plot by calling the corresponding glyph method on a figure object. Each glyph method accepts data and additional properties to customize the appearance of the glyphs, such as size, color, transparency, and more.\n",
    "Here's an example that demonstrates how to add different glyphs to a Bokeh plot:\n",
    "```python\n",
    "from bokeh.plotting import figure, show\n",
    "from bokeh.io import output_notebook\n",
    "x = [1, 2, 3, 4, 5]\n",
    "y = [6, 7, 2, 4, 5]\n",
    "p = figure(title='My Bokeh Plot', x_axis_label='X-axis', y_axis_label='Y-axis')\n",
    "p.circle(x, y, size=10, color='blue', alpha=0.5)\n",
    "p.square(x, y, size=12, color='red', alpha=0.8)\n",
    "p.line(x, y, line_width=2, color='green')\n",
    "p.vbar(x=x, top=y, width=0.5, color='orange', alpha=0.7)\n",
    "In this example, we import the required modules from the Bokeh library and prepare the data with x-coordinates and y-coordinates.\n",
    "We then create a figure object using the `figure()` function and specify the plot's title, x-axis label, and y-axis label.\n",
    "To add glyphs, we use the glyph methods provided by Bokeh:\n",
    "- `circle()` adds circles to the plot.\n",
    "- `square()` adds squares to the plot.\n",
    "- `line()` adds a line connecting the data points.\n",
    "- `vbar()` adds vertical bars (bar chart) to the plot."
   ]
  },
  {
   "cell_type": "markdown",
   "id": "48a4c87a-cc64-49ec-8919-f2f15ad207db",
   "metadata": {},
   "source": [
    "# Question.3"
   ]
  },
  {
   "cell_type": "markdown",
   "id": "22662f9c-dbf1-408e-b3a6-99545404d187",
   "metadata": {},
   "source": [
    "## How can you customize the appearance of a Bokeh plot, including the axes, title, and legend?"
   ]
  },
  {
   "cell_type": "markdown",
   "id": "f4b879f4-d7b9-42b1-b0df-75dc74b1ade0",
   "metadata": {},
   "source": [
    "### Ans: In Bokeh, you can customize the appearance of a plot, including the axes, title, and legend, by using various properties and methods provided by the Bokeh library. Here's an overview of how you can customize these aspects:\n",
    "1. Title:\n",
    "   - Set the title of the plot using the `title` property of the figure object.\n",
    "   - Example: `p.title.text = \"My Bokeh Plot\"`\n",
    "2. Axes:\n",
    "   - Customize the x-axis and y-axis labels using the `x_axis_label` and `y_axis_label` properties of the figure object.\n",
    "   - Example: `p.xaxis.axis_label = \"X-axis\"`\n",
    "   - Example: `p.yaxis.axis_label = \"Y-axis\"`\n",
    "3. Axis ticks and tick labels:\n",
    "   - Adjust the appearance of axis ticks and tick labels using properties such as `major_tick_line_color`, `major_tick_line_width`, `major_label_text_font_size`, etc.\n",
    "   - Example: `p.xaxis.major_label_text_font_size = \"12pt\"`\n",
    "   - Example: `p.yaxis.major_tick_line_color = \"red\"`\n",
    "4. Legend:\n",
    "   - Add a legend to the plot by assigning a unique `legend_label` to each glyph method and calling `p.legend` to enable the legend display.\n",
    "   - Example: `p.circle(x, y, size=10, color='blue', alpha=0.5, legend_label=\"Circle Glyph\")`\n",
    "   - Example: `p.legend.location = \"top_left\"`\n",
    "5. Plot background and border:\n",
    "   - Customize the background color of the plot using the `background_fill_color` property of the figure object.\n",
    "   - Example: `p.background_fill_color = \"lightgray\"`\n",
    "   - Modify the border color and width using the `border_fill_color` and `border_line_width` properties.\n",
    "   - Example: `p.border_fill_color = \"white\"`\n",
    "   - Example: `p.border_line_width = 2`"
   ]
  },
  {
   "cell_type": "markdown",
   "id": "1513a6eb-9874-4f51-8e72-2deb247178b7",
   "metadata": {},
   "source": [
    "# Question.4"
   ]
  },
  {
   "cell_type": "markdown",
   "id": "dfc3327a-caaf-47f1-9bd6-24d512a08eee",
   "metadata": {},
   "source": [
    "##  What is a Bokeh server, and how can you use it to create interactive plots that can be updated in real time?"
   ]
  },
  {
   "cell_type": "markdown",
   "id": "2be7ce30-d8e9-457a-8340-667b1151268a",
   "metadata": {},
   "source": [
    "### Ans: Bokeh server is a feature of the Bokeh library that allows you to create interactive plots and applications that can be updated in real time. With the Bokeh server, you can build dynamic visualizations that respond to user interactions, such as mouse clicks, selections, or changes in input values.\n",
    "To use the Bokeh server and create interactive plots, you need to follow these steps:\n",
    "1. Install Bokeh: If you haven't already installed Bokeh, you can do so by running `pip install bokeh` in your terminal or command prompt.\n",
    "2. Import the necessary modules: In your Python script, import the required modules from the Bokeh library.\n",
    "```python\n",
    "from bokeh.plotting import figure, curdoc\n",
    "from bokeh.models import ColumnDataSource\n",
    "from bokeh.layouts import row\n",
    "'''\n",
    "3. Define the interactive plot: Create the plot and any interactive components you want to include. You can use the `figure()` function to create the plot and the available Bokeh models for interactive components.\n",
    "```python\n",
    "source = ColumnDataSource(data=dict(x=[1, 2, 3], y=[4, 5, 6]))\n",
    "p = figure(title=\"Interactive Plot\", plot_width=400, plot_height=300)\n",
    "p.circle('x', 'y', size=10, color='blue', alpha=0.5, source=source)\n",
    "'''\n",
    "4. Define callback functions: Define functions that will be called when user interactions occur. These functions will update the data source or other components of the plot.\n",
    "```python\n",
    "def update_data():\n",
    "    new_data = dict(x=[1, 2, 3], y=[7, 8, 9])\n",
    "    source.data = new_data\n",
    "button = Button(label=\"Update Data\")\n",
    "button.on_click(update_data)\n",
    "```\n",
    "5. Arrange the components: Use the `row()` or `column()` functions from `bokeh.layouts` to arrange the components, such as plots and interactive controls, into a layout.\n",
    "```python\n",
    "layout = row(p, button)\n",
    "```\n",
    "6. Create the Bokeh server application: Use the `curdoc()` function to create the Bokeh server application and add the layout to the document.\n",
    "```python\n",
    "curdoc().add_root(layout)\n",
    "```\n",
    "7. Run the Bokeh server: Run the Bokeh server using the `bokeh serve` command in your terminal or command prompt, specifying the filename of your Python script."
   ]
  },
  {
   "cell_type": "markdown",
   "id": "e8f05c45-afc4-4a3a-b504-c8d6423bf62a",
   "metadata": {},
   "source": [
    "# Question.5"
   ]
  },
  {
   "cell_type": "markdown",
   "id": "e928a91a-f253-4607-a6fa-729ad15c916d",
   "metadata": {},
   "source": [
    "## How can you embed a Bokeh plot into a web page or dashboard using Flask or Django?"
   ]
  },
  {
   "cell_type": "markdown",
   "id": "4543cbd6-0fc4-4dbd-adea-f6cc1cf038fb",
   "metadata": {},
   "source": [
    "### Ans: To embed a Bokeh plot into a web page or dashboard using Flask or Django, you can follow these general steps:\n",
    "1. Create a Bokeh plot: First, create the Bokeh plot as you normally would using the Bokeh library. Define the necessary data, glyphs, and interactive components.\n",
    "2. Save the Bokeh plot: Save the Bokeh plot to an HTML file using the `save()` function. Specify the filename and optionally the title of the HTML file.\n",
    "```python\n",
    "from bokeh.plotting import figure, save\n",
    "# Create the Bokeh plot\n",
    "p = figure()\n",
    "save(p, filename=\"bokeh_plot.html\", title=\"My Bokeh Plot\")\n",
    "```\n",
    "3. Integrate with Flask or Django:\n",
    "   - Flask: In Flask, you can render the Bokeh plot by defining a route in your Flask application and returning the rendered HTML file.\n",
    "   ```python\n",
    "   from flask import Flask, render_template\n",
    "\n",
    "   app = Flask(__name__)\n",
    "\n",
    "   @app.route('/')\n",
    "   def home():\n",
    "       return render_template('bokeh_plot.html')\n",
    "\n",
    "   if __name__ == '__main__':\n",
    "       app.run()\n",
    "   ```\n",
    "   Place the generated `bokeh_plot.html` file in the appropriate templates directory of your Flask project.\n",
    "   - Django: In Django, you can render the Bokeh plot by defining a view in your Django app and returning the rendered HTML file.\n",
    "   ```python\n",
    "   from django.shortcuts import render\n",
    "   def bokeh_plot(request):\n",
    "       return render(request, 'bokeh_plot.html')\n",
    "   ```\n",
    "   Place the generated `bokeh_plot.html` file in the appropriate templates directory of your Django app.\n",
    "4. Include the plot in the web page: In your HTML template file (e.g., `bokeh_plot.html`), include the Bokeh plot using appropriate syntax or template tags provided by Flask or Django.\n",
    "```html\n",
    "<!DOCTYPE html>\n",
    "<html>\n",
    "<head>\n",
    "    <title>Bokeh Plot</title>\n",
    "    <link rel=\"stylesheet\" href=\"{{ url_for('static', filename='bokeh-2.3.2.min.css') }}\" type=\"text/css\">\n",
    "    <script src=\"{{ url_for('static', filename='bokeh-2.3.2.min.js') }}\"></script>\n",
    "</head>\n",
    "<body>\n",
    "    <h1>My Bokeh Plot</h1>\n",
    "    {{ bokeh_script|safe }}\n",
    "</body>\n",
    "</html>\n",
    "```"
   ]
  }
 ],
 "metadata": {
  "kernelspec": {
   "display_name": "Python 3 (ipykernel)",
   "language": "python",
   "name": "python3"
  },
  "language_info": {
   "codemirror_mode": {
    "name": "ipython",
    "version": 3
   },
   "file_extension": ".py",
   "mimetype": "text/x-python",
   "name": "python",
   "nbconvert_exporter": "python",
   "pygments_lexer": "ipython3",
   "version": "3.10.8"
  }
 },
 "nbformat": 4,
 "nbformat_minor": 5
}
