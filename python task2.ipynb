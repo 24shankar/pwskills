{
 "cells": [
  {
   "cell_type": "markdown",
   "id": "0d0d4177-ccba-419b-a55e-808bf2a10792",
   "metadata": {},
   "source": [
    "# Question.1"
   ]
  },
  {
   "cell_type": "markdown",
   "id": "6b2ac3dc-07bd-4199-b254-1412e90aa3f4",
   "metadata": {},
   "source": [
    "## You are writing code for a company. The requirement of the company is that you create a python function that will check whether the password entered by the user is correct or not. The function should take the password as input and return the string “Valid Password” if the entered password follows the below-given password guidelines else it should return “Invalid Password”.\n",
    "Note: 1. The Password should contain at least two uppercase letters and at least two lowercase letters.\n",
    "2. The Password should contain at least a number and three special characters.\n",
    "3. The length of the password should be 10 characters long."
   ]
  },
  {
   "cell_type": "code",
   "execution_count": 2,
   "id": "b34d7fdd-c808-4835-bed3-7a75605cad58",
   "metadata": {},
   "outputs": [
    {
     "name": "stdin",
     "output_type": "stream",
     "text": [
      "Enter the password:  123ABCabc@#$\n"
     ]
    },
    {
     "name": "stdout",
     "output_type": "stream",
     "text": [
      "Invalid Password\n"
     ]
    }
   ],
   "source": [
    "#Answer:\n",
    "import re\n",
    "\n",
    "def check_password(password):\n",
    "    # Check length\n",
    "    if len(password) != 10:\n",
    "        return \"Invalid Password\"\n",
    "\n",
    "    # Check uppercase letters\n",
    "    if len(re.findall(r'[A-Z]', password)) < 2:\n",
    "        return \"Invalid Password\"\n",
    "\n",
    "    # Check lowercase letters\n",
    "    if len(re.findall(r'[a-z]', password)) < 2:\n",
    "        return \"Invalid Password\"\n",
    "\n",
    "    # Check numbers\n",
    "    if len(re.findall(r'\\d', password)) < 1:\n",
    "        return \"Invalid Password\"\n",
    "\n",
    "    # Check special characters\n",
    "    if len(re.findall(r'[!@#$%^&*()-=_+]', password)) < 3:\n",
    "        return \"Invalid Password\"\n",
    "\n",
    "    return \"Valid Password\"\n",
    "password = input(\"Enter the password: \")\n",
    "result = check_password(password)\n",
    "print(result)\n"
   ]
  },
  {
   "cell_type": "markdown",
   "id": "2f5f225d-89d0-4fc0-a3ac-55cf31bd5fa7",
   "metadata": {},
   "source": [
    "# Question.2"
   ]
  },
  {
   "cell_type": "markdown",
   "id": "1d3b82d2-739b-46f8-8578-6fc63b9d4394",
   "metadata": {},
   "source": [
    "## Solve the below-given questions using at least one of the following:\n",
    "1. Lambda function.\n",
    "2. Filter function.\n",
    "3. Zap function.\n",
    "4. List Comprehension\n",
    "* Check if the string starts with a particular letter.\n",
    "* Check if the string is numeric.\n",
    "* Sort a list of tuples having fruit names and their quantity. [(\"mango\",99),(\"orange\",80), (\"grapes\", 1000)]\n",
    "* Find the squares of numbers from 1 to 10.\n",
    "* Find the cube root of numbers from 1 to 10.\n",
    "* Check if a given number is even.\n",
    "* Filter odd numbers from the given list.\n",
    "[1,2,3,4,5,6,7,8,9,10]\n",
    "* Sort a list of integers into positive and negative integers lists.\n",
    "[1,2,3,4,5,6,-1,-2,-3,-4,-5,0]"
   ]
  },
  {
   "cell_type": "markdown",
   "id": "76a98fed-4874-45b1-baff-02f460e61c84",
   "metadata": {},
   "source": [
    "### Ans: 1.Check if the string starts with a particular letter:"
   ]
  },
  {
   "cell_type": "code",
   "execution_count": 3,
   "id": "cc362901-4fa7-44ca-b999-9ff00515f0c6",
   "metadata": {},
   "outputs": [
    {
     "name": "stdout",
     "output_type": "stream",
     "text": [
      "['apple']\n"
     ]
    }
   ],
   "source": [
    "string_list = [\"apple\", \"banana\", \"cherry\", \"orange\"]\n",
    "letter = \"a\"\n",
    "\n",
    "starts_with_a = list(filter(lambda s: s.startswith(letter), string_list))\n",
    "print(starts_with_a)\n"
   ]
  },
  {
   "cell_type": "markdown",
   "id": "467ae020-dbef-41f8-b11f-fdb3de90e1c4",
   "metadata": {},
   "source": [
    "### 2.Check if the string is numeric:"
   ]
  },
  {
   "cell_type": "code",
   "execution_count": 4,
   "id": "3d95c681-8213-464f-9c26-e03ef8732162",
   "metadata": {},
   "outputs": [
    {
     "name": "stdout",
     "output_type": "stream",
     "text": [
      "['123', '456', '789']\n"
     ]
    }
   ],
   "source": [
    "strings = [\"123\", \"abc\", \"456\", \"789\", \"xyz\"]\n",
    "\n",
    "is_numeric = list(filter(lambda s: s.isnumeric(), strings))\n",
    "print(is_numeric)\n"
   ]
  },
  {
   "cell_type": "markdown",
   "id": "3228e3bc-b0ad-4cab-a56a-ad5970ae0701",
   "metadata": {},
   "source": [
    "### 3.sort a list of tuples having fruit names and their quantity:"
   ]
  },
  {
   "cell_type": "code",
   "execution_count": 5,
   "id": "7995ea94-5a82-49fc-9ead-67e7aa22d48d",
   "metadata": {},
   "outputs": [
    {
     "name": "stdout",
     "output_type": "stream",
     "text": [
      "[('orange', 80), ('mango', 99), ('grapes', 1000)]\n"
     ]
    }
   ],
   "source": [
    "fruits = [(\"mango\", 99), (\"orange\", 80), (\"grapes\", 1000)]\n",
    "\n",
    "sorted_fruits = sorted(fruits, key=lambda x: x[1])\n",
    "print(sorted_fruits)\n"
   ]
  },
  {
   "cell_type": "markdown",
   "id": "0b499b26-5215-444d-ac29-f6fc7be51b85",
   "metadata": {},
   "source": [
    "### 4.Find the squares of numbers from 1 to 10:"
   ]
  },
  {
   "cell_type": "code",
   "execution_count": 6,
   "id": "d73a5a65-9e2a-4591-91c1-3584d9fb6ba5",
   "metadata": {},
   "outputs": [
    {
     "name": "stdout",
     "output_type": "stream",
     "text": [
      "[1, 4, 9, 16, 25, 36, 49, 64, 81, 100]\n"
     ]
    }
   ],
   "source": [
    "squares = [x**2 for x in range(1, 11)]\n",
    "print(squares)\n"
   ]
  },
  {
   "cell_type": "markdown",
   "id": "1865923d-b7c4-4cef-ade4-789e670dc331",
   "metadata": {},
   "source": [
    "### 5.Find the cube root of numbers from 1 to 10:"
   ]
  },
  {
   "cell_type": "code",
   "execution_count": 7,
   "id": "8a5730a9-5848-4d7e-b5f1-c730e331e7e9",
   "metadata": {},
   "outputs": [
    {
     "name": "stdout",
     "output_type": "stream",
     "text": [
      "[1.0, 1.2599210498948732, 1.4422495703074083, 1.5874010519681994, 1.7099759466766968, 1.8171205928321397, 1.912931182772389, 2.0, 2.080083823051904, 2.154434690031884]\n"
     ]
    }
   ],
   "source": [
    "import math\n",
    "\n",
    "cube_roots = [math.pow(x, 1/3) for x in range(1, 11)]\n",
    "print(cube_roots)\n"
   ]
  },
  {
   "cell_type": "markdown",
   "id": "17ccd249-eaa1-436a-ba64-5e92176027df",
   "metadata": {},
   "source": [
    "### 6.Check if a given number is even:"
   ]
  },
  {
   "cell_type": "code",
   "execution_count": 8,
   "id": "7ca85414-a74b-4e39-a2b2-b1087aa84d9c",
   "metadata": {},
   "outputs": [
    {
     "name": "stdout",
     "output_type": "stream",
     "text": [
      "False\n"
     ]
    }
   ],
   "source": [
    "number = 17\n",
    "\n",
    "is_even = lambda x: x % 2 == 0\n",
    "result = is_even(number)\n",
    "print(result)\n"
   ]
  },
  {
   "cell_type": "markdown",
   "id": "406aa5f3-5aa8-4766-8e06-290ef5157ce5",
   "metadata": {},
   "source": [
    "### 7.Filter odd numbers from the given list [1, 2, 3, 4, 5, 6, 7, 8, 9, 10]:"
   ]
  },
  {
   "cell_type": "code",
   "execution_count": 9,
   "id": "83ad9af2-358d-442b-ac0a-052505e3ee8a",
   "metadata": {},
   "outputs": [
    {
     "name": "stdout",
     "output_type": "stream",
     "text": [
      "[1, 3, 5, 7, 9]\n"
     ]
    }
   ],
   "source": [
    "numbers = [1, 2, 3, 4, 5, 6, 7, 8, 9, 10]\n",
    "\n",
    "odd_numbers = list(filter(lambda x: x % 2 != 0, numbers))\n",
    "print(odd_numbers)\n"
   ]
  },
  {
   "cell_type": "code",
   "execution_count": null,
   "id": "eff58e8b-f33f-402e-9903-c4b1cd9ba10c",
   "metadata": {},
   "outputs": [],
   "source": []
  },
  {
   "cell_type": "code",
   "execution_count": null,
   "id": "421c7d85-fa6e-4a39-ae08-88897839c296",
   "metadata": {},
   "outputs": [],
   "source": []
  }
 ],
 "metadata": {
  "kernelspec": {
   "display_name": "Python 3 (ipykernel)",
   "language": "python",
   "name": "python3"
  },
  "language_info": {
   "codemirror_mode": {
    "name": "ipython",
    "version": 3
   },
   "file_extension": ".py",
   "mimetype": "text/x-python",
   "name": "python",
   "nbconvert_exporter": "python",
   "pygments_lexer": "ipython3",
   "version": "3.10.8"
  }
 },
 "nbformat": 4,
 "nbformat_minor": 5
}
