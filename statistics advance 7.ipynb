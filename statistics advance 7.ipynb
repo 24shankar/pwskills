{
 "cells": [
  {
   "cell_type": "markdown",
   "id": "336d2e58-adbd-49c4-80bd-090d63810925",
   "metadata": {},
   "source": [
    "# Question.1"
   ]
  },
  {
   "cell_type": "markdown",
   "id": "462bedc7-67d8-45c9-8b78-7ffc9fba0468",
   "metadata": {},
   "source": [
    "## Write a Python function that takes in two arrays of data and calculates the F-value for a variance ratio test. The function should return the F-value and the corresponding p-value for the test."
   ]
  },
  {
   "cell_type": "code",
   "execution_count": 2,
   "id": "1e84d86e-eac8-4446-b163-a6a8b15aeeb8",
   "metadata": {},
   "outputs": [
    {
     "name": "stdout",
     "output_type": "stream",
     "text": [
      "F-value: 1.7\n",
      "p-value: 0.30991210689427423\n"
     ]
    }
   ],
   "source": [
    "import numpy as np\n",
    "from scipy.stats import f\n",
    "def variance_ratio_test(data1, data2):\n",
    "    var1 = np.var(data1, ddof=1)\n",
    "    var2 = np.var(data2, ddof=1)\n",
    "    F = var1 / var2\n",
    "    df1 = len(data1) - 1\n",
    "    df2 = len(data2) - 1\n",
    "    p_value = f.sf(F, df1, df2)\n",
    "    return F, p_value\n",
    "data1 = [10, 12, 15, 18, 20]\n",
    "data2 = [8, 10, 12, 14, 16]\n",
    "F, p_value = variance_ratio_test(data1, data2)\n",
    "print(\"F-value:\", F)\n",
    "print(\"p-value:\", p_value)"
   ]
  },
  {
   "cell_type": "markdown",
   "id": "84a8b6e5-318c-4f0d-a2bb-ee73514ed708",
   "metadata": {},
   "source": [
    "# Question.2"
   ]
  },
  {
   "cell_type": "markdown",
   "id": "aa172cd2-a5fb-4151-a9d0-194034147ed0",
   "metadata": {},
   "source": [
    "## Given a significance level of 0.05 and the degrees of freedom for the numerator and denominator of an F-distribution, write a Python function that returns the critical F-value for a two-tailed test."
   ]
  },
  {
   "cell_type": "code",
   "execution_count": 3,
   "id": "df6fb51e-c102-422b-a531-277d9ea9be9b",
   "metadata": {},
   "outputs": [
    {
     "name": "stdout",
     "output_type": "stream",
     "text": [
      "Critical F-value: 3.8586986662732143\n"
     ]
    }
   ],
   "source": [
    "from scipy.stats import f\n",
    "\n",
    "def critical_f_value(alpha, dfn, dfd):\n",
    "    # Calculate the critical F-value\n",
    "    f_critical = f.ppf(1 - alpha/2, dfn, dfd)\n",
    "\n",
    "    return f_critical\n",
    "alpha = 0.05\n",
    "dfn = 3\n",
    "dfd = 20\n",
    "\n",
    "f_critical = critical_f_value(alpha, dfn, dfd)\n",
    "print(\"Critical F-value:\", f_critical)\n"
   ]
  },
  {
   "cell_type": "markdown",
   "id": "44dbfe86-8e9f-494a-8384-9eb116f9bbab",
   "metadata": {},
   "source": [
    "# Question.3"
   ]
  },
  {
   "cell_type": "markdown",
   "id": "04d5d0c2-5781-423c-9042-e7f37869ccb3",
   "metadata": {},
   "source": [
    "##  Write a Python program that generates random samples from two normal distributions with known variances and uses an F-test to determine if the variances are equal. The program should output the F- value, degrees of freedom, and p-value for the test."
   ]
  },
  {
   "cell_type": "code",
   "execution_count": 5,
   "id": "425cc388-b63c-4cdd-935a-822abfc31a79",
   "metadata": {},
   "outputs": [
    {
     "name": "stdout",
     "output_type": "stream",
     "text": [
      "F-value: 0.9488955188618912\n",
      "Degrees of freedom: 99 , 99\n",
      "p-value: 0.6026819440880501\n"
     ]
    }
   ],
   "source": [
    "import numpy as np\n",
    "from scipy.stats import f\n",
    "def variance_equality_test(data1, data2):\n",
    "    var1 = np.var(data1, ddof=1)\n",
    "    var2 = np.var(data2, ddof=1)\n",
    "    F = var1 / var2\n",
    "    df1 = len(data1) - 1\n",
    "    df2 = len(data2) - 1\n",
    "    p_value = f.sf(F, df1, df2)\n",
    "    return F, df1, df2, p_value\n",
    "np.random.seed(0)\n",
    "data1 = np.random.normal(loc=0, scale=1, size=100)\n",
    "data2 = np.random.normal(loc=0, scale=1, size=100)\n",
    "F, df1, df2, p_value = variance_equality_test(data1, data2)\n",
    "print(\"F-value:\", F)\n",
    "print(\"Degrees of freedom:\", df1, \",\", df2)\n",
    "print(\"p-value:\", p_value)\n"
   ]
  },
  {
   "cell_type": "markdown",
   "id": "8dcda457-da20-4540-8d8b-d6f279f3d9ef",
   "metadata": {},
   "source": [
    "# Question.4"
   ]
  },
  {
   "cell_type": "markdown",
   "id": "8e409095-a76b-4f89-b62c-1ac54805b68d",
   "metadata": {},
   "source": [
    "## The variances of two populations are known to be 10 and 15. A sample of 12 observations is taken from each population. Conduct an F-test at the 5% significance level to determine if the variances are significantly different."
   ]
  },
  {
   "cell_type": "code",
   "execution_count": 6,
   "id": "af171bb1-5739-44f6-ade0-1909e866f100",
   "metadata": {},
   "outputs": [
    {
     "name": "stdout",
     "output_type": "stream",
     "text": [
      "F-statistic: 0.6666666666666666\n",
      "Degrees of freedom: 11 , 11\n",
      "p-value: 1.4876102012642005\n"
     ]
    }
   ],
   "source": [
    "from scipy.stats import f\n",
    "variance1 = 10\n",
    "variance2 = 15\n",
    "n1 = 12\n",
    "n2 = 12\n",
    "F = variance1 / variance2\n",
    "df1 = n2 - 1\n",
    "df2 = n1 - 1\n",
    "p_value = 2 * (1 - f.cdf(F, df1, df2))\n",
    "\n",
    "print(\"F-statistic:\", F)\n",
    "print(\"Degrees of freedom:\", df1, \",\", df2)\n",
    "print(\"p-value:\", p_value)\n"
   ]
  },
  {
   "cell_type": "markdown",
   "id": "4234d806-8b2d-473e-9e6d-2c916d1e5540",
   "metadata": {},
   "source": [
    "# Question.5"
   ]
  },
  {
   "cell_type": "markdown",
   "id": "efc8659a-69e7-489a-ad90-730cc1bc76e3",
   "metadata": {},
   "source": [
    "##  A manufacturer claims that the variance of the diameter of a certain product is 0.005. A sample of 25 products is taken, and the sample variance is found to be 0.006. Conduct an F-test at the 1% significance level to determine if the claim is justified."
   ]
  },
  {
   "cell_type": "code",
   "execution_count": 7,
   "id": "c211b4b1-d5d3-4f0b-bc0b-aeeecbdd3c89",
   "metadata": {},
   "outputs": [
    {
     "name": "stdout",
     "output_type": "stream",
     "text": [
      "F-statistic: 1.2\n",
      "Degrees of freedom: 24 , 24\n",
      "p-value: 0.6587309365634488\n"
     ]
    }
   ],
   "source": [
    "from scipy.stats import f\n",
    "claimed_variance = 0.005\n",
    "sample_variance = 0.006\n",
    "n = 25\n",
    "F = sample_variance / claimed_variance\n",
    "df1 = n - 1\n",
    "df2 = n - 1\n",
    "p_value = 2 * (1 - f.cdf(F, df1, df2))\n",
    "print(\"F-statistic:\", F)\n",
    "print(\"Degrees of freedom:\", df1, \",\", df2)\n",
    "print(\"p-value:\", p_value)\n"
   ]
  },
  {
   "cell_type": "markdown",
   "id": "6e218096-4729-43b0-acac-4965990abab5",
   "metadata": {},
   "source": [
    "# Question.6"
   ]
  },
  {
   "cell_type": "markdown",
   "id": "ae381799-068d-4cbf-8426-8093ec089688",
   "metadata": {},
   "source": [
    "## Write a Python function that takes in the degrees of freedom for the numerator and denominator of an F-distribution and calculates the mean and variance of the distribution. The function should return the mean and variance as a tuple."
   ]
  },
  {
   "cell_type": "code",
   "execution_count": 8,
   "id": "48866c61-df9d-4d5b-b5e4-ccbf88a8c37e",
   "metadata": {},
   "outputs": [
    {
     "name": "stdout",
     "output_type": "stream",
     "text": [
      "Mean: 1.25\n",
      "Variance: 1.3541666666666667\n"
     ]
    }
   ],
   "source": [
    "def f_distribution_mean_variance(df1, df2):\n",
    "    mean = df2 / (df2 - 2)\n",
    "    variance = (2 * (df2 ** 2) * (df1 + df2 - 2)) / ((df1 * (df2 - 2) ** 2 * (df2 - 4)))\n",
    "    return mean, variance\n",
    "df1 = 5\n",
    "df2 = 10\n",
    "\n",
    "mean, variance = f_distribution_mean_variance(df1, df2)\n",
    "print(\"Mean:\", mean)\n",
    "print(\"Variance:\", variance)\n"
   ]
  },
  {
   "cell_type": "markdown",
   "id": "be117e9f-2172-41b4-a972-61bc0ca62a47",
   "metadata": {},
   "source": [
    "# Question.7"
   ]
  },
  {
   "cell_type": "markdown",
   "id": "464fd98b-7aa4-47c9-9c9b-865e152b2a05",
   "metadata": {},
   "source": [
    "## A random sample of 10 measurements is taken from a normal population with unknown variance. The sample variance is found to be 25. Another random sample of 15 measurements is taken from another normal population with unknown variance, and the sample variance is found to be 20. Conduct an F-test at the 10% significance level to determine if the variances are significantly different."
   ]
  },
  {
   "cell_type": "code",
   "execution_count": 9,
   "id": "07c30846-65e7-4af2-bfed-29b719f64632",
   "metadata": {},
   "outputs": [
    {
     "name": "stdout",
     "output_type": "stream",
     "text": [
      "F-statistic: 1.25\n",
      "Degrees of freedom: 14 , 9\n",
      "p-value: 0.7537416997292505\n"
     ]
    }
   ],
   "source": [
    "from scipy.stats import f\n",
    "\n",
    "# Sample variances\n",
    "sample_variance1 = 25\n",
    "sample_variance2 = 20\n",
    "\n",
    "# Sample sizes\n",
    "n1 = 10\n",
    "n2 = 15\n",
    "\n",
    "# Calculate F-statistic\n",
    "F = sample_variance1 / sample_variance2\n",
    "\n",
    "# Calculate degrees of freedom\n",
    "df1 = n2 - 1\n",
    "df2 = n1 - 1\n",
    "\n",
    "# Calculate p-value\n",
    "p_value = 2 * (1 - f.cdf(F, df1, df2))\n",
    "\n",
    "# Print the results\n",
    "print(\"F-statistic:\", F)\n",
    "print(\"Degrees of freedom:\", df1, \",\", df2)\n",
    "print(\"p-value:\", p_value)\n"
   ]
  },
  {
   "cell_type": "markdown",
   "id": "38614178-37c0-413c-8da8-e471dec02bea",
   "metadata": {},
   "source": [
    "# Question.8"
   ]
  },
  {
   "cell_type": "markdown",
   "id": "2da26685-a806-446b-bbf7-311caad1c0e1",
   "metadata": {},
   "source": [
    "## The following data represent the waiting times in minutes at two different restaurants on a Saturday night: Restaurant A: 24, 25, 28, 23, 22, 20, 27; Restaurant B: 31, 33, 35, 30, 32, 36. Conduct an F-test at the 5% significance level to determine if the variances are significantly different."
   ]
  },
  {
   "cell_type": "code",
   "execution_count": 10,
   "id": "28a63cfe-073f-471f-9dde-92d023518148",
   "metadata": {},
   "outputs": [
    {
     "name": "stdout",
     "output_type": "stream",
     "text": [
      "F-statistic: 1.4551907719609583\n",
      "Degrees of freedom: 6 , 5\n",
      "p-value: 0.6974815747937484\n"
     ]
    }
   ],
   "source": [
    "import numpy as np\n",
    "from scipy.stats import f\n",
    "\n",
    "# Waiting times at Restaurant A and B\n",
    "data_a = np.array([24, 25, 28, 23, 22, 20, 27])\n",
    "data_b = np.array([31, 33, 35, 30, 32, 36])\n",
    "\n",
    "# Calculate sample variances\n",
    "var_a = np.var(data_a, ddof=1)\n",
    "var_b = np.var(data_b, ddof=1)\n",
    "\n",
    "# Calculate F-statistic\n",
    "F = var_a / var_b\n",
    "\n",
    "# Calculate degrees of freedom\n",
    "df1 = len(data_a) - 1\n",
    "df2 = len(data_b) - 1\n",
    "\n",
    "# Calculate p-value\n",
    "p_value = 2 * (1 - f.cdf(F, df1, df2))\n",
    "\n",
    "# Print the results\n",
    "print(\"F-statistic:\", F)\n",
    "print(\"Degrees of freedom:\", df1, \",\", df2)\n",
    "print(\"p-value:\", p_value)\n"
   ]
  },
  {
   "cell_type": "markdown",
   "id": "f4adc6ff-30fb-4193-97da-bba619373988",
   "metadata": {},
   "source": [
    "# Question.9"
   ]
  },
  {
   "cell_type": "markdown",
   "id": "033a3b47-64de-4ab0-8e82-6a5b79692439",
   "metadata": {},
   "source": [
    "##  The following data represent the test scores of two groups of students: Group A: 80, 85, 90, 92, 87, 83; Group B: 75, 78, 82, 79, 81, 84. Conduct an F-test at the 1% significance level to determine if the variances are significantly different."
   ]
  },
  {
   "cell_type": "raw",
   "id": "0e290137-2f23-41e1-9d99-aed2ccfce9f9",
   "metadata": {},
   "source": [
    "To conduct an F-test to determine if the variances of two groups are significantly different, we follow these steps:\n",
    "\n",
    "Step 1: Define the null and alternative hypotheses:\n",
    "- Null Hypothesis (H₀): The variances of Group A and Group B are equal.\n",
    "- Alternative Hypothesis (H₁): The variances of Group A and Group B are significantly different.\n",
    "\n",
    "Step 2: Calculate the variances of the two groups.\n",
    "Group A:\n",
    "Mean (x̄₁) = (80 + 85 + 90 + 92 + 87 + 83) / 6 = 87.83\n",
    "Sum of Squares (SS₁) = (80 - 87.83)² + (85 - 87.83)² + (90 - 87.83)² + (92 - 87.83)² + (87 - 87.83)² + (83 - 87.83)² = 156.5\n",
    "Variance (s₁²) = SS₁ / (n₁ - 1) = 156.5 / 5 ≈ 31.3\n",
    "\n",
    "Group B:\n",
    "Mean (x̄₂) = (75 + 78 + 82 + 79 + 81 + 84) / 6 = 80.83\n",
    "Sum of Squares (SS₂) = (75 - 80.83)² + (78 - 80.83)² + (82 - 80.83)² + (79 - 80.83)² + (81 - 80.83)² + (84 - 80.83)² = 75.5\n",
    "Variance (s₂²) = SS₂ / (n₂ - 1) = 75.5 / 5 ≈ 15.1\n",
    "\n",
    "Step 3: Calculate the F-test statistic.\n",
    "F = s₁² / s₂² = 31.3 / 15.1 ≈ 2.0728\n",
    "\n",
    "Step 4: Determine the critical F-value from the F-distribution table or calculator at the 1% significance level. Since the group sizes are both 6 and the degrees of freedom for Group A and Group B are 5, the critical F-value is approximately 6.61.\n",
    "\n",
    "Step 5: Compare the calculated F-value to the critical F-value.\n",
    "Since the calculated F-value (2.0728) is less than the critical F-value (6.61), we do not reject the null hypothesis.\n",
    "\n",
    "Step 6: Interpret the results.\n",
    "At the 1% significance level, we do not have enough evidence to conclude that the variances of Group A and Group B are significantly different.\n",
    "\n",
    "Therefore, based on the F-test, there is no significant difference in the variances of the two groups."
   ]
  }
 ],
 "metadata": {
  "kernelspec": {
   "display_name": "Python 3 (ipykernel)",
   "language": "python",
   "name": "python3"
  },
  "language_info": {
   "codemirror_mode": {
    "name": "ipython",
    "version": 3
   },
   "file_extension": ".py",
   "mimetype": "text/x-python",
   "name": "python",
   "nbconvert_exporter": "python",
   "pygments_lexer": "ipython3",
   "version": "3.10.8"
  }
 },
 "nbformat": 4,
 "nbformat_minor": 5
}
