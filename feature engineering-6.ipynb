{
 "cells": [
  {
   "cell_type": "markdown",
   "id": "57bdd109-1ebf-4983-a166-3572fe03d3ec",
   "metadata": {},
   "source": [
    "# Question.1"
   ]
  },
  {
   "cell_type": "markdown",
   "id": "b7da411a-270b-4dac-85a8-585dd5bb096b",
   "metadata": {},
   "source": [
    "## Pearson correlation coefficient is a measure of the linear relationship between two variables. Suppose you have collected data on the amount of time students spend studying for an exam and their final exam scores. Calculate the Pearson correlation coefficient between these two variables and interpret the result."
   ]
  },
  {
   "cell_type": "markdown",
   "id": "3e0f9bef-3ac6-40d0-a1a2-dee6225674da",
   "metadata": {},
   "source": [
    "To calculate the Pearson correlation coefficient between the amount of time students spend studying for an exam and their final exam scores, follow these steps:\n",
    "Step 1: Collect the data\n",
    "Gather the data on the amount of time each student spent studying and their corresponding final exam scores. Make sure you have paired data points for each student, i.e., the amount of time studied and the corresponding exam score for that student.\n",
    "Step 2: Compute the means of both variables\n",
    "Calculate the mean of the amount of time studied (let's call it x̄) and the mean of the exam scores (let's call it ȳ).\n",
    "Step 3: Calculate the standard deviation of both variables\n",
    "Compute the standard deviation of the amount of time studied (let's call it sₓ) and the standard deviation of the exam scores (let's call it sȳ).\n",
    "Step 4: Calculate the sum of the products of the z-scores\n",
    "For each data point, convert the amount of time studied (x) and the exam score (y) into z-scores using the following formulas:\n",
    "zₓ = (x - x̄) / sₓ\n",
    "zȳ = (y - ȳ) / sȳ\n",
    "Then, calculate the sum of the products of these z-scores for all data points.\n",
    "Step 5: Compute the Pearson correlation coefficient\n",
    "The Pearson correlation coefficient (r) can be calculated using the formula:\n",
    "r = Σ(zₓ * zȳ) / (n - 1)\n",
    "Where n is the number of data points (number of students in this case).\n",
    "Step 6: Interpret the result\n",
    "The Pearson correlation coefficient (r) ranges from -1 to 1:\n",
    "- If r is close to 1, it indicates a strong positive linear relationship between the amount of time studied and exam scores. This means that as the amount of time studied increases, the exam scores tend to increase as well.\n",
    "- If r is close to -1, it indicates a strong negative linear relationship. In this case, as the amount of time studied increases, the exam scores tend to decrease.\n",
    "- If r is close to 0, it indicates a weak or no linear relationship between the two variables. The amount of time studied and exam scores do not have a significant linear connection."
   ]
  },
  {
   "cell_type": "markdown",
   "id": "4088af83-b1e3-47fb-a7e4-a035b7b22b64",
   "metadata": {},
   "source": [
    "# Question.2"
   ]
  },
  {
   "cell_type": "markdown",
   "id": "2db34871-eeed-498e-8794-94c473a2aa1c",
   "metadata": {},
   "source": [
    "## Spearman's rank correlation is a measure of the monotonic relationship between two variables. Suppose you have collected data on the amount of sleep individuals get each night and their overall job satisfaction level on a scale of 1 to 10. Calculate the Spearman's rank correlation between these two variables and interpret the result."
   ]
  },
  {
   "cell_type": "markdown",
   "id": "3677ab23-0efa-4a8c-ad27-7c14b700c976",
   "metadata": {},
   "source": [
    "To calculate Spearman's rank correlation between the amount of sleep individuals get each night and their overall job satisfaction level, follow these steps:\n",
    "Step 1: Collect the data\n",
    "Gather the data on the amount of sleep each individual gets and their corresponding job satisfaction levels. Make sure you have paired data points for each individual, i.e., the amount of sleep and the corresponding job satisfaction level for that person.\n",
    "Step 2: Rank the data\n",
    "For each variable (amount of sleep and job satisfaction), rank the data from lowest to highest. Assign ranks starting from 1 for the lowest value, 2 for the next value, and so on. If there are ties (i.e., repeated values), assign the average rank to those tied data points.\n",
    "Step 3: Compute the differences in ranks\n",
    "For each individual, calculate the difference between their ranks for the amount of sleep and their ranks for job satisfaction.\n",
    "Step 4: Calculate the Spearman's rank correlation coefficient\n",
    "Spearman's rank correlation coefficient (ρ) can be calculated using the formula:\n",
    "ρ = 1 - (6 * Σ(d²)) / (n * (n² - 1))\n",
    "Where d is the difference in ranks for each individual, Σ represents the summation (sum of all differences squared), and n is the number of data points (number of individuals in this case).\n",
    "Step 5: Interpret the result\n",
    "The Spearman's rank correlation coefficient (ρ) ranges from -1 to 1:\n",
    "- If ρ is close to 1, it indicates a strong positive monotonic relationship between the amount of sleep and job satisfaction. This means that as the amount of sleep increases, the job satisfaction levels tend to increase as well, and vice versa.\n",
    "- If ρ is close to -1, it indicates a strong negative monotonic relationship. In this case, as the amount of sleep increases, the job satisfaction levels tend to decrease, and vice versa.\n",
    "- If ρ is close to 0, it indicates a weak or no monotonic relationship between the two variables. The amount of sleep and job satisfaction do not have a significant monotonic association."
   ]
  },
  {
   "cell_type": "markdown",
   "id": "c6f6ccb3-8051-430a-9823-e3c28ec81900",
   "metadata": {},
   "source": [
    "# Question.3"
   ]
  },
  {
   "cell_type": "markdown",
   "id": "2f9bfdc2-939d-4511-b82a-4f411ccf5253",
   "metadata": {},
   "source": [
    "## Suppose you are conducting a study to examine the relationship between the number of hours of exercise per week and body mass index (BMI) in a sample of adults. You collected data on both variables for 50 participants. Calculate the Pearson correlation coefficient and the Spearman's rank correlation between these two variables and compare the results."
   ]
  },
  {
   "cell_type": "markdown",
   "id": "8acd9bab-dcff-4944-b4e8-0e8b4ef9fd9a",
   "metadata": {},
   "source": [
    "To calculate both the Pearson correlation coefficient and the Spearman's rank correlation for the relationship between the number of hours of exercise per week and body mass index (BMI) in a sample of adults, follow these steps:\n",
    "Step 1: Collect the data\n",
    "Gather the data on the number of hours of exercise per week and the corresponding BMI for each of the 50 participants.\n",
    "Step 2: Calculate the Pearson correlation coefficient\n",
    "The Pearson correlation coefficient (r) can be calculated using the formula:\n",
    "r = Σ((x - x̄)(y - ȳ)) / sqrt(Σ(x - x̄)² * Σ(y - ȳ)²)\n",
    "Where x and y are the values of the number of hours of exercise per week and BMI, respectively, x̄ and ȳ are their respective means.\n",
    "Step 3: Calculate the Spearman's rank correlation coefficient\n",
    "For each variable (number of hours of exercise and BMI), rank the data from lowest to highest. Then, calculate the differences in ranks (d) for each participant.\n",
    "Next, calculate the Spearman's rank correlation coefficient (ρ) using the formula:\n",
    "ρ = 1 - (6 * Σ(d²)) / (n * (n² - 1))\n",
    "Where d is the difference in ranks for each participant, and n is the number of participants (in this case, 50).\n",
    "Step 4: Interpret the results\n",
    "Compare the results of both correlation coefficients:\n",
    "- If the Pearson correlation coefficient (r) is close to 1 or -1, it indicates a strong linear relationship between the number of hours of exercise per week and BMI. Positive values of r indicate that as the number of hours of exercise increases, BMI tends to decrease, and negative values indicate that as exercise increases, BMI tends to increase.\n",
    "- If the Spearman's rank correlation coefficient (ρ) is close to 1 or -1, it indicates a strong monotonic relationship between the number of hours of exercise per week and BMI. Positive values of ρ indicate that as the number of hours of exercise increases, BMI tends to decrease, and negative values indicate that as exercise increases, BMI tends to increase. Spearman's rank correlation is sensitive to the ordering of data points and is suitable for assessing monotonic relationships.\n",
    "- If both correlation coefficients have similar magnitudes and signs, it suggests that there is a consistent relationship between the variables, whether linear or monotonic."
   ]
  },
  {
   "cell_type": "markdown",
   "id": "f796b084-e9c6-4cde-a33c-73131e3c677a",
   "metadata": {},
   "source": [
    "# Question.4"
   ]
  },
  {
   "cell_type": "markdown",
   "id": "cbad1378-d972-473a-9ef2-9b237545ceaa",
   "metadata": {},
   "source": [
    "## A researcher is interested in examining the relationship between the number of hours individuals spend watching television per day and their level of physical activity. The researcher collected data on both variables from a sample of 50 participants. Calculate the Pearson correlation coefficient between these two variables."
   ]
  },
  {
   "cell_type": "markdown",
   "id": "06bcdeb2-937c-43e9-8eeb-0fe92fd7e1a4",
   "metadata": {},
   "source": [
    "To calculate the Pearson correlation coefficient between the number of hours individuals spend watching television per day and their level of physical activity, follow these steps:\n",
    "Step 1: Collect the data\n",
    "Gather the data on the number of hours each participant spends watching television per day and their corresponding level of physical activity. Make sure you have paired data points for each participant, i.e., the number of hours of television watched and the corresponding physical activity level for that person.\n",
    "Step 2: Compute the means of both variables\n",
    "Calculate the mean of the number of hours of television watched (let's call it x̄) and the mean of the physical activity level (let's call it ȳ).\n",
    "Step 3: Calculate the standard deviation of both variables\n",
    "Compute the standard deviation of the number of hours of television watched (let's call it sₓ) and the standard deviation of the physical activity level (let's call it sȳ).\n",
    "Step 4: Calculate the sum of the products of the z-scores\n",
    "For each data point, convert the number of hours of television watched (x) and the physical activity level (y) into z-scores using the following formulas:\n",
    "zₓ = (x - x̄) / sₓ\n",
    "zȳ = (y - ȳ) / sȳ\n",
    "Then, calculate the sum of the products of these z-scores for all data points.\n",
    "Step 5: Compute the Pearson correlation coefficient\n",
    "The Pearson correlation coefficient (r) can be calculated using the formula:\n",
    "r = Σ(zₓ * zȳ) / (n - 1)\n",
    "Where n is the number of data points (number of participants in this case), and Σ represents the summation (sum of all zₓ * zȳ products).\n",
    "Step 6: Interpret the result\n",
    "The Pearson correlation coefficient (r) ranges from -1 to 1:\n",
    "- If r is close to 1, it indicates a strong positive linear relationship between the number of hours of television watched and the level of physical activity. This means that as the number of hours of television watched per day increases, the level of physical activity tends to increase as well.\n",
    "- If r is close to -1, it indicates a strong negative linear relationship. In this case, as the number of hours of television watched per day increases, the level of physical activity tends to decrease.\n",
    "- If r is close to 0, it indicates a weak or no linear relationship between the two variables. The number of hours of television watched and the level of physical activity do not have a significant linear association."
   ]
  },
  {
   "cell_type": "markdown",
   "id": "0d3f6eb3-0710-49e1-b8c7-525669c95bb7",
   "metadata": {},
   "source": [
    "# Question.5"
   ]
  },
  {
   "cell_type": "markdown",
   "id": "3f94d794-3fcd-4b22-a8c7-c8632f2face9",
   "metadata": {},
   "source": [
    "## A survey was conducted to examine the relationship between age and preference for a particular\n",
    "brand of soft drink. The survey results are shown below:\n",
    "Age(Years)                       soft drinks perference\n",
    "25                                                          coke\n",
    "42                                                         pepsi\n",
    "37                                                          mountain dew\n",
    "19                                                           coke\n",
    "31                                                            pepsi\n",
    "28                                                          coke"
   ]
  },
  {
   "cell_type": "raw",
   "id": "b67d2ae1-fa89-4dff-8ac5-6c618205bfa7",
   "metadata": {},
   "source": [
    "To examine the relationship between age and preference for a particular brand of soft drink based on the given survey results, we need to analyze the data to see if there are any patterns or trends. It seems there are three variables: Age (in years), Soft Drink Preference (e.g., coke, pepsi, mountain dew), and possibly the number of individuals for each preference category. However, the number of individuals for each preference category is not provided. Assuming that there is one individual per preference, we can summarize the data as follows:\n",
    "Age (Years) | Soft Drink Preference\n",
    "---------------------------------\n",
    "25         | Coke\n",
    "42         | Pepsi\n",
    "37         | Mountain Dew\n",
    "19         | Coke\n",
    "31         | Pepsi\n",
    "28         | Coke\n",
    "To examine the relationship between age and soft drink preference, we can use various statistical methods, such as cross-tabulation, to identify any associations between the two variables. Here's a simple way to analyze the data:\n",
    "1. Create a Cross-tabulation (Contingency Table):\n",
    "Create a table to show the frequency distribution of each age group's preference for the soft drink brands:\n",
    "\n",
    "         | Coke | Pepsi | Mountain Dew\n",
    "-------------------------------------\n",
    "Age < 20 | 1    | 0     | 0\n",
    "Age 20-30| 2    | 1     | 0\n",
    "Age 30-40| 1    | 1     | 0\n",
    "Age > 40 | 0    | 1     | 1\n",
    "2. Analyze the Cross-tabulation:\n",
    "From the cross-tabulation, we can observe how many individuals from each age group preferred each soft drink brand. However, to determine the strength and significance of the relationship between age and soft drink preference, more advanced statistical methods like chi-square test or logistic regression might be used.\n",
    "Keep in mind that the sample size is small, and the data provided is limited. To draw more robust conclusions and make generalizations about the population, a larger and more representative sample would be required. Additionally, the survey results might not reflect the actual preferences of the entire population as it only represents a subset of individuals."
   ]
  },
  {
   "cell_type": "markdown",
   "id": "5e7f2a37-01f7-42c8-a9a6-dbcbd26c872a",
   "metadata": {},
   "source": [
    "# Question.6"
   ]
  },
  {
   "cell_type": "markdown",
   "id": "23900c76-e021-4baa-b39f-171d0da9d8e9",
   "metadata": {},
   "source": [
    "## A company is interested in examining the relationship between the number of sales calls made per day and the number of sales made per week. The company collected data on both variables from a sample of 30 sales representatives. Calculate the Pearson correlation coefficient between these two variables."
   ]
  },
  {
   "cell_type": "markdown",
   "id": "f1ac48d8-0f0a-4293-b76e-11ba4005f43d",
   "metadata": {},
   "source": [
    "To calculate the Pearson correlation coefficient between the number of sales calls made per day and the number of sales made per week for a sample of 30 sales representatives, follow these steps:\n",
    "Step 1: Collect the data\n",
    "Gather the data on the number of sales calls made per day and the corresponding number of sales made per week for each of the 30 sales representatives.\n",
    "Step 2: Compute the means of both variables\n",
    "Calculate the mean of the number of sales calls made per day (let's call it x̄) and the mean of the number of sales made per week (let's call it ȳ).\n",
    "Step 3: Calculate the standard deviation of both variables\n",
    "Compute the standard deviation of the number of sales calls made per day (let's call it sₓ) and the standard deviation of the number of sales made per week (let's call it sȳ).\n",
    "Step 4: Calculate the sum of the products of the z-scores\n",
    "For each data point, convert the number of sales calls made per day (x) and the number of sales made per week (y) into z-scores using the following formulas:\n",
    "zₓ = (x - x̄) / sₓ\n",
    "zȳ = (y - ȳ) / sȳ\n",
    "Then, calculate the sum of the products of these z-scores for all data points.\n",
    "Step 5: Compute the Pearson correlation coefficient\n",
    "The Pearson correlation coefficient (r) can be calculated using the formula:\n",
    "r = Σ(zₓ * zȳ) / (n - 1)\n",
    "Where n is the number of data points (number of sales representatives in this case), and Σ represents the summation (sum of all zₓ * zȳ products).\n",
    "Step 6: Interpret the result\n",
    "The Pearson correlation coefficient (r) ranges from -1 to 1:\n",
    "- If r is close to 1, it indicates a strong positive linear relationship between the number of sales calls made per day and the number of sales made per week. This means that as the number of sales calls per day increases, the number of sales per week tends to increase as well.\n",
    "- If r is close to -1, it indicates a strong negative linear relationship. In this case, as the number of sales calls per day increases, the number of sales per week tends to decrease.\n",
    "- If r is close to 0, it indicates a weak or no linear relationship between the two variables. The number of sales calls per day and the number of sales per week do not have a significant linear association."
   ]
  },
  {
   "cell_type": "code",
   "execution_count": null,
   "id": "f228c59b-5d82-44f2-ab56-6e27951aae81",
   "metadata": {},
   "outputs": [],
   "source": []
  }
 ],
 "metadata": {
  "kernelspec": {
   "display_name": "Python 3 (ipykernel)",
   "language": "python",
   "name": "python3"
  },
  "language_info": {
   "codemirror_mode": {
    "name": "ipython",
    "version": 3
   },
   "file_extension": ".py",
   "mimetype": "text/x-python",
   "name": "python",
   "nbconvert_exporter": "python",
   "pygments_lexer": "ipython3",
   "version": "3.10.8"
  }
 },
 "nbformat": 4,
 "nbformat_minor": 5
}
